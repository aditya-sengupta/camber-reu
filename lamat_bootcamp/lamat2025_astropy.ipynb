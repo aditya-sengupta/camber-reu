{
 "cells": [
  {
   "cell_type": "markdown",
   "id": "caef7173",
   "metadata": {
    "id": "caef7173"
   },
   "source": [
    "# Lamat 2024 Winter Bootcamp\n",
    "\n",
    "Some of this material was adapted from the Lamat 2023 Winter Bootcamp by Jules Fowler and Anne Dattilo.\n",
    "\n",
    "### Astropy\n",
    "\n",
    "Astropy is an Python library for all your astrophysical needs! These may include:\n",
    "\n",
    "- dealing with astronomical coordinate systems\n",
    "- handling physical quantities and units\n",
    "- using standard astronomical methods/statistical techniques\n",
    "- loading and saving files with astronomical data\n",
    "- and more!\n",
    "\n",
    "There's a lot you can do with astropy, and I'd recommend checking out their own tutorials at https://learn.astropy.org/ to see what might be relevant for you. I'm going to cover the two aspects of astropy I end up using the most: their units and constants system, and FITS files."
   ]
  },
  {
   "cell_type": "code",
   "execution_count": 1,
   "id": "a87b9734",
   "metadata": {
    "executionInfo": {
     "elapsed": 5,
     "status": "ok",
     "timestamp": 1705082122419,
     "user": {
      "displayName": "Aditya Sengupta",
      "userId": "05406841331172530634"
     },
     "user_tz": 480
    },
    "id": "a87b9734"
   },
   "outputs": [],
   "source": [
    "import astropy\n",
    "import numpy as np"
   ]
  },
  {
   "cell_type": "markdown",
   "id": "52ffc8a7",
   "metadata": {
    "id": "52ffc8a7"
   },
   "source": [
    "### Astropy Units and Constants\n",
    "\n",
    "It's really common for unit issues to give people the wrong answer in scientific computing, because it's often hard to keep track of what units everything's supposed to have in your head, and if you get one wrong it's hard to track it down. To remedy that, astropy provides a set of objects under `astropy.units` representing common units."
   ]
  },
  {
   "cell_type": "code",
   "execution_count": 2,
   "id": "5ab50339",
   "metadata": {
    "colab": {
     "base_uri": "https://localhost:8080/",
     "height": 37
    },
    "executionInfo": {
     "elapsed": 1132,
     "status": "ok",
     "timestamp": 1705082211902,
     "user": {
      "displayName": "Aditya Sengupta",
      "userId": "05406841331172530634"
     },
     "user_tz": 480
    },
    "id": "5ab50339",
    "outputId": "901e8249-46de-4913-d159-d2ceda9d7fa6"
   },
   "outputs": [
    {
     "data": {
      "text/latex": [
       "$\\mathrm{m}$"
      ],
      "text/plain": [
       "Unit(\"m\")"
      ]
     },
     "execution_count": 2,
     "metadata": {},
     "output_type": "execute_result"
    }
   ],
   "source": [
    "import astropy.units as u\n",
    "u.m"
   ]
  },
  {
   "cell_type": "markdown",
   "id": "88a3af78",
   "metadata": {
    "id": "88a3af78"
   },
   "source": [
    "These are a special type that's specific to astropy:"
   ]
  },
  {
   "cell_type": "code",
   "execution_count": 3,
   "id": "ac434bd5",
   "metadata": {
    "colab": {
     "base_uri": "https://localhost:8080/"
    },
    "executionInfo": {
     "elapsed": 774,
     "status": "ok",
     "timestamp": 1705082252094,
     "user": {
      "displayName": "Aditya Sengupta",
      "userId": "05406841331172530634"
     },
     "user_tz": 480
    },
    "id": "ac434bd5",
    "outputId": "40ab8a4e-3a45-4acd-a995-23945527bd88"
   },
   "outputs": [
    {
     "data": {
      "text/plain": [
       "(astropy.units.core.IrreducibleUnit, astropy.units.core.Unit)"
      ]
     },
     "execution_count": 3,
     "metadata": {},
     "output_type": "execute_result"
    }
   ],
   "source": [
    "type(u.m), type(u.erg)"
   ]
  },
  {
   "cell_type": "markdown",
   "id": "7868e5d2",
   "metadata": {
    "id": "7868e5d2"
   },
   "source": [
    "And there's a lot of them:"
   ]
  },
  {
   "cell_type": "code",
   "execution_count": 4,
   "id": "83beccc5",
   "metadata": {
    "colab": {
     "base_uri": "https://localhost:8080/"
    },
    "executionInfo": {
     "elapsed": 359,
     "status": "ok",
     "timestamp": 1705082331096,
     "user": {
      "displayName": "Aditya Sengupta",
      "userId": "05406841331172530634"
     },
     "user_tz": 480
    },
    "id": "83beccc5",
    "outputId": "7c9fba30-8f32-4867-a143-4dead78fa679"
   },
   "outputs": [
    {
     "data": {
      "text/plain": [
       "(Unit(\"s\"), Unit(\"cm\"), Unit(\"K\"), Unit(\"J\"), Unit(\"AU\"), Unit(\"pc\"))"
      ]
     },
     "execution_count": 4,
     "metadata": {},
     "output_type": "execute_result"
    }
   ],
   "source": [
    "u.s, u.cm, u.K, u.J, u.AU, u.pc"
   ]
  },
  {
   "cell_type": "markdown",
   "id": "b3e0abbf",
   "metadata": {
    "id": "b3e0abbf"
   },
   "source": [
    "If you want to see what one of them is (it's often hard to parse just off the abbreviation), you can either look up the documentation on the astropy website or access it using `help`:"
   ]
  },
  {
   "cell_type": "code",
   "execution_count": 5,
   "id": "faa9367b",
   "metadata": {
    "colab": {
     "base_uri": "https://localhost:8080/"
    },
    "executionInfo": {
     "elapsed": 3,
     "status": "ok",
     "timestamp": 1705082421110,
     "user": {
      "displayName": "Aditya Sengupta",
      "userId": "05406841331172530634"
     },
     "user_tz": 480
    },
    "id": "faa9367b",
    "outputId": "d103a949-1b14-4665-c1ea-656635246e14"
   },
   "outputs": [
    {
     "name": "stdout",
     "output_type": "stream",
     "text": [
      "Help on Unit in module astropy.units.core:\n",
      "\n",
      "Unit(\"J\")\n",
      "    Joule: energy\n",
      "\n"
     ]
    }
   ],
   "source": [
    "help(u.J)"
   ]
  },
  {
   "cell_type": "markdown",
   "id": "616be3bd",
   "metadata": {
    "id": "616be3bd"
   },
   "source": [
    "You can turn a number (float) into a `Quantity` object by multiplying a unit:"
   ]
  },
  {
   "cell_type": "code",
   "execution_count": 6,
   "id": "9885d97f",
   "metadata": {
    "colab": {
     "base_uri": "https://localhost:8080/",
     "height": 37
    },
    "executionInfo": {
     "elapsed": 300,
     "status": "ok",
     "timestamp": 1705082487435,
     "user": {
      "displayName": "Aditya Sengupta",
      "userId": "05406841331172530634"
     },
     "user_tz": 480
    },
    "id": "9885d97f",
    "outputId": "bd99e926-0193-40d0-bfd2-fe0d0a963860"
   },
   "outputs": [
    {
     "data": {
      "text/latex": [
       "$1 \\; \\mathrm{m}$"
      ],
      "text/plain": [
       "<Quantity 1. m>"
      ]
     },
     "execution_count": 6,
     "metadata": {},
     "output_type": "execute_result"
    }
   ],
   "source": [
    "d = 1.0 * u.m\n",
    "d"
   ]
  },
  {
   "cell_type": "code",
   "execution_count": 7,
   "id": "d4567042",
   "metadata": {
    "colab": {
     "base_uri": "https://localhost:8080/"
    },
    "executionInfo": {
     "elapsed": 4,
     "status": "ok",
     "timestamp": 1705082498551,
     "user": {
      "displayName": "Aditya Sengupta",
      "userId": "05406841331172530634"
     },
     "user_tz": 480
    },
    "id": "d4567042",
    "outputId": "1e36808e-d311-42c0-cc02-b46fbdbd2398"
   },
   "outputs": [
    {
     "data": {
      "text/plain": [
       "astropy.units.quantity.Quantity"
      ]
     },
     "execution_count": 7,
     "metadata": {},
     "output_type": "execute_result"
    }
   ],
   "source": [
    "type(d)"
   ]
  },
  {
   "cell_type": "markdown",
   "id": "1f0b6d03",
   "metadata": {
    "id": "1f0b6d03"
   },
   "source": [
    "These units work by only letting you do operations that make sense. For example, you can add together meters and meters:"
   ]
  },
  {
   "cell_type": "code",
   "execution_count": 8,
   "id": "6f09e678",
   "metadata": {
    "colab": {
     "base_uri": "https://localhost:8080/",
     "height": 37
    },
    "executionInfo": {
     "elapsed": 312,
     "status": "ok",
     "timestamp": 1705082593398,
     "user": {
      "displayName": "Aditya Sengupta",
      "userId": "05406841331172530634"
     },
     "user_tz": 480
    },
    "id": "6f09e678",
    "outputId": "825598ca-28ee-49db-e98b-17f490d9c233"
   },
   "outputs": [
    {
     "data": {
      "text/latex": [
       "$3 \\; \\mathrm{m}$"
      ],
      "text/plain": [
       "<Quantity 3. m>"
      ]
     },
     "execution_count": 8,
     "metadata": {},
     "output_type": "execute_result"
    }
   ],
   "source": [
    "1 * u.m + 2 * u.m"
   ]
  },
  {
   "cell_type": "markdown",
   "id": "9e00e157",
   "metadata": {
    "id": "9e00e157"
   },
   "source": [
    "Or different units of length:"
   ]
  },
  {
   "cell_type": "code",
   "execution_count": 9,
   "id": "aa96a5a4",
   "metadata": {
    "colab": {
     "base_uri": "https://localhost:8080/",
     "height": 37
    },
    "executionInfo": {
     "elapsed": 295,
     "status": "ok",
     "timestamp": 1705082597320,
     "user": {
      "displayName": "Aditya Sengupta",
      "userId": "05406841331172530634"
     },
     "user_tz": 480
    },
    "id": "aa96a5a4",
    "outputId": "131b01fd-0276-41d9-aa31-9fa002732e38"
   },
   "outputs": [
    {
     "data": {
      "text/latex": [
       "$1.5 \\; \\mathrm{m}$"
      ],
      "text/plain": [
       "<Quantity 1.5 m>"
      ]
     },
     "execution_count": 9,
     "metadata": {},
     "output_type": "execute_result"
    }
   ],
   "source": [
    "1 * u.m + 50 * u.cm"
   ]
  },
  {
   "cell_type": "code",
   "execution_count": 10,
   "id": "dee628a5",
   "metadata": {
    "id": "dee628a5"
   },
   "outputs": [
    {
     "data": {
      "text/latex": [
       "$1206.2648 \\; \\mathrm{AU}$"
      ],
      "text/plain": [
       "<Quantity 1206.26480625 AU>"
      ]
     },
     "execution_count": 10,
     "metadata": {},
     "output_type": "execute_result"
    }
   ],
   "source": [
    "1000 * u.AU + 0.001 * u.pc"
   ]
  },
  {
   "cell_type": "code",
   "execution_count": 11,
   "id": "17iRJxRC2B3r",
   "metadata": {
    "colab": {
     "base_uri": "https://localhost:8080/"
    },
    "executionInfo": {
     "elapsed": 305,
     "status": "ok",
     "timestamp": 1705082630101,
     "user": {
      "displayName": "Aditya Sengupta",
      "userId": "05406841331172530634"
     },
     "user_tz": 480
    },
    "id": "17iRJxRC2B3r",
    "outputId": "1fc41c4e-a5c2-4b7d-d4ef-13a170642da5"
   },
   "outputs": [
    {
     "name": "stdout",
     "output_type": "stream",
     "text": [
      "Help on Unit in module astropy.units.core:\n",
      "\n",
      "Unit(\"pc\")\n",
      "    parsec: approximately 3.26 light-years.\n",
      "\n"
     ]
    }
   ],
   "source": [
    "help(u.pc)"
   ]
  },
  {
   "cell_type": "markdown",
   "id": "5d0c906d",
   "metadata": {
    "id": "5d0c906d"
   },
   "source": [
    "And you can multiply anything:"
   ]
  },
  {
   "cell_type": "code",
   "execution_count": 12,
   "id": "1d508942",
   "metadata": {
    "colab": {
     "base_uri": "https://localhost:8080/",
     "height": 37
    },
    "executionInfo": {
     "elapsed": 7,
     "status": "ok",
     "timestamp": 1705082765223,
     "user": {
      "displayName": "Aditya Sengupta",
      "userId": "05406841331172530634"
     },
     "user_tz": 480
    },
    "id": "1d508942",
    "outputId": "dd41d2be-f1d1-4eee-b87a-2845ca4151b1"
   },
   "outputs": [
    {
     "data": {
      "text/latex": [
       "$4 \\; \\mathrm{J}$"
      ],
      "text/plain": [
       "<Quantity 4. J>"
      ]
     },
     "execution_count": 12,
     "metadata": {},
     "output_type": "execute_result"
    }
   ],
   "source": [
    "2 * u.J + 2 * u.kg * u.m ** 2 / u.s ** 2"
   ]
  },
  {
   "cell_type": "code",
   "execution_count": 13,
   "id": "999f37f2",
   "metadata": {
    "colab": {
     "base_uri": "https://localhost:8080/",
     "height": 37
    },
    "executionInfo": {
     "elapsed": 310,
     "status": "ok",
     "timestamp": 1705082782848,
     "user": {
      "displayName": "Aditya Sengupta",
      "userId": "05406841331172530634"
     },
     "user_tz": 480
    },
    "id": "999f37f2",
    "outputId": "d009ad4c-6074-4c41-a9f5-c79e1e32a830"
   },
   "outputs": [
    {
     "data": {
      "text/latex": [
       "$40000000 \\; \\mathrm{erg}$"
      ],
      "text/plain": [
       "<Quantity 40000000. erg>"
      ]
     },
     "execution_count": 13,
     "metadata": {},
     "output_type": "execute_result"
    }
   ],
   "source": [
    "(2 * u.kg * u.m ** 2 / u.s ** 2 + 2 * u.J).to(u.erg)"
   ]
  },
  {
   "cell_type": "markdown",
   "id": "98bff3a9",
   "metadata": {
    "id": "98bff3a9"
   },
   "source": [
    "But you can't add different things together:"
   ]
  },
  {
   "cell_type": "code",
   "execution_count": 14,
   "id": "afc4d41f",
   "metadata": {
    "colab": {
     "base_uri": "https://localhost:8080/",
     "height": 443
    },
    "executionInfo": {
     "elapsed": 323,
     "status": "error",
     "timestamp": 1705082804425,
     "user": {
      "displayName": "Aditya Sengupta",
      "userId": "05406841331172530634"
     },
     "user_tz": 480
    },
    "id": "afc4d41f",
    "outputId": "f2ad1241-ec8e-4cd9-85ca-3c7ce6fee4d4"
   },
   "outputs": [
    {
     "ename": "UnitConversionError",
     "evalue": "Can only apply 'add' function to quantities with compatible dimensions",
     "output_type": "error",
     "traceback": [
      "\u001b[0;31m---------------------------------------------------------------------------\u001b[0m",
      "\u001b[0;31mUnitConversionError\u001b[0m                       Traceback (most recent call last)",
      "File \u001b[0;32m/opt/conda/lib/python3.12/site-packages/astropy/units/quantity_helper/helpers.py:89\u001b[0m, in \u001b[0;36mget_converters_and_unit\u001b[0;34m(f, unit1, unit2)\u001b[0m\n\u001b[1;32m     88\u001b[0m \u001b[38;5;28;01mtry\u001b[39;00m:\n\u001b[0;32m---> 89\u001b[0m     converters[changeable] \u001b[38;5;241m=\u001b[39m \u001b[43mget_converter\u001b[49m\u001b[43m(\u001b[49m\u001b[43munit2\u001b[49m\u001b[43m,\u001b[49m\u001b[43m \u001b[49m\u001b[43munit1\u001b[49m\u001b[43m)\u001b[49m\n\u001b[1;32m     90\u001b[0m \u001b[38;5;28;01mexcept\u001b[39;00m UnitsError:\n",
      "File \u001b[0;32m/opt/conda/lib/python3.12/site-packages/astropy/units/quantity_helper/helpers.py:38\u001b[0m, in \u001b[0;36mget_converter\u001b[0;34m(from_unit, to_unit)\u001b[0m\n\u001b[1;32m     37\u001b[0m \u001b[38;5;28;01mtry\u001b[39;00m:\n\u001b[0;32m---> 38\u001b[0m     converter \u001b[38;5;241m=\u001b[39m \u001b[43mfrom_unit\u001b[49m\u001b[38;5;241;43m.\u001b[39;49m\u001b[43mget_converter\u001b[49m\u001b[43m(\u001b[49m\u001b[43mto_unit\u001b[49m\u001b[43m)\u001b[49m\n\u001b[1;32m     39\u001b[0m \u001b[38;5;28;01mexcept\u001b[39;00m \u001b[38;5;167;01mAttributeError\u001b[39;00m \u001b[38;5;28;01mas\u001b[39;00m exc:\n\u001b[1;32m     40\u001b[0m     \u001b[38;5;66;03m# Check for lack of unit only now, to avoid delay for cases where a unit\u001b[39;00m\n\u001b[1;32m     41\u001b[0m     \u001b[38;5;66;03m# was present. Note that cases where dimensionless is expected are\u001b[39;00m\n\u001b[1;32m     42\u001b[0m     \u001b[38;5;66;03m# already short-circuited; here, we cover just the case where, e.g., the\u001b[39;00m\n\u001b[1;32m     43\u001b[0m     \u001b[38;5;66;03m# user has done u.add_enabled_equivalencies(u.dimensionless_angles()).\u001b[39;00m\n",
      "File \u001b[0;32m/opt/conda/lib/python3.12/site-packages/astropy/units/core.py:1133\u001b[0m, in \u001b[0;36mUnitBase.get_converter\u001b[0;34m(self, other, equivalencies)\u001b[0m\n\u001b[1;32m   1131\u001b[0m                 \u001b[38;5;28;01mreturn\u001b[39;00m \u001b[38;5;28;01mlambda\u001b[39;00m v: b(converter(v))\n\u001b[0;32m-> 1133\u001b[0m \u001b[38;5;28;01mraise\u001b[39;00m exc\n",
      "File \u001b[0;32m/opt/conda/lib/python3.12/site-packages/astropy/units/core.py:1116\u001b[0m, in \u001b[0;36mUnitBase.get_converter\u001b[0;34m(self, other, equivalencies)\u001b[0m\n\u001b[1;32m   1115\u001b[0m \u001b[38;5;28;01mtry\u001b[39;00m:\n\u001b[0;32m-> 1116\u001b[0m     \u001b[38;5;28;01mreturn\u001b[39;00m \u001b[38;5;28;43mself\u001b[39;49m\u001b[38;5;241;43m.\u001b[39;49m\u001b[43m_apply_equivalencies\u001b[49m\u001b[43m(\u001b[49m\n\u001b[1;32m   1117\u001b[0m \u001b[43m        \u001b[49m\u001b[38;5;28;43mself\u001b[39;49m\u001b[43m,\u001b[49m\u001b[43m \u001b[49m\u001b[43mother\u001b[49m\u001b[43m,\u001b[49m\u001b[43m \u001b[49m\u001b[38;5;28;43mself\u001b[39;49m\u001b[38;5;241;43m.\u001b[39;49m\u001b[43m_normalize_equivalencies\u001b[49m\u001b[43m(\u001b[49m\u001b[43mequivalencies\u001b[49m\u001b[43m)\u001b[49m\n\u001b[1;32m   1118\u001b[0m \u001b[43m    \u001b[49m\u001b[43m)\u001b[49m\n\u001b[1;32m   1119\u001b[0m \u001b[38;5;28;01mexcept\u001b[39;00m UnitsError \u001b[38;5;28;01mas\u001b[39;00m exc:\n\u001b[1;32m   1120\u001b[0m     \u001b[38;5;66;03m# Last hope: maybe other knows how to do it?\u001b[39;00m\n\u001b[1;32m   1121\u001b[0m     \u001b[38;5;66;03m# We assume the equivalencies have the unit itself as first item.\u001b[39;00m\n\u001b[1;32m   1122\u001b[0m     \u001b[38;5;66;03m# TODO: maybe better for other to have a `_back_converter` method?\u001b[39;00m\n",
      "File \u001b[0;32m/opt/conda/lib/python3.12/site-packages/astropy/units/core.py:1067\u001b[0m, in \u001b[0;36mUnitBase._apply_equivalencies\u001b[0;34m(self, unit, other, equivalencies)\u001b[0m\n\u001b[1;32m   1065\u001b[0m other_str \u001b[38;5;241m=\u001b[39m get_err_str(other)\n\u001b[0;32m-> 1067\u001b[0m \u001b[38;5;28;01mraise\u001b[39;00m UnitConversionError(\u001b[38;5;124mf\u001b[39m\u001b[38;5;124m\"\u001b[39m\u001b[38;5;132;01m{\u001b[39;00munit_str\u001b[38;5;132;01m}\u001b[39;00m\u001b[38;5;124m and \u001b[39m\u001b[38;5;132;01m{\u001b[39;00mother_str\u001b[38;5;132;01m}\u001b[39;00m\u001b[38;5;124m are not convertible\u001b[39m\u001b[38;5;124m\"\u001b[39m)\n",
      "\u001b[0;31mUnitConversionError\u001b[0m: 'g' (mass) and 'm' (length) are not convertible",
      "\nDuring handling of the above exception, another exception occurred:\n",
      "\u001b[0;31mUnitConversionError\u001b[0m                       Traceback (most recent call last)",
      "Cell \u001b[0;32mIn[14], line 1\u001b[0m\n\u001b[0;32m----> 1\u001b[0m \u001b[38;5;241;43m1\u001b[39;49m\u001b[43m \u001b[49m\u001b[38;5;241;43m*\u001b[39;49m\u001b[43m \u001b[49m\u001b[43mu\u001b[49m\u001b[38;5;241;43m.\u001b[39;49m\u001b[43mm\u001b[49m\u001b[43m \u001b[49m\u001b[38;5;241;43m+\u001b[39;49m\u001b[43m \u001b[49m\u001b[38;5;241;43m2\u001b[39;49m\u001b[43m \u001b[49m\u001b[38;5;241;43m*\u001b[39;49m\u001b[43m \u001b[49m\u001b[43mu\u001b[49m\u001b[38;5;241;43m.\u001b[39;49m\u001b[43mg\u001b[49m\n",
      "File \u001b[0;32m/opt/conda/lib/python3.12/site-packages/astropy/units/quantity.py:683\u001b[0m, in \u001b[0;36mQuantity.__array_ufunc__\u001b[0;34m(self, function, method, *inputs, **kwargs)\u001b[0m\n\u001b[1;32m    681\u001b[0m     \u001b[38;5;28;01mreturn\u001b[39;00m \u001b[38;5;28mNotImplemented\u001b[39m\n\u001b[1;32m    682\u001b[0m \u001b[38;5;28;01melse\u001b[39;00m:\n\u001b[0;32m--> 683\u001b[0m     \u001b[38;5;28;01mraise\u001b[39;00m e\n",
      "File \u001b[0;32m/opt/conda/lib/python3.12/site-packages/astropy/units/quantity.py:628\u001b[0m, in \u001b[0;36mQuantity.__array_ufunc__\u001b[0;34m(self, function, method, *inputs, **kwargs)\u001b[0m\n\u001b[1;32m    623\u001b[0m \u001b[38;5;66;03m# Determine required conversion functions -- to bring the unit of the\u001b[39;00m\n\u001b[1;32m    624\u001b[0m \u001b[38;5;66;03m# input to that expected (e.g., radian for np.sin), or to get\u001b[39;00m\n\u001b[1;32m    625\u001b[0m \u001b[38;5;66;03m# consistent units between two inputs (e.g., in np.add) --\u001b[39;00m\n\u001b[1;32m    626\u001b[0m \u001b[38;5;66;03m# and the unit of the result (or tuple of units for nout > 1).\u001b[39;00m\n\u001b[1;32m    627\u001b[0m \u001b[38;5;28;01mtry\u001b[39;00m:\n\u001b[0;32m--> 628\u001b[0m     converters, unit \u001b[38;5;241m=\u001b[39m \u001b[43mconverters_and_unit\u001b[49m\u001b[43m(\u001b[49m\u001b[43mfunction\u001b[49m\u001b[43m,\u001b[49m\u001b[43m \u001b[49m\u001b[43mmethod\u001b[49m\u001b[43m,\u001b[49m\u001b[43m \u001b[49m\u001b[38;5;241;43m*\u001b[39;49m\u001b[43minputs\u001b[49m\u001b[43m)\u001b[49m\n\u001b[1;32m    630\u001b[0m     out \u001b[38;5;241m=\u001b[39m kwargs\u001b[38;5;241m.\u001b[39mget(\u001b[38;5;124m\"\u001b[39m\u001b[38;5;124mout\u001b[39m\u001b[38;5;124m\"\u001b[39m)\n\u001b[1;32m    631\u001b[0m     \u001b[38;5;66;03m# Avoid loop back by turning any Quantity output into array views.\u001b[39;00m\n",
      "File \u001b[0;32m/opt/conda/lib/python3.12/site-packages/astropy/units/quantity_helper/converters.py:177\u001b[0m, in \u001b[0;36mconverters_and_unit\u001b[0;34m(function, method, *args)\u001b[0m\n\u001b[1;32m    174\u001b[0m units \u001b[38;5;241m=\u001b[39m [\u001b[38;5;28mgetattr\u001b[39m(arg, \u001b[38;5;124m\"\u001b[39m\u001b[38;5;124munit\u001b[39m\u001b[38;5;124m\"\u001b[39m, \u001b[38;5;28;01mNone\u001b[39;00m) \u001b[38;5;28;01mfor\u001b[39;00m arg \u001b[38;5;129;01min\u001b[39;00m args]\n\u001b[1;32m    176\u001b[0m \u001b[38;5;66;03m# Determine possible conversion functions, and the result unit.\u001b[39;00m\n\u001b[0;32m--> 177\u001b[0m converters, result_unit \u001b[38;5;241m=\u001b[39m \u001b[43mufunc_helper\u001b[49m\u001b[43m(\u001b[49m\u001b[43mfunction\u001b[49m\u001b[43m,\u001b[49m\u001b[43m \u001b[49m\u001b[38;5;241;43m*\u001b[39;49m\u001b[43munits\u001b[49m\u001b[43m)\u001b[49m\n\u001b[1;32m    179\u001b[0m \u001b[38;5;28;01mif\u001b[39;00m \u001b[38;5;28many\u001b[39m(converter \u001b[38;5;129;01mis\u001b[39;00m \u001b[38;5;28;01mFalse\u001b[39;00m \u001b[38;5;28;01mfor\u001b[39;00m converter \u001b[38;5;129;01min\u001b[39;00m converters):\n\u001b[1;32m    180\u001b[0m     \u001b[38;5;66;03m# for multi-argument ufuncs with a quantity and a non-quantity,\u001b[39;00m\n\u001b[1;32m    181\u001b[0m     \u001b[38;5;66;03m# the quantity normally needs to be dimensionless, *except*\u001b[39;00m\n\u001b[0;32m   (...)\u001b[0m\n\u001b[1;32m    184\u001b[0m     \u001b[38;5;66;03m# can just have the unit of the quantity\u001b[39;00m\n\u001b[1;32m    185\u001b[0m     \u001b[38;5;66;03m# (this allows, e.g., `q > 0.` independent of unit)\u001b[39;00m\n\u001b[1;32m    186\u001b[0m     \u001b[38;5;28;01mtry\u001b[39;00m:\n\u001b[1;32m    187\u001b[0m         \u001b[38;5;66;03m# Don't fold this loop in the test above: this rare case\u001b[39;00m\n\u001b[1;32m    188\u001b[0m         \u001b[38;5;66;03m# should not make the common case slower.\u001b[39;00m\n",
      "File \u001b[0;32m/opt/conda/lib/python3.12/site-packages/astropy/units/quantity_helper/helpers.py:91\u001b[0m, in \u001b[0;36mget_converters_and_unit\u001b[0;34m(f, unit1, unit2)\u001b[0m\n\u001b[1;32m     89\u001b[0m     converters[changeable] \u001b[38;5;241m=\u001b[39m get_converter(unit2, unit1)\n\u001b[1;32m     90\u001b[0m \u001b[38;5;28;01mexcept\u001b[39;00m UnitsError:\n\u001b[0;32m---> 91\u001b[0m     \u001b[38;5;28;01mraise\u001b[39;00m UnitConversionError(\n\u001b[1;32m     92\u001b[0m         \u001b[38;5;124mf\u001b[39m\u001b[38;5;124m\"\u001b[39m\u001b[38;5;124mCan only apply \u001b[39m\u001b[38;5;124m'\u001b[39m\u001b[38;5;132;01m{\u001b[39;00mf\u001b[38;5;241m.\u001b[39m\u001b[38;5;18m__name__\u001b[39m\u001b[38;5;132;01m}\u001b[39;00m\u001b[38;5;124m'\u001b[39m\u001b[38;5;124m function to quantities \u001b[39m\u001b[38;5;124m\"\u001b[39m\n\u001b[1;32m     93\u001b[0m         \u001b[38;5;124m\"\u001b[39m\u001b[38;5;124mwith compatible dimensions\u001b[39m\u001b[38;5;124m\"\u001b[39m\n\u001b[1;32m     94\u001b[0m     )\n\u001b[1;32m     96\u001b[0m \u001b[38;5;28;01mreturn\u001b[39;00m converters, unit1\n",
      "\u001b[0;31mUnitConversionError\u001b[0m: Can only apply 'add' function to quantities with compatible dimensions"
     ]
    }
   ],
   "source": [
    "1 * u.m + 2 * u.g"
   ]
  },
  {
   "cell_type": "markdown",
   "id": "5c9863bb",
   "metadata": {
    "id": "5c9863bb"
   },
   "source": [
    "Or do certain operations, like exp and log, on numbers with units:"
   ]
  },
  {
   "cell_type": "code",
   "execution_count": 15,
   "id": "rwcL4dIv234-",
   "metadata": {
    "colab": {
     "base_uri": "https://localhost:8080/",
     "height": 443
    },
    "executionInfo": {
     "elapsed": 707,
     "status": "error",
     "timestamp": 1705082856695,
     "user": {
      "displayName": "Aditya Sengupta",
      "userId": "05406841331172530634"
     },
     "user_tz": 480
    },
    "id": "rwcL4dIv234-",
    "outputId": "0fef8c32-5f37-4953-c1da-264424091d26"
   },
   "outputs": [
    {
     "ename": "UnitTypeError",
     "evalue": "Can only apply 'exp' function to dimensionless quantities",
     "output_type": "error",
     "traceback": [
      "\u001b[0;31m---------------------------------------------------------------------------\u001b[0m",
      "\u001b[0;31mUnitConversionError\u001b[0m                       Traceback (most recent call last)",
      "File \u001b[0;32m/opt/conda/lib/python3.12/site-packages/astropy/units/quantity_helper/helpers.py:160\u001b[0m, in \u001b[0;36mhelper_dimensionless_to_dimensionless\u001b[0;34m(f, unit)\u001b[0m\n\u001b[1;32m    159\u001b[0m \u001b[38;5;28;01mtry\u001b[39;00m:\n\u001b[0;32m--> 160\u001b[0m     \u001b[38;5;28;01mreturn\u001b[39;00m ([\u001b[43mget_converter\u001b[49m\u001b[43m(\u001b[49m\u001b[43munit\u001b[49m\u001b[43m,\u001b[49m\u001b[43m \u001b[49m\u001b[43mdimensionless_unscaled\u001b[49m\u001b[43m)\u001b[49m], dimensionless_unscaled)\n\u001b[1;32m    161\u001b[0m \u001b[38;5;28;01mexcept\u001b[39;00m UnitsError:\n",
      "File \u001b[0;32m/opt/conda/lib/python3.12/site-packages/astropy/units/quantity_helper/helpers.py:38\u001b[0m, in \u001b[0;36mget_converter\u001b[0;34m(from_unit, to_unit)\u001b[0m\n\u001b[1;32m     37\u001b[0m \u001b[38;5;28;01mtry\u001b[39;00m:\n\u001b[0;32m---> 38\u001b[0m     converter \u001b[38;5;241m=\u001b[39m \u001b[43mfrom_unit\u001b[49m\u001b[38;5;241;43m.\u001b[39;49m\u001b[43mget_converter\u001b[49m\u001b[43m(\u001b[49m\u001b[43mto_unit\u001b[49m\u001b[43m)\u001b[49m\n\u001b[1;32m     39\u001b[0m \u001b[38;5;28;01mexcept\u001b[39;00m \u001b[38;5;167;01mAttributeError\u001b[39;00m \u001b[38;5;28;01mas\u001b[39;00m exc:\n\u001b[1;32m     40\u001b[0m     \u001b[38;5;66;03m# Check for lack of unit only now, to avoid delay for cases where a unit\u001b[39;00m\n\u001b[1;32m     41\u001b[0m     \u001b[38;5;66;03m# was present. Note that cases where dimensionless is expected are\u001b[39;00m\n\u001b[1;32m     42\u001b[0m     \u001b[38;5;66;03m# already short-circuited; here, we cover just the case where, e.g., the\u001b[39;00m\n\u001b[1;32m     43\u001b[0m     \u001b[38;5;66;03m# user has done u.add_enabled_equivalencies(u.dimensionless_angles()).\u001b[39;00m\n",
      "File \u001b[0;32m/opt/conda/lib/python3.12/site-packages/astropy/units/core.py:1133\u001b[0m, in \u001b[0;36mUnitBase.get_converter\u001b[0;34m(self, other, equivalencies)\u001b[0m\n\u001b[1;32m   1131\u001b[0m                 \u001b[38;5;28;01mreturn\u001b[39;00m \u001b[38;5;28;01mlambda\u001b[39;00m v: b(converter(v))\n\u001b[0;32m-> 1133\u001b[0m \u001b[38;5;28;01mraise\u001b[39;00m exc\n",
      "File \u001b[0;32m/opt/conda/lib/python3.12/site-packages/astropy/units/core.py:1116\u001b[0m, in \u001b[0;36mUnitBase.get_converter\u001b[0;34m(self, other, equivalencies)\u001b[0m\n\u001b[1;32m   1115\u001b[0m \u001b[38;5;28;01mtry\u001b[39;00m:\n\u001b[0;32m-> 1116\u001b[0m     \u001b[38;5;28;01mreturn\u001b[39;00m \u001b[38;5;28;43mself\u001b[39;49m\u001b[38;5;241;43m.\u001b[39;49m\u001b[43m_apply_equivalencies\u001b[49m\u001b[43m(\u001b[49m\n\u001b[1;32m   1117\u001b[0m \u001b[43m        \u001b[49m\u001b[38;5;28;43mself\u001b[39;49m\u001b[43m,\u001b[49m\u001b[43m \u001b[49m\u001b[43mother\u001b[49m\u001b[43m,\u001b[49m\u001b[43m \u001b[49m\u001b[38;5;28;43mself\u001b[39;49m\u001b[38;5;241;43m.\u001b[39;49m\u001b[43m_normalize_equivalencies\u001b[49m\u001b[43m(\u001b[49m\u001b[43mequivalencies\u001b[49m\u001b[43m)\u001b[49m\n\u001b[1;32m   1118\u001b[0m \u001b[43m    \u001b[49m\u001b[43m)\u001b[49m\n\u001b[1;32m   1119\u001b[0m \u001b[38;5;28;01mexcept\u001b[39;00m UnitsError \u001b[38;5;28;01mas\u001b[39;00m exc:\n\u001b[1;32m   1120\u001b[0m     \u001b[38;5;66;03m# Last hope: maybe other knows how to do it?\u001b[39;00m\n\u001b[1;32m   1121\u001b[0m     \u001b[38;5;66;03m# We assume the equivalencies have the unit itself as first item.\u001b[39;00m\n\u001b[1;32m   1122\u001b[0m     \u001b[38;5;66;03m# TODO: maybe better for other to have a `_back_converter` method?\u001b[39;00m\n",
      "File \u001b[0;32m/opt/conda/lib/python3.12/site-packages/astropy/units/core.py:1067\u001b[0m, in \u001b[0;36mUnitBase._apply_equivalencies\u001b[0;34m(self, unit, other, equivalencies)\u001b[0m\n\u001b[1;32m   1065\u001b[0m other_str \u001b[38;5;241m=\u001b[39m get_err_str(other)\n\u001b[0;32m-> 1067\u001b[0m \u001b[38;5;28;01mraise\u001b[39;00m UnitConversionError(\u001b[38;5;124mf\u001b[39m\u001b[38;5;124m\"\u001b[39m\u001b[38;5;132;01m{\u001b[39;00munit_str\u001b[38;5;132;01m}\u001b[39;00m\u001b[38;5;124m and \u001b[39m\u001b[38;5;132;01m{\u001b[39;00mother_str\u001b[38;5;132;01m}\u001b[39;00m\u001b[38;5;124m are not convertible\u001b[39m\u001b[38;5;124m\"\u001b[39m)\n",
      "\u001b[0;31mUnitConversionError\u001b[0m: 'm' (length) and '' (dimensionless) are not convertible",
      "\nDuring handling of the above exception, another exception occurred:\n",
      "\u001b[0;31mUnitTypeError\u001b[0m                             Traceback (most recent call last)",
      "Cell \u001b[0;32mIn[15], line 1\u001b[0m\n\u001b[0;32m----> 1\u001b[0m \u001b[43mnp\u001b[49m\u001b[38;5;241;43m.\u001b[39;49m\u001b[43mexp\u001b[49m\u001b[43m(\u001b[49m\u001b[38;5;241;43m1\u001b[39;49m\u001b[43m \u001b[49m\u001b[38;5;241;43m*\u001b[39;49m\u001b[43m \u001b[49m\u001b[43mu\u001b[49m\u001b[38;5;241;43m.\u001b[39;49m\u001b[43mm\u001b[49m\u001b[43m)\u001b[49m\n",
      "File \u001b[0;32m/opt/conda/lib/python3.12/site-packages/astropy/units/quantity.py:683\u001b[0m, in \u001b[0;36mQuantity.__array_ufunc__\u001b[0;34m(self, function, method, *inputs, **kwargs)\u001b[0m\n\u001b[1;32m    681\u001b[0m     \u001b[38;5;28;01mreturn\u001b[39;00m \u001b[38;5;28mNotImplemented\u001b[39m\n\u001b[1;32m    682\u001b[0m \u001b[38;5;28;01melse\u001b[39;00m:\n\u001b[0;32m--> 683\u001b[0m     \u001b[38;5;28;01mraise\u001b[39;00m e\n",
      "File \u001b[0;32m/opt/conda/lib/python3.12/site-packages/astropy/units/quantity.py:628\u001b[0m, in \u001b[0;36mQuantity.__array_ufunc__\u001b[0;34m(self, function, method, *inputs, **kwargs)\u001b[0m\n\u001b[1;32m    623\u001b[0m \u001b[38;5;66;03m# Determine required conversion functions -- to bring the unit of the\u001b[39;00m\n\u001b[1;32m    624\u001b[0m \u001b[38;5;66;03m# input to that expected (e.g., radian for np.sin), or to get\u001b[39;00m\n\u001b[1;32m    625\u001b[0m \u001b[38;5;66;03m# consistent units between two inputs (e.g., in np.add) --\u001b[39;00m\n\u001b[1;32m    626\u001b[0m \u001b[38;5;66;03m# and the unit of the result (or tuple of units for nout > 1).\u001b[39;00m\n\u001b[1;32m    627\u001b[0m \u001b[38;5;28;01mtry\u001b[39;00m:\n\u001b[0;32m--> 628\u001b[0m     converters, unit \u001b[38;5;241m=\u001b[39m \u001b[43mconverters_and_unit\u001b[49m\u001b[43m(\u001b[49m\u001b[43mfunction\u001b[49m\u001b[43m,\u001b[49m\u001b[43m \u001b[49m\u001b[43mmethod\u001b[49m\u001b[43m,\u001b[49m\u001b[43m \u001b[49m\u001b[38;5;241;43m*\u001b[39;49m\u001b[43minputs\u001b[49m\u001b[43m)\u001b[49m\n\u001b[1;32m    630\u001b[0m     out \u001b[38;5;241m=\u001b[39m kwargs\u001b[38;5;241m.\u001b[39mget(\u001b[38;5;124m\"\u001b[39m\u001b[38;5;124mout\u001b[39m\u001b[38;5;124m\"\u001b[39m)\n\u001b[1;32m    631\u001b[0m     \u001b[38;5;66;03m# Avoid loop back by turning any Quantity output into array views.\u001b[39;00m\n",
      "File \u001b[0;32m/opt/conda/lib/python3.12/site-packages/astropy/units/quantity_helper/converters.py:177\u001b[0m, in \u001b[0;36mconverters_and_unit\u001b[0;34m(function, method, *args)\u001b[0m\n\u001b[1;32m    174\u001b[0m units \u001b[38;5;241m=\u001b[39m [\u001b[38;5;28mgetattr\u001b[39m(arg, \u001b[38;5;124m\"\u001b[39m\u001b[38;5;124munit\u001b[39m\u001b[38;5;124m\"\u001b[39m, \u001b[38;5;28;01mNone\u001b[39;00m) \u001b[38;5;28;01mfor\u001b[39;00m arg \u001b[38;5;129;01min\u001b[39;00m args]\n\u001b[1;32m    176\u001b[0m \u001b[38;5;66;03m# Determine possible conversion functions, and the result unit.\u001b[39;00m\n\u001b[0;32m--> 177\u001b[0m converters, result_unit \u001b[38;5;241m=\u001b[39m \u001b[43mufunc_helper\u001b[49m\u001b[43m(\u001b[49m\u001b[43mfunction\u001b[49m\u001b[43m,\u001b[49m\u001b[43m \u001b[49m\u001b[38;5;241;43m*\u001b[39;49m\u001b[43munits\u001b[49m\u001b[43m)\u001b[49m\n\u001b[1;32m    179\u001b[0m \u001b[38;5;28;01mif\u001b[39;00m \u001b[38;5;28many\u001b[39m(converter \u001b[38;5;129;01mis\u001b[39;00m \u001b[38;5;28;01mFalse\u001b[39;00m \u001b[38;5;28;01mfor\u001b[39;00m converter \u001b[38;5;129;01min\u001b[39;00m converters):\n\u001b[1;32m    180\u001b[0m     \u001b[38;5;66;03m# for multi-argument ufuncs with a quantity and a non-quantity,\u001b[39;00m\n\u001b[1;32m    181\u001b[0m     \u001b[38;5;66;03m# the quantity normally needs to be dimensionless, *except*\u001b[39;00m\n\u001b[0;32m   (...)\u001b[0m\n\u001b[1;32m    184\u001b[0m     \u001b[38;5;66;03m# can just have the unit of the quantity\u001b[39;00m\n\u001b[1;32m    185\u001b[0m     \u001b[38;5;66;03m# (this allows, e.g., `q > 0.` independent of unit)\u001b[39;00m\n\u001b[1;32m    186\u001b[0m     \u001b[38;5;28;01mtry\u001b[39;00m:\n\u001b[1;32m    187\u001b[0m         \u001b[38;5;66;03m# Don't fold this loop in the test above: this rare case\u001b[39;00m\n\u001b[1;32m    188\u001b[0m         \u001b[38;5;66;03m# should not make the common case slower.\u001b[39;00m\n",
      "File \u001b[0;32m/opt/conda/lib/python3.12/site-packages/astropy/units/quantity_helper/helpers.py:162\u001b[0m, in \u001b[0;36mhelper_dimensionless_to_dimensionless\u001b[0;34m(f, unit)\u001b[0m\n\u001b[1;32m    160\u001b[0m     \u001b[38;5;28;01mreturn\u001b[39;00m ([get_converter(unit, dimensionless_unscaled)], dimensionless_unscaled)\n\u001b[1;32m    161\u001b[0m \u001b[38;5;28;01mexcept\u001b[39;00m UnitsError:\n\u001b[0;32m--> 162\u001b[0m     \u001b[38;5;28;01mraise\u001b[39;00m UnitTypeError(\n\u001b[1;32m    163\u001b[0m         \u001b[38;5;124mf\u001b[39m\u001b[38;5;124m\"\u001b[39m\u001b[38;5;124mCan only apply \u001b[39m\u001b[38;5;124m'\u001b[39m\u001b[38;5;132;01m{\u001b[39;00mf\u001b[38;5;241m.\u001b[39m\u001b[38;5;18m__name__\u001b[39m\u001b[38;5;132;01m}\u001b[39;00m\u001b[38;5;124m'\u001b[39m\u001b[38;5;124m function to dimensionless quantities\u001b[39m\u001b[38;5;124m\"\u001b[39m\n\u001b[1;32m    164\u001b[0m     )\n",
      "\u001b[0;31mUnitTypeError\u001b[0m: Can only apply 'exp' function to dimensionless quantities"
     ]
    }
   ],
   "source": [
    "np.exp(1 * u.m)"
   ]
  },
  {
   "cell_type": "code",
   "execution_count": 16,
   "id": "a86e56de",
   "metadata": {
    "colab": {
     "base_uri": "https://localhost:8080/",
     "height": 37
    },
    "executionInfo": {
     "elapsed": 849,
     "status": "ok",
     "timestamp": 1705082886519,
     "user": {
      "displayName": "Aditya Sengupta",
      "userId": "05406841331172530634"
     },
     "user_tz": 480
    },
    "id": "a86e56de",
    "outputId": "bd9221e7-7689-47de-c1a4-4a68d2946911"
   },
   "outputs": [
    {
     "data": {
      "text/latex": [
       "$0.47712125 \\; \\mathrm{}$"
      ],
      "text/plain": [
       "<Quantity 0.47712125>"
      ]
     },
     "execution_count": 16,
     "metadata": {},
     "output_type": "execute_result"
    }
   ],
   "source": [
    "distance = 3 * u.m\n",
    "np.log10(distance / u.m)"
   ]
  },
  {
   "cell_type": "markdown",
   "id": "5ab91cb6",
   "metadata": {
    "id": "5ab91cb6"
   },
   "source": [
    "But if you divide out all units, you can do these:"
   ]
  },
  {
   "cell_type": "code",
   "execution_count": 17,
   "id": "c06c9ff4",
   "metadata": {
    "colab": {
     "base_uri": "https://localhost:8080/",
     "height": 37
    },
    "executionInfo": {
     "elapsed": 309,
     "status": "ok",
     "timestamp": 1705082905244,
     "user": {
      "displayName": "Aditya Sengupta",
      "userId": "05406841331172530634"
     },
     "user_tz": 480
    },
    "id": "c06c9ff4",
    "outputId": "4ce260af-b6ef-4d08-ac45-9f4e73957c29"
   },
   "outputs": [
    {
     "data": {
      "text/latex": [
       "$7.3890561 \\; \\mathrm{}$"
      ],
      "text/plain": [
       "<Quantity 7.3890561>"
      ]
     },
     "execution_count": 17,
     "metadata": {},
     "output_type": "execute_result"
    }
   ],
   "source": [
    "np.exp(1 * u.m / (50 * u.cm))"
   ]
  },
  {
   "cell_type": "markdown",
   "id": "c015aa3c",
   "metadata": {
    "id": "c015aa3c"
   },
   "source": [
    "Together with this, we also have some standard constants in `astropy.constants`."
   ]
  },
  {
   "cell_type": "code",
   "execution_count": 18,
   "id": "a7667d21",
   "metadata": {
    "executionInfo": {
     "elapsed": 284,
     "status": "ok",
     "timestamp": 1705082917750,
     "user": {
      "displayName": "Aditya Sengupta",
      "userId": "05406841331172530634"
     },
     "user_tz": 480
    },
    "id": "a7667d21"
   },
   "outputs": [],
   "source": [
    "import astropy.constants as c"
   ]
  },
  {
   "cell_type": "code",
   "execution_count": 19,
   "id": "6499d1f6",
   "metadata": {
    "colab": {
     "base_uri": "https://localhost:8080/",
     "height": 37
    },
    "executionInfo": {
     "elapsed": 612,
     "status": "ok",
     "timestamp": 1705082921540,
     "user": {
      "displayName": "Aditya Sengupta",
      "userId": "05406841331172530634"
     },
     "user_tz": 480
    },
    "id": "6499d1f6",
    "outputId": "14481be9-55fb-4455-9291-d274de731e9e"
   },
   "outputs": [
    {
     "data": {
      "text/latex": [
       "$6.6260701 \\times 10^{-34} \\; \\mathrm{J\\,s}$"
      ],
      "text/plain": [
       "<<class 'astropy.constants.codata2018.CODATA2018'> name='Planck constant' value=6.62607015e-34 uncertainty=0.0 unit='J s' reference='CODATA 2018'>"
      ]
     },
     "execution_count": 19,
     "metadata": {},
     "output_type": "execute_result"
    }
   ],
   "source": [
    "c.h"
   ]
  },
  {
   "cell_type": "code",
   "execution_count": 20,
   "id": "1961d102",
   "metadata": {
    "colab": {
     "base_uri": "https://localhost:8080/",
     "height": 40
    },
    "executionInfo": {
     "elapsed": 330,
     "status": "ok",
     "timestamp": 1705082931472,
     "user": {
      "displayName": "Aditya Sengupta",
      "userId": "05406841331172530634"
     },
     "user_tz": 480
    },
    "id": "1961d102",
    "outputId": "93071024-b2e3-4eb4-92ce-fe336ff544a6"
   },
   "outputs": [
    {
     "data": {
      "text/latex": [
       "$3.986004 \\times 10^{14} \\; \\mathrm{\\frac{m^{3}}{s^{2}}}$"
      ],
      "text/plain": [
       "<<class 'astropy.constants.iau2015.IAU2015'> name='Nominal Earth mass parameter' value=398600400000000.0 uncertainty=0.0 unit='m3 / s2' reference='IAU 2015 Resolution B 3'>"
      ]
     },
     "execution_count": 20,
     "metadata": {},
     "output_type": "execute_result"
    }
   ],
   "source": [
    "c.GM_earth"
   ]
  },
  {
   "cell_type": "code",
   "execution_count": 21,
   "id": "b1e47d25",
   "metadata": {
    "colab": {
     "base_uri": "https://localhost:8080/"
    },
    "executionInfo": {
     "elapsed": 532,
     "status": "ok",
     "timestamp": 1705082954095,
     "user": {
      "displayName": "Aditya Sengupta",
      "userId": "05406841331172530634"
     },
     "user_tz": 480
    },
    "id": "b1e47d25",
    "outputId": "d2f2d898-2a39-4052-fab4-37cdded5c09d"
   },
   "outputs": [
    {
     "name": "stdout",
     "output_type": "stream",
     "text": [
      "Help on package astropy.constants in astropy:\n",
      "\n",
      "NAME\n",
      "    astropy.constants\n",
      "\n",
      "DESCRIPTION\n",
      "    Contains astronomical and physical constants for use in Astropy or other\n",
      "    places.\n",
      "\n",
      "    A typical use case might be::\n",
      "\n",
      "        >>> from astropy.constants import c, m_e\n",
      "        >>> # ... define the mass of something you want the rest energy of as m ...\n",
      "        >>> m = m_e\n",
      "        >>> E = m * c**2\n",
      "        >>> E.to('MeV')  # doctest: +FLOAT_CMP\n",
      "        <Quantity 0.510998927603161 MeV>\n",
      "\n",
      "    The following constants are available:\n",
      "\n",
      "    ========== ============== ================ =========================\n",
      "       Name        Value            Unit       Description\n",
      "    ========== ============== ================ =========================\n",
      "        G        6.6743e-11     m3 / (kg s2)   Gravitational constant\n",
      "       N_A     6.02214076e+23    1 / (mol)     Avogadro's number\n",
      "        R        8.31446262     J / (K mol)    Gas constant\n",
      "       Ryd       10973731.6       1 / (m)      Rydberg constant\n",
      "        a0     5.29177211e-11        m         Bohr radius\n",
      "      alpha    0.00729735257                   Fine-structure constant\n",
      "       atm         101325            Pa        Standard atmosphere\n",
      "      b_wien   0.00289777196        m K        Wien wavelength displacement law constant\n",
      "        c        299792458        m / (s)      Speed of light in vacuum\n",
      "        e      1.60217663e-19        C         Electron charge\n",
      "       eps0    8.85418781e-12       F/m        Vacuum electric permittivity\n",
      "        g0        9.80665          m / s2      Standard acceleration of gravity\n",
      "        h      6.62607015e-34       J s        Planck constant\n",
      "       hbar    1.05457182e-34       J s        Reduced Planck constant\n",
      "       k_B      1.380649e-23      J / (K)      Boltzmann constant\n",
      "       m_e     9.1093837e-31         kg        Electron mass\n",
      "       m_n     1.6749275e-27         kg        Neutron mass\n",
      "       m_p     1.67262192e-27        kg        Proton mass\n",
      "       mu0     1.25663706e-06       N/A2       Vacuum magnetic permeability\n",
      "       muB     9.27401008e-24       J/T        Bohr magneton\n",
      "     sigma_T   6.65245873e-29        m2        Thomson scattering cross-section\n",
      "     sigma_sb  5.67037442e-08   W / (K4 m2)    Stefan-Boltzmann constant\n",
      "        u      1.66053907e-27        kg        Atomic mass\n",
      "     GM_earth   3.986004e+14     m3 / (s2)     Nominal Earth mass parameter\n",
      "      GM_jup   1.2668653e+17     m3 / (s2)     Nominal Jupiter mass parameter\n",
      "      GM_sun   1.3271244e+20     m3 / (s2)     Nominal solar mass parameter\n",
      "      L_bol0     3.0128e+28          W         Luminosity for absolute bolometric magnitude 0\n",
      "      L_sun      3.828e+26           W         Nominal solar luminosity\n",
      "     M_earth   5.97216787e+24        kg        Earth mass\n",
      "      M_jup    1.8981246e+27         kg        Jupiter mass\n",
      "      M_sun    1.98840987e+30        kg        Solar mass\n",
      "     R_earth      6378100            m         Nominal Earth equatorial radius\n",
      "      R_jup       71492000           m         Nominal Jupiter equatorial radius\n",
      "      R_sun      695700000           m         Nominal solar radius\n",
      "        au     1.49597871e+11        m         Astronomical Unit\n",
      "       kpc     3.08567758e+19        m         Kiloparsec\n",
      "        pc     3.08567758e+16        m         Parsec\n",
      "    ========== ============== ================ =========================\n",
      "\n",
      "PACKAGE CONTENTS\n",
      "    astropyconst13\n",
      "    astropyconst20\n",
      "    astropyconst40\n",
      "    cgs\n",
      "    codata2010\n",
      "    codata2014\n",
      "    codata2018\n",
      "    config\n",
      "    constant\n",
      "    iau2012\n",
      "    iau2015\n",
      "    si\n",
      "    tests (package)\n",
      "    utils\n",
      "\n",
      "SUBMODULES\n",
      "    codata\n",
      "    iaudata\n",
      "\n",
      "DATA\n",
      "    G = <<class 'astropy.constants.codata2018.CODATA2018...e-15 unit='m3 /...\n",
      "    GM_earth = <<class 'astropy.constants.iau2015.IAU2015'> nam...it='m3 /...\n",
      "    GM_jup = <<class 'astropy.constants.iau2015.IAU2015'> nam...it='m3 / s...\n",
      "    GM_sun = <<class 'astropy.constants.iau2015.IAU2015'> nam...it='m3 / s...\n",
      "    L_bol0 = <<class 'astropy.constants.iau2015.IAU2015'> nam...0.0 unit='...\n",
      "    L_sun = <<class 'astropy.constants.iau2015.IAU2015'> nam...0.0 unit='W...\n",
      "    M_earth = <<class 'astropy.constants.iau2015.IAU2015'> nam...eference=...\n",
      "    M_jup = <<class 'astropy.constants.iau2015.IAU2015'> nam...eference='I...\n",
      "    M_sun = <<class 'astropy.constants.iau2015.IAU2015'> nam...eference='I...\n",
      "    N_A = <<class 'astropy.constants.codata2018.CODATA2018...ainty=0.0 uni...\n",
      "    R = <<class 'astropy.constants.codata2018.CODATA2018...y=0.0 unit='J /...\n",
      "    R_earth = <<class 'astropy.constants.iau2015.IAU2015'> nam...0.0 unit=...\n",
      "    R_jup = <<class 'astropy.constants.iau2015.IAU2015'> nam...0.0 unit='m...\n",
      "    R_sun = <<class 'astropy.constants.iau2015.IAU2015'> nam...0.0 unit='m...\n",
      "    Ryd = <<class 'astropy.constants.codata2018.CODATA2018...nty=2.1e-05 u...\n",
      "    a0 = <<class 'astropy.constants.codata2018.CODATA2018...certainty=8e-2...\n",
      "    alpha = <<class 'astropy.constants.codata2018.CODATA2018...ertainty=1....\n",
      "    atm = <<class 'astropy.constants.codata2018.CODATA2018...ncertainty=0....\n",
      "    au = <<class 'astropy.constants.iau2015.IAU2015'> nam...=0.0 unit='m' ...\n",
      "    b_wien = <<class 'astropy.constants.codata2018.CODATA2018...certainty=...\n",
      "    c = <<class 'astropy.constants.codata2018.CODATA2018...rtainty=0.0 uni...\n",
      "    e = <<class 'astropy.constants.codata2018.EMCODATA20...uncertainty=0.0...\n",
      "    eps0 = <<class 'astropy.constants.codata2018.EMCODATA20...nty=1.3e-21 ...\n",
      "    g0 = <<class 'astropy.constants.codata2018.CODATA2018...tainty=0.0 uni...\n",
      "    h = <<class 'astropy.constants.codata2018.CODATA2018...certainty=0.0 u...\n",
      "    hbar = <<class 'astropy.constants.codata2018.CODATA2018...certainty=0....\n",
      "    k_B = <<class 'astropy.constants.codata2018.CODATA2018...rtainty=0.0 u...\n",
      "    kpc = <<class 'astropy.constants.iau2015.IAU2015'> nam...ived from au ...\n",
      "    m_e = <<class 'astropy.constants.codata2018.CODATA2018...tainty=2.8e-4...\n",
      "    m_n = <<class 'astropy.constants.codata2018.CODATA2018...tainty=9.5e-3...\n",
      "    m_p = <<class 'astropy.constants.codata2018.CODATA2018...tainty=5.1e-3...\n",
      "    mu0 = <<class 'astropy.constants.codata2018.CODATA2018...ty=1.9e-16 un...\n",
      "    muB = <<class 'astropy.constants.codata2018.CODATA2018...nty=2.8e-33 u...\n",
      "    pc = <<class 'astropy.constants.iau2015.IAU2015'> nam...ived from au +...\n",
      "    sigma_T = <<class 'astropy.constants.codata2018.CODATA2018...ertainty=...\n",
      "    sigma_sb = <<class 'astropy.constants.codata2018.CODATA2018...y=0.0 un...\n",
      "    u = <<class 'astropy.constants.codata2018.CODATA2018...ertainty=5e-37 ...\n",
      "\n",
      "FILE\n",
      "    /opt/conda/lib/python3.12/site-packages/astropy/constants/__init__.py\n",
      "\n",
      "\n"
     ]
    }
   ],
   "source": [
    "help(c)"
   ]
  },
  {
   "cell_type": "code",
   "execution_count": 22,
   "id": "dd7252ab",
   "metadata": {
    "colab": {
     "base_uri": "https://localhost:8080/",
     "height": 37
    },
    "executionInfo": {
     "elapsed": 361,
     "status": "ok",
     "timestamp": 1705082975096,
     "user": {
      "displayName": "Aditya Sengupta",
      "userId": "05406841331172530634"
     },
     "user_tz": 480
    },
    "id": "dd7252ab",
    "outputId": "c0be2683-e114-4e6c-ec53-0f1d61e339d4"
   },
   "outputs": [
    {
     "data": {
      "text/latex": [
       "$773.03722 \\; \\mathrm{nm}$"
      ],
      "text/plain": [
       "<Quantity 773.03722196 nm>"
      ]
     },
     "execution_count": 22,
     "metadata": {},
     "output_type": "execute_result"
    }
   ],
   "source": [
    "(c.h * c.c / (2.82 * c.k_B * 6600 * u.K)).to(u.nm)"
   ]
  },
  {
   "cell_type": "markdown",
   "id": "c8d7d8f5",
   "metadata": {
    "id": "c8d7d8f5"
   },
   "source": [
    "**Exercise**: Using the units and constants system, write a function that computes the escape velocity $v = \\sqrt{\\frac{2GM}{R}}$ of a body with mass $M$ and radius $R$ in units of (divided by) the Earth's escape velocity. Looking at the astropy units documentation at https://docs.astropy.org/en/stable/units/index.html, see if you can find a way to make sure it throws an error if you don't pass in a mass and a radius."
   ]
  },
  {
   "cell_type": "code",
   "execution_count": 23,
   "id": "BZztwMKl4uc_",
   "metadata": {
    "colab": {
     "base_uri": "https://localhost:8080/",
     "height": 37
    },
    "executionInfo": {
     "elapsed": 5,
     "status": "ok",
     "timestamp": 1705083338261,
     "user": {
      "displayName": "Aditya Sengupta",
      "userId": "05406841331172530634"
     },
     "user_tz": 480
    },
    "id": "BZztwMKl4uc_",
    "outputId": "cd6da045-2f69-4b15-d3ac-b537912262de"
   },
   "outputs": [
    {
     "data": {
      "text/latex": [
       "$6378100 \\; \\mathrm{m}$"
      ],
      "text/plain": [
       "<<class 'astropy.constants.iau2015.IAU2015'> name='Nominal Earth equatorial radius' value=6378100.0 uncertainty=0.0 unit='m' reference='IAU 2015 Resolution B 3'>"
      ]
     },
     "execution_count": 23,
     "metadata": {},
     "output_type": "execute_result"
    }
   ],
   "source": [
    "c.R_earth"
   ]
  },
  {
   "cell_type": "code",
   "execution_count": 24,
   "id": "b57bca0c",
   "metadata": {
    "executionInfo": {
     "elapsed": 272,
     "status": "ok",
     "timestamp": 1705083638333,
     "user": {
      "displayName": "Aditya Sengupta",
      "userId": "05406841331172530634"
     },
     "user_tz": 480
    },
    "id": "b57bca0c"
   },
   "outputs": [],
   "source": [
    "def escape_velocity(M, R):\n",
    "    # your code here!\n",
    "    pass"
   ]
  },
  {
   "cell_type": "code",
   "execution_count": 25,
   "id": "4a7fe10a",
   "metadata": {
    "colab": {
     "base_uri": "https://localhost:8080/",
     "height": 37
    },
    "executionInfo": {
     "elapsed": 6,
     "status": "ok",
     "timestamp": 1705083639461,
     "user": {
      "displayName": "Aditya Sengupta",
      "userId": "05406841331172530634"
     },
     "user_tz": 480
    },
    "id": "4a7fe10a",
    "outputId": "f371e467-226d-4a4e-fc19-8ea9029bfa34"
   },
   "outputs": [],
   "source": [
    "escape_velocity(c.M_jup, c.R_jup) # this should be about 5.3"
   ]
  },
  {
   "cell_type": "code",
   "execution_count": 27,
   "id": "9bce5054",
   "metadata": {
    "colab": {
     "base_uri": "https://localhost:8080/",
     "height": 322
    },
    "executionInfo": {
     "elapsed": 3,
     "status": "error",
     "timestamp": 1705083643539,
     "user": {
      "displayName": "Aditya Sengupta",
      "userId": "05406841331172530634"
     },
     "user_tz": 480
    },
    "id": "9bce5054",
    "outputId": "88d6d97d-adce-4582-9e35-4b635993e11f"
   },
   "outputs": [],
   "source": [
    "escape_velocity(c.R_jup, c.M_jup) # this shouldn't work"
   ]
  },
  {
   "cell_type": "markdown",
   "id": "a4c12a96",
   "metadata": {
    "id": "a4c12a96"
   },
   "source": [
    "### FITS Files\n",
    "\n",
    "(credit to Anne Dattilo for most of this section)\n",
    "\n",
    "A FITS (Flexible Image Transport System) file is a file type that can store multiple types of data. In astronomy, you'll often see it contain image data or data tables (or both!). This is the primary way observational data is stored.\n",
    "\n",
    "In this tutorial, we will:\n",
    "\n",
    "- Download data\n",
    "- Open FITS files and access data\n",
    "- Edit FITS headers\n",
    "- Plot FITS images\n",
    "\n",
    "There are several ways to do each of these things, so feel free to look at the documentation to see other methods!"
   ]
  },
  {
   "cell_type": "code",
   "execution_count": 28,
   "id": "1b7db2f1",
   "metadata": {
    "executionInfo": {
     "elapsed": 657,
     "status": "ok",
     "timestamp": 1705083984308,
     "user": {
      "displayName": "Aditya Sengupta",
      "userId": "05406841331172530634"
     },
     "user_tz": 480
    },
    "id": "1b7db2f1"
   },
   "outputs": [],
   "source": [
    "from astropy.io import fits\n",
    "from matplotlib import pyplot as plt\n",
    "from matplotlib.colors import LogNorm, AsinhNorm, PowerNorm\n",
    "from astropy.visualization import ZScaleInterval"
   ]
  },
  {
   "cell_type": "markdown",
   "id": "b0497a68",
   "metadata": {
    "id": "b0497a68"
   },
   "source": [
    "`astropy` has a public data set we will be using to play around with FITS images."
   ]
  },
  {
   "cell_type": "code",
   "execution_count": 29,
   "id": "6cc96164",
   "metadata": {
    "executionInfo": {
     "elapsed": 6159,
     "status": "ok",
     "timestamp": 1705084092338,
     "user": {
      "displayName": "Aditya Sengupta",
      "userId": "05406841331172530634"
     },
     "user_tz": 480
    },
    "id": "6cc96164"
   },
   "outputs": [],
   "source": [
    "from astropy.utils.data import download_file\n",
    "\n",
    "image_file = download_file('http://data.astropy.org/tutorials/FITS-images/HorseHead.fits', cache=True)"
   ]
  },
  {
   "cell_type": "code",
   "execution_count": 30,
   "id": "382a9dca",
   "metadata": {
    "colab": {
     "base_uri": "https://localhost:8080/",
     "height": 35
    },
    "executionInfo": {
     "elapsed": 285,
     "status": "ok",
     "timestamp": 1705084094014,
     "user": {
      "displayName": "Aditya Sengupta",
      "userId": "05406841331172530634"
     },
     "user_tz": 480
    },
    "id": "382a9dca",
    "outputId": "9e9250e2-749e-41cf-c58c-d3faaf21f435"
   },
   "outputs": [
    {
     "data": {
      "text/plain": [
       "'/home/jovyan/.astropy/cache/download/url/ff6e0b93871033c68022ca026a956d87/contents'"
      ]
     },
     "execution_count": 30,
     "metadata": {},
     "output_type": "execute_result"
    }
   ],
   "source": [
    "image_file"
   ]
  },
  {
   "cell_type": "code",
   "execution_count": 31,
   "id": "Yc28_hPL7qBh",
   "metadata": {
    "colab": {
     "base_uri": "https://localhost:8080/"
    },
    "executionInfo": {
     "elapsed": 533,
     "status": "ok",
     "timestamp": 1705084106960,
     "user": {
      "displayName": "Aditya Sengupta",
      "userId": "05406841331172530634"
     },
     "user_tz": 480
    },
    "id": "Yc28_hPL7qBh",
    "outputId": "131f0ebc-80b3-44c9-bc6b-ce7ed83b426c"
   },
   "outputs": [
    {
     "data": {
      "text/plain": [
       "str"
      ]
     },
     "execution_count": 31,
     "metadata": {},
     "output_type": "execute_result"
    }
   ],
   "source": [
    "type(image_file)"
   ]
  },
  {
   "cell_type": "markdown",
   "id": "6877a95a",
   "metadata": {
    "id": "6877a95a"
   },
   "source": [
    "`astropy.fits` has two primary ways of opening FITS files.\n",
    "\n",
    "The first is `fits.open()`.\n",
    "\n",
    "This opens the file in a readonly mode and returns an HDU (**H**eader **D**ata **U**nit)."
   ]
  },
  {
   "cell_type": "code",
   "execution_count": 32,
   "id": "4b9c11ca",
   "metadata": {
    "colab": {
     "base_uri": "https://localhost:8080/"
    },
    "executionInfo": {
     "elapsed": 524,
     "status": "ok",
     "timestamp": 1705084131599,
     "user": {
      "displayName": "Aditya Sengupta",
      "userId": "05406841331172530634"
     },
     "user_tz": 480
    },
    "id": "4b9c11ca",
    "outputId": "271a13fa-3eb6-4519-aa49-88c9f4d780d5"
   },
   "outputs": [
    {
     "name": "stdout",
     "output_type": "stream",
     "text": [
      "Filename: /home/jovyan/.astropy/cache/download/url/ff6e0b93871033c68022ca026a956d87/contents\n",
      "No.    Name      Ver    Type      Cards   Dimensions   Format\n",
      "  0  PRIMARY       1 PrimaryHDU     161   (891, 893)   int16   \n",
      "  1  er.mask       1 TableHDU        25   1600R x 4C   [F6.2, F6.2, F6.2, F6.2]   \n"
     ]
    }
   ],
   "source": [
    "hdu_list = fits.open(image_file)\n",
    "hdu_list.info()"
   ]
  },
  {
   "cell_type": "markdown",
   "id": "893c74bc",
   "metadata": {
    "id": "893c74bc"
   },
   "source": [
    "`hdu_list.info()` returns an `HDUList` object that gives us information about what's in the FITS file. It acts as a list where we can access each entry like a Python list.\n",
    "\n",
    "It looks like there's data in the `PRIMARY` extension (`hdu_list[0]`) as well as a Table (`hdu_list[1]`). Let's use the next few cells to inspect the data."
   ]
  },
  {
   "cell_type": "code",
   "execution_count": 33,
   "id": "dc126a72",
   "metadata": {
    "colab": {
     "base_uri": "https://localhost:8080/"
    },
    "executionInfo": {
     "elapsed": 285,
     "status": "ok",
     "timestamp": 1705084255488,
     "user": {
      "displayName": "Aditya Sengupta",
      "userId": "05406841331172530634"
     },
     "user_tz": 480
    },
    "id": "dc126a72",
    "outputId": "3e37d9ad-7114-4394-86ba-32a1349e5c29"
   },
   "outputs": [
    {
     "data": {
      "text/plain": [
       "array([[ 7201,  6642,  6642, ...,  9498,  9498, 10057],\n",
       "       [ 6642,  6363,  6642, ..., 10057, 10616, 10616],\n",
       "       [ 6922,  6642,  6922, ..., 10337, 11175, 10616],\n",
       "       ...,\n",
       "       [ 5412,  5132,  5412, ..., 13000, 12580, 12021],\n",
       "       [ 5796,  5517,  5796, ..., 12546, 12546, 11987],\n",
       "       [ 5796,  5796,  6076, ..., 11987, 12546, 12546]], dtype='>i2')"
      ]
     },
     "execution_count": 33,
     "metadata": {},
     "output_type": "execute_result"
    }
   ],
   "source": [
    "hdu_list[0].data"
   ]
  },
  {
   "cell_type": "code",
   "execution_count": 34,
   "id": "1Vo9M-Uk8S0_",
   "metadata": {
    "colab": {
     "base_uri": "https://localhost:8080/"
    },
    "executionInfo": {
     "elapsed": 2,
     "status": "ok",
     "timestamp": 1705084563017,
     "user": {
      "displayName": "Aditya Sengupta",
      "userId": "05406841331172530634"
     },
     "user_tz": 480
    },
    "id": "1Vo9M-Uk8S0_",
    "outputId": "36db0ec1-4556-4ed9-a72d-bcd98284a5ac"
   },
   "outputs": [
    {
     "data": {
      "text/plain": [
       "array([[21603., 19926., 19926., ..., 28494., 28494., 30171.],\n",
       "       [19926., 19089., 19926., ..., 30171., 31848., 31848.],\n",
       "       [20766., 19926., 20766., ..., 31011., 33525., 31848.],\n",
       "       ...,\n",
       "       [16236., 15396., 16236., ..., 39000., 37740., 36063.],\n",
       "       [17388., 16551., 17388., ..., 37638., 37638., 35961.],\n",
       "       [17388., 17388., 18228., ..., 35961., 37638., 37638.]])"
      ]
     },
     "execution_count": 34,
     "metadata": {},
     "output_type": "execute_result"
    }
   ],
   "source": [
    "hdu_list[0].data.astype(float) * 3"
   ]
  },
  {
   "cell_type": "code",
   "execution_count": 35,
   "id": "5203031d",
   "metadata": {
    "colab": {
     "base_uri": "https://localhost:8080/"
    },
    "executionInfo": {
     "elapsed": 275,
     "status": "ok",
     "timestamp": 1705084619646,
     "user": {
      "displayName": "Aditya Sengupta",
      "userId": "05406841331172530634"
     },
     "user_tz": 480
    },
    "id": "5203031d",
    "outputId": "e5ffe64a-6365-480f-a94f-baecd5402eca"
   },
   "outputs": [
    {
     "data": {
      "text/plain": [
       "(893, 891)"
      ]
     },
     "execution_count": 35,
     "metadata": {},
     "output_type": "execute_result"
    }
   ],
   "source": [
    "# what's the shape of the PrimaryHDU?\n",
    "hdu_list[0].data.shape\n",
    "\n",
    "# what is the type of the PrimaryHDU?"
   ]
  },
  {
   "cell_type": "code",
   "execution_count": 36,
   "id": "UUiSrPkw9tcD",
   "metadata": {
    "colab": {
     "base_uri": "https://localhost:8080/"
    },
    "executionInfo": {
     "elapsed": 4,
     "status": "ok",
     "timestamp": 1705084650828,
     "user": {
      "displayName": "Aditya Sengupta",
      "userId": "05406841331172530634"
     },
     "user_tz": 480
    },
    "id": "UUiSrPkw9tcD",
    "outputId": "04736a07-eb78-4156-c010-bafcfa514c5e"
   },
   "outputs": [
    {
     "name": "stdout",
     "output_type": "stream",
     "text": [
      "Filename: /home/jovyan/.astropy/cache/download/url/ff6e0b93871033c68022ca026a956d87/contents\n",
      "No.    Name      Ver    Type      Cards   Dimensions   Format\n",
      "  0  PRIMARY       1 PrimaryHDU     161   (891, 893)   int16   \n",
      "  1  er.mask       1 TableHDU        25   1600R x 4C   [F6.2, F6.2, F6.2, F6.2]   \n"
     ]
    }
   ],
   "source": [
    "hdu_list.info()"
   ]
  },
  {
   "cell_type": "code",
   "execution_count": 37,
   "id": "a439e18e",
   "metadata": {
    "colab": {
     "base_uri": "https://localhost:8080/"
    },
    "executionInfo": {
     "elapsed": 309,
     "status": "ok",
     "timestamp": 1705084635703,
     "user": {
      "displayName": "Aditya Sengupta",
      "userId": "05406841331172530634"
     },
     "user_tz": 480
    },
    "id": "a439e18e",
    "outputId": "e74d402c-4681-4567-a070-16a5d7a67703"
   },
   "outputs": [
    {
     "data": {
      "text/plain": [
       "array([-3.12, -3.12, -3.12, ...,  3.12,  3.12,  3.12])"
      ]
     },
     "execution_count": 37,
     "metadata": {},
     "output_type": "execute_result"
    }
   ],
   "source": [
    "\n",
    "hdu_list[1].data['ETA']\n",
    "\n",
    "# what is the type of the TableHDU?"
   ]
  },
  {
   "cell_type": "code",
   "execution_count": 38,
   "id": "NWP9sJ6Q923b",
   "metadata": {
    "colab": {
     "base_uri": "https://localhost:8080/"
    },
    "executionInfo": {
     "elapsed": 3,
     "status": "ok",
     "timestamp": 1705084680760,
     "user": {
      "displayName": "Aditya Sengupta",
      "userId": "05406841331172530634"
     },
     "user_tz": 480
    },
    "id": "NWP9sJ6Q923b",
    "outputId": "7030bacc-fc8a-4eb1-c795-a27efc3e0624"
   },
   "outputs": [
    {
     "data": {
      "text/plain": [
       "(1600,)"
      ]
     },
     "execution_count": 38,
     "metadata": {},
     "output_type": "execute_result"
    }
   ],
   "source": [
    "hdu_list[1].data['ETA'].shape"
   ]
  },
  {
   "cell_type": "markdown",
   "id": "44046dec",
   "metadata": {
    "id": "44046dec"
   },
   "source": [
    "No matter what you do, if you use `fits.open()` you MUST close your file!!!!!!!!!!!!!"
   ]
  },
  {
   "cell_type": "code",
   "execution_count": 39,
   "id": "f4d8c1f0",
   "metadata": {
    "executionInfo": {
     "elapsed": 273,
     "status": "ok",
     "timestamp": 1705084725967,
     "user": {
      "displayName": "Aditya Sengupta",
      "userId": "05406841331172530634"
     },
     "user_tz": 480
    },
    "id": "f4d8c1f0"
   },
   "outputs": [],
   "source": [
    "hdu_list.close()"
   ]
  },
  {
   "cell_type": "code",
   "execution_count": 40,
   "id": "H_qDVqdF-Dht",
   "metadata": {
    "colab": {
     "base_uri": "https://localhost:8080/",
     "height": 322
    },
    "executionInfo": {
     "elapsed": 6,
     "status": "error",
     "timestamp": 1705084742873,
     "user": {
      "displayName": "Aditya Sengupta",
      "userId": "05406841331172530634"
     },
     "user_tz": 480
    },
    "id": "H_qDVqdF-Dht",
    "outputId": "337b3fbe-ddd6-449c-ad4b-299df44b0096"
   },
   "outputs": [
    {
     "ename": "ValueError",
     "evalue": "I/O operation on closed file",
     "output_type": "error",
     "traceback": [
      "\u001b[0;31m---------------------------------------------------------------------------\u001b[0m",
      "\u001b[0;31mValueError\u001b[0m                                Traceback (most recent call last)",
      "Cell \u001b[0;32mIn[40], line 1\u001b[0m\n\u001b[0;32m----> 1\u001b[0m \u001b[43mhdu_list\u001b[49m\u001b[43m[\u001b[49m\u001b[38;5;241;43m0\u001b[39;49m\u001b[43m]\u001b[49m\u001b[38;5;241;43m.\u001b[39;49m\u001b[43mdata\u001b[49m\n",
      "File \u001b[0;32m/opt/conda/lib/python3.12/site-packages/astropy/utils/decorators.py:850\u001b[0m, in \u001b[0;36mlazyproperty.__get__\u001b[0;34m(self, obj, owner)\u001b[0m\n\u001b[1;32m    848\u001b[0m         val \u001b[38;5;241m=\u001b[39m obj_dict\u001b[38;5;241m.\u001b[39mget(\u001b[38;5;28mself\u001b[39m\u001b[38;5;241m.\u001b[39m_key, _NotFound)\n\u001b[1;32m    849\u001b[0m         \u001b[38;5;28;01mif\u001b[39;00m val \u001b[38;5;129;01mis\u001b[39;00m _NotFound:\n\u001b[0;32m--> 850\u001b[0m             val \u001b[38;5;241m=\u001b[39m \u001b[38;5;28;43mself\u001b[39;49m\u001b[38;5;241;43m.\u001b[39;49m\u001b[43mfget\u001b[49m\u001b[43m(\u001b[49m\u001b[43mobj\u001b[49m\u001b[43m)\u001b[49m\n\u001b[1;32m    851\u001b[0m             obj_dict[\u001b[38;5;28mself\u001b[39m\u001b[38;5;241m.\u001b[39m_key] \u001b[38;5;241m=\u001b[39m val\n\u001b[1;32m    852\u001b[0m \u001b[38;5;28;01mreturn\u001b[39;00m val\n",
      "File \u001b[0;32m/opt/conda/lib/python3.12/site-packages/astropy/io/fits/hdu/image.py:250\u001b[0m, in \u001b[0;36m_ImageBaseHDU.data\u001b[0;34m(self)\u001b[0m\n\u001b[1;32m    247\u001b[0m \u001b[38;5;28;01mif\u001b[39;00m \u001b[38;5;28mlen\u001b[39m(\u001b[38;5;28mself\u001b[39m\u001b[38;5;241m.\u001b[39m_axes) \u001b[38;5;241m<\u001b[39m \u001b[38;5;241m1\u001b[39m:\n\u001b[1;32m    248\u001b[0m     \u001b[38;5;28;01mreturn\u001b[39;00m\n\u001b[0;32m--> 250\u001b[0m data \u001b[38;5;241m=\u001b[39m \u001b[38;5;28;43mself\u001b[39;49m\u001b[38;5;241;43m.\u001b[39;49m\u001b[43m_get_scaled_image_data\u001b[49m\u001b[43m(\u001b[49m\u001b[38;5;28;43mself\u001b[39;49m\u001b[38;5;241;43m.\u001b[39;49m\u001b[43m_data_offset\u001b[49m\u001b[43m,\u001b[49m\u001b[43m \u001b[49m\u001b[38;5;28;43mself\u001b[39;49m\u001b[38;5;241;43m.\u001b[39;49m\u001b[43mshape\u001b[49m\u001b[43m)\u001b[49m\n\u001b[1;32m    251\u001b[0m \u001b[38;5;28mself\u001b[39m\u001b[38;5;241m.\u001b[39m_update_header_scale_info(data\u001b[38;5;241m.\u001b[39mdtype)\n\u001b[1;32m    253\u001b[0m \u001b[38;5;28;01mreturn\u001b[39;00m data\n",
      "File \u001b[0;32m/opt/conda/lib/python3.12/site-packages/astropy/io/fits/hdu/image.py:812\u001b[0m, in \u001b[0;36m_ImageBaseHDU._get_scaled_image_data\u001b[0;34m(self, offset, shape)\u001b[0m\n\u001b[1;32m    805\u001b[0m \u001b[38;5;250m\u001b[39m\u001b[38;5;124;03m\"\"\"\u001b[39;00m\n\u001b[1;32m    806\u001b[0m \u001b[38;5;124;03mInternal function for reading image data from a file and apply scale\u001b[39;00m\n\u001b[1;32m    807\u001b[0m \u001b[38;5;124;03mfactors to it.  Normally this is used for the entire image, but it\u001b[39;00m\n\u001b[1;32m    808\u001b[0m \u001b[38;5;124;03msupports alternate offset/shape for Section support.\u001b[39;00m\n\u001b[1;32m    809\u001b[0m \u001b[38;5;124;03m\"\"\"\u001b[39;00m\n\u001b[1;32m    810\u001b[0m code \u001b[38;5;241m=\u001b[39m BITPIX2DTYPE[\u001b[38;5;28mself\u001b[39m\u001b[38;5;241m.\u001b[39m_orig_bitpix]\n\u001b[0;32m--> 812\u001b[0m raw_data \u001b[38;5;241m=\u001b[39m \u001b[38;5;28;43mself\u001b[39;49m\u001b[38;5;241;43m.\u001b[39;49m\u001b[43m_get_raw_data\u001b[49m\u001b[43m(\u001b[49m\u001b[43mshape\u001b[49m\u001b[43m,\u001b[49m\u001b[43m \u001b[49m\u001b[43mcode\u001b[49m\u001b[43m,\u001b[49m\u001b[43m \u001b[49m\u001b[43moffset\u001b[49m\u001b[43m)\u001b[49m\n\u001b[1;32m    813\u001b[0m raw_data\u001b[38;5;241m.\u001b[39mdtype \u001b[38;5;241m=\u001b[39m raw_data\u001b[38;5;241m.\u001b[39mdtype\u001b[38;5;241m.\u001b[39mnewbyteorder(\u001b[38;5;124m\"\u001b[39m\u001b[38;5;124m>\u001b[39m\u001b[38;5;124m\"\u001b[39m)\n\u001b[1;32m    815\u001b[0m \u001b[38;5;28;01mreturn\u001b[39;00m \u001b[38;5;28mself\u001b[39m\u001b[38;5;241m.\u001b[39m_scale_data(raw_data)\n",
      "File \u001b[0;32m/opt/conda/lib/python3.12/site-packages/astropy/io/fits/hdu/base.py:554\u001b[0m, in \u001b[0;36m_BaseHDU._get_raw_data\u001b[0;34m(self, shape, code, offset)\u001b[0m\n\u001b[1;32m    552\u001b[0m     \u001b[38;5;28;01mreturn\u001b[39;00m np\u001b[38;5;241m.\u001b[39mndarray(shape, dtype\u001b[38;5;241m=\u001b[39mcode, buffer\u001b[38;5;241m=\u001b[39m\u001b[38;5;28mself\u001b[39m\u001b[38;5;241m.\u001b[39m_buffer, offset\u001b[38;5;241m=\u001b[39moffset)\n\u001b[1;32m    553\u001b[0m \u001b[38;5;28;01melif\u001b[39;00m \u001b[38;5;28mself\u001b[39m\u001b[38;5;241m.\u001b[39m_file:\n\u001b[0;32m--> 554\u001b[0m     \u001b[38;5;28;01mreturn\u001b[39;00m \u001b[38;5;28;43mself\u001b[39;49m\u001b[38;5;241;43m.\u001b[39;49m\u001b[43m_file\u001b[49m\u001b[38;5;241;43m.\u001b[39;49m\u001b[43mreadarray\u001b[49m\u001b[43m(\u001b[49m\u001b[43moffset\u001b[49m\u001b[38;5;241;43m=\u001b[39;49m\u001b[43moffset\u001b[49m\u001b[43m,\u001b[49m\u001b[43m \u001b[49m\u001b[43mdtype\u001b[49m\u001b[38;5;241;43m=\u001b[39;49m\u001b[43mcode\u001b[49m\u001b[43m,\u001b[49m\u001b[43m \u001b[49m\u001b[43mshape\u001b[49m\u001b[38;5;241;43m=\u001b[39;49m\u001b[43mshape\u001b[49m\u001b[43m)\u001b[49m\n\u001b[1;32m    555\u001b[0m \u001b[38;5;28;01melse\u001b[39;00m:\n\u001b[1;32m    556\u001b[0m     \u001b[38;5;28;01mreturn\u001b[39;00m \u001b[38;5;28;01mNone\u001b[39;00m\n",
      "File \u001b[0;32m/opt/conda/lib/python3.12/site-packages/astropy/io/fits/file.py:344\u001b[0m, in \u001b[0;36m_File.readarray\u001b[0;34m(self, size, offset, dtype, shape)\u001b[0m\n\u001b[1;32m    339\u001b[0m     \u001b[38;5;28;01melif\u001b[39;00m actualsize \u001b[38;5;241m<\u001b[39m size:\n\u001b[1;32m    340\u001b[0m         \u001b[38;5;28;01mraise\u001b[39;00m \u001b[38;5;167;01mValueError\u001b[39;00m(\n\u001b[1;32m    341\u001b[0m             \u001b[38;5;124mf\u001b[39m\u001b[38;5;124m\"\u001b[39m\u001b[38;5;124msize \u001b[39m\u001b[38;5;132;01m{\u001b[39;00msize\u001b[38;5;132;01m}\u001b[39;00m\u001b[38;5;124m is too many bytes for a \u001b[39m\u001b[38;5;132;01m{\u001b[39;00mshape\u001b[38;5;132;01m}\u001b[39;00m\u001b[38;5;124m array of \u001b[39m\u001b[38;5;132;01m{\u001b[39;00mdtype\u001b[38;5;132;01m}\u001b[39;00m\u001b[38;5;124m\"\u001b[39m\n\u001b[1;32m    342\u001b[0m         )\n\u001b[0;32m--> 344\u001b[0m filepos \u001b[38;5;241m=\u001b[39m \u001b[38;5;28;43mself\u001b[39;49m\u001b[38;5;241;43m.\u001b[39;49m\u001b[43m_file\u001b[49m\u001b[38;5;241;43m.\u001b[39;49m\u001b[43mtell\u001b[49m\u001b[43m(\u001b[49m\u001b[43m)\u001b[49m\n\u001b[1;32m    346\u001b[0m \u001b[38;5;28;01mtry\u001b[39;00m:\n\u001b[1;32m    347\u001b[0m     \u001b[38;5;28;01mif\u001b[39;00m \u001b[38;5;28mself\u001b[39m\u001b[38;5;241m.\u001b[39mmemmap:\n",
      "\u001b[0;31mValueError\u001b[0m: I/O operation on closed file"
     ]
    }
   ],
   "source": [
    "hdu_list[0].data"
   ]
  },
  {
   "cell_type": "markdown",
   "id": "4816b312",
   "metadata": {
    "id": "4816b312"
   },
   "source": [
    "You can access data via HDULists, but I find them slightly confusing. Lucky for us, `astropy.fits` has a direct method of getting your data. This is especially useful if you know what to expect in your file!"
   ]
  },
  {
   "cell_type": "code",
   "execution_count": 41,
   "id": "f4cf0eb4",
   "metadata": {
    "colab": {
     "base_uri": "https://localhost:8080/"
    },
    "executionInfo": {
     "elapsed": 377,
     "status": "ok",
     "timestamp": 1705084842552,
     "user": {
      "displayName": "Aditya Sengupta",
      "userId": "05406841331172530634"
     },
     "user_tz": 480
    },
    "id": "f4cf0eb4",
    "outputId": "bc3475ea-872f-419a-d4e0-5d17da40b9d9"
   },
   "outputs": [
    {
     "name": "stdout",
     "output_type": "stream",
     "text": [
      "Help on function getdata in module astropy.io.fits.convenience:\n",
      "\n",
      "getdata(filename, *args, header=None, lower=None, upper=None, view=None, **kwargs)\n",
      "    Get the data from an HDU of a FITS file (and optionally the\n",
      "    header).\n",
      "\n",
      "    Parameters\n",
      "    ----------\n",
      "    filename : path-like or file-like\n",
      "        File to get data from.  If opened, mode must be one of the\n",
      "        following rb, rb+, or ab+.\n",
      "\n",
      "    ext\n",
      "        The rest of the arguments are for HDU specification.\n",
      "        They are flexible and are best illustrated by examples.\n",
      "\n",
      "        No extra arguments implies the primary HDU::\n",
      "\n",
      "            getdata('in.fits')\n",
      "\n",
      "        .. note::\n",
      "            Exclusive to ``getdata``: if ``ext`` is not specified\n",
      "            and primary header contains no data, ``getdata`` attempts\n",
      "            to retrieve data from first extension HDU.\n",
      "\n",
      "        By HDU number::\n",
      "\n",
      "            getdata('in.fits', 0)      # the primary HDU\n",
      "            getdata('in.fits', 2)      # the second extension HDU\n",
      "            getdata('in.fits', ext=2)  # the second extension HDU\n",
      "\n",
      "        By name, i.e., ``EXTNAME`` value (if unique)::\n",
      "\n",
      "            getdata('in.fits', 'sci')\n",
      "            getdata('in.fits', extname='sci')  # equivalent\n",
      "\n",
      "        Note ``EXTNAME`` values are not case sensitive\n",
      "\n",
      "        By combination of ``EXTNAME`` and EXTVER`` as separate\n",
      "        arguments or as a tuple::\n",
      "\n",
      "            getdata('in.fits', 'sci', 2)  # EXTNAME='SCI' & EXTVER=2\n",
      "            getdata('in.fits', extname='sci', extver=2)  # equivalent\n",
      "            getdata('in.fits', ('sci', 2))  # equivalent\n",
      "\n",
      "        Ambiguous or conflicting specifications will raise an exception::\n",
      "\n",
      "            getdata('in.fits', ext=('sci',1), extname='err', extver=2)\n",
      "\n",
      "    header : bool, optional\n",
      "        If `True`, return the data and the header of the specified HDU as a\n",
      "        tuple.\n",
      "\n",
      "    lower, upper : bool, optional\n",
      "        If ``lower`` or ``upper`` are `True`, the field names in the\n",
      "        returned data object will be converted to lower or upper case,\n",
      "        respectively.\n",
      "\n",
      "    view : ndarray, optional\n",
      "        When given, the data will be returned wrapped in the given ndarray\n",
      "        subclass by calling::\n",
      "\n",
      "           data.view(view)\n",
      "\n",
      "    **kwargs\n",
      "        Any additional keyword arguments to be passed to\n",
      "        `astropy.io.fits.open`.\n",
      "\n",
      "    Returns\n",
      "    -------\n",
      "    array : ndarray or `~numpy.recarray` or `~astropy.io.fits.Group`\n",
      "        Type depends on the type of the extension being referenced.\n",
      "\n",
      "        If the optional keyword ``header`` is set to `True`, this\n",
      "        function will return a (``data``, ``header``) tuple.\n",
      "\n",
      "    Raises\n",
      "    ------\n",
      "    IndexError\n",
      "        If no data is found in searched HDUs.\n",
      "\n"
     ]
    }
   ],
   "source": [
    "help(fits.getdata)"
   ]
  },
  {
   "cell_type": "code",
   "execution_count": 42,
   "id": "f3702a4a",
   "metadata": {
    "colab": {
     "base_uri": "https://localhost:8080/",
     "height": 35
    },
    "executionInfo": {
     "elapsed": 302,
     "status": "ok",
     "timestamp": 1705084880330,
     "user": {
      "displayName": "Aditya Sengupta",
      "userId": "05406841331172530634"
     },
     "user_tz": 480
    },
    "id": "f3702a4a",
    "outputId": "753ad3d9-a428-4efb-e3bc-d93afccb8788"
   },
   "outputs": [
    {
     "data": {
      "text/plain": [
       "'/home/jovyan/.astropy/cache/download/url/ff6e0b93871033c68022ca026a956d87/contents'"
      ]
     },
     "execution_count": 42,
     "metadata": {},
     "output_type": "execute_result"
    }
   ],
   "source": [
    "image_file"
   ]
  },
  {
   "cell_type": "code",
   "execution_count": 43,
   "id": "844f4d43",
   "metadata": {
    "executionInfo": {
     "elapsed": 305,
     "status": "ok",
     "timestamp": 1705084882448,
     "user": {
      "displayName": "Aditya Sengupta",
      "userId": "05406841331172530634"
     },
     "user_tz": 480
    },
    "id": "844f4d43"
   },
   "outputs": [],
   "source": [
    "data = fits.getdata(image_file)"
   ]
  },
  {
   "cell_type": "code",
   "execution_count": 44,
   "id": "5af73062",
   "metadata": {
    "colab": {
     "base_uri": "https://localhost:8080/"
    },
    "executionInfo": {
     "elapsed": 307,
     "status": "ok",
     "timestamp": 1705084891444,
     "user": {
      "displayName": "Aditya Sengupta",
      "userId": "05406841331172530634"
     },
     "user_tz": 480
    },
    "id": "5af73062",
    "outputId": "049727dc-ce34-4117-9e2a-cd4383b9090a"
   },
   "outputs": [
    {
     "data": {
      "text/plain": [
       "array([[ 7201,  6642,  6642, ...,  9498,  9498, 10057],\n",
       "       [ 6642,  6363,  6642, ..., 10057, 10616, 10616],\n",
       "       [ 6922,  6642,  6922, ..., 10337, 11175, 10616],\n",
       "       ...,\n",
       "       [ 5412,  5132,  5412, ..., 13000, 12580, 12021],\n",
       "       [ 5796,  5517,  5796, ..., 12546, 12546, 11987],\n",
       "       [ 5796,  5796,  6076, ..., 11987, 12546, 12546]], dtype='>i2')"
      ]
     },
     "execution_count": 44,
     "metadata": {},
     "output_type": "execute_result"
    }
   ],
   "source": [
    "data"
   ]
  },
  {
   "cell_type": "code",
   "execution_count": 45,
   "id": "963a657c",
   "metadata": {
    "executionInfo": {
     "elapsed": 279,
     "status": "ok",
     "timestamp": 1705084902741,
     "user": {
      "displayName": "Aditya Sengupta",
      "userId": "05406841331172530634"
     },
     "user_tz": 480
    },
    "id": "963a657c"
   },
   "outputs": [],
   "source": [
    "data, header = fits.getdata(image_file, header=True)"
   ]
  },
  {
   "cell_type": "code",
   "execution_count": 46,
   "id": "78b2a106",
   "metadata": {
    "colab": {
     "base_uri": "https://localhost:8080/"
    },
    "executionInfo": {
     "elapsed": 369,
     "status": "ok",
     "timestamp": 1705084904709,
     "user": {
      "displayName": "Aditya Sengupta",
      "userId": "05406841331172530634"
     },
     "user_tz": 480
    },
    "id": "78b2a106",
    "outputId": "ce91e326-c9db-420e-a629-b9a0ef9947ca"
   },
   "outputs": [
    {
     "data": {
      "text/plain": [
       "array([[ 7201,  6642,  6642, ...,  9498,  9498, 10057],\n",
       "       [ 6642,  6363,  6642, ..., 10057, 10616, 10616],\n",
       "       [ 6922,  6642,  6922, ..., 10337, 11175, 10616],\n",
       "       ...,\n",
       "       [ 5412,  5132,  5412, ..., 13000, 12580, 12021],\n",
       "       [ 5796,  5517,  5796, ..., 12546, 12546, 11987],\n",
       "       [ 5796,  5796,  6076, ..., 11987, 12546, 12546]], dtype='>i2')"
      ]
     },
     "execution_count": 46,
     "metadata": {},
     "output_type": "execute_result"
    }
   ],
   "source": [
    "data"
   ]
  },
  {
   "cell_type": "code",
   "execution_count": 47,
   "id": "b563c692",
   "metadata": {
    "colab": {
     "base_uri": "https://localhost:8080/",
     "height": 35
    },
    "executionInfo": {
     "elapsed": 274,
     "status": "ok",
     "timestamp": 1705084909477,
     "user": {
      "displayName": "Aditya Sengupta",
      "userId": "05406841331172530634"
     },
     "user_tz": 480
    },
    "id": "b563c692",
    "outputId": "a3167b14-ce64-4bcd-cab3-51e94a5a1a2a"
   },
   "outputs": [
    {
     "data": {
      "text/plain": [
       "'data'"
      ]
     },
     "execution_count": 47,
     "metadata": {},
     "output_type": "execute_result"
    }
   ],
   "source": [
    "header[\"OBJECT\"]"
   ]
  },
  {
   "cell_type": "code",
   "execution_count": 48,
   "id": "PuXmOtkS-zag",
   "metadata": {
    "colab": {
     "base_uri": "https://localhost:8080/"
    },
    "executionInfo": {
     "elapsed": 328,
     "status": "ok",
     "timestamp": 1705084930226,
     "user": {
      "displayName": "Aditya Sengupta",
      "userId": "05406841331172530634"
     },
     "user_tz": 480
    },
    "id": "PuXmOtkS-zag",
    "outputId": "39a1cc02-4fe3-4d56-958c-550499131418"
   },
   "outputs": [
    {
     "data": {
      "text/plain": [
       "astropy.io.fits.header.Header"
      ]
     },
     "execution_count": 48,
     "metadata": {},
     "output_type": "execute_result"
    }
   ],
   "source": [
    "type(header)"
   ]
  },
  {
   "cell_type": "markdown",
   "id": "d1b9aed5",
   "metadata": {
    "id": "d1b9aed5"
   },
   "source": [
    "The Header Object gives you all the information about the file. In this case, it's giving you observing data for when and where it was taken, as well as much more. This is useful if you need to know the exact time the image was taken, or what filter it was in.\n",
    "\n",
    "Header objects act like dictionaries, which mean we can ask for different keyword values."
   ]
  },
  {
   "cell_type": "code",
   "execution_count": 49,
   "id": "b55Ps0DqAGjx",
   "metadata": {
    "colab": {
     "base_uri": "https://localhost:8080/"
    },
    "executionInfo": {
     "elapsed": 3,
     "status": "ok",
     "timestamp": 1705085274065,
     "user": {
      "displayName": "Aditya Sengupta",
      "userId": "05406841331172530634"
     },
     "user_tz": 480
    },
    "id": "b55Ps0DqAGjx",
    "outputId": "e44c165a-7524-4f1a-d589-646dd02627f7"
   },
   "outputs": [
    {
     "data": {
      "text/plain": [
       "6.626666666666667"
      ]
     },
     "execution_count": 49,
     "metadata": {},
     "output_type": "execute_result"
    }
   ],
   "source": [
    "67.2 * 355 / 3600"
   ]
  },
  {
   "cell_type": "code",
   "execution_count": 50,
   "id": "ciMx1wgi-_V6",
   "metadata": {
    "colab": {
     "base_uri": "https://localhost:8080/"
    },
    "executionInfo": {
     "elapsed": 303,
     "status": "ok",
     "timestamp": 1705084977716,
     "user": {
      "displayName": "Aditya Sengupta",
      "userId": "05406841331172530634"
     },
     "user_tz": 480
    },
    "id": "ciMx1wgi-_V6",
    "outputId": "584343ec-0e4d-4c4e-cb9b-afbc8bf8ea9b"
   },
   "outputs": [
    {
     "data": {
      "text/plain": [
       "SIMPLE  =                    T /FITS: Compliance                                \n",
       "BITPIX  =                   16 /FITS: I*2 Data                                  \n",
       "NAXIS   =                    2 /FITS: 2-D Image Data                            \n",
       "NAXIS1  =                  891 /FITS: X Dimension                               \n",
       "NAXIS2  =                  893 /FITS: Y Dimension                               \n",
       "EXTEND  =                    T /FITS: File can contain extensions               \n",
       "DATE    = '2014-01-09        '  /FITS: Creation Date                            \n",
       "ORIGIN  = 'STScI/MAST'         /GSSS: STScI Digitized Sky Survey                \n",
       "SURVEY  = 'SERC-ER '           /GSSS: Sky Survey                                \n",
       "REGION  = 'ER768   '           /GSSS: Region Name                               \n",
       "PLATEID = 'A0JP    '           /GSSS: Plate ID                                  \n",
       "SCANNUM = '01      '           /GSSS: Scan Number                               \n",
       "DSCNDNUM= '00      '           /GSSS: Descendant Number                         \n",
       "TELESCID=                    4 /GSSS: Telescope ID                              \n",
       "BANDPASS=                   36 /GSSS: Bandpass Code                             \n",
       "COPYRGHT= 'AAO/ROE '           /GSSS: Copyright Holder                          \n",
       "SITELAT =              -31.277 /Observatory: Latitude                           \n",
       "SITELONG=              210.934 /Observatory: Longitude                          \n",
       "TELESCOP= 'UK Schmidt - Doubl' /Observatory: Telescope                          \n",
       "INSTRUME= 'Photographic Plate' /Detector: Photographic Plate                    \n",
       "EMULSION= 'IIIaF   '           /Detector: Emulsion                              \n",
       "FILTER  = 'OG590   '           /Detector: Filter                                \n",
       "PLTSCALE=                67.20 /Detector: Plate Scale arcsec per mm             \n",
       "PLTSIZEX=              355.000 /Detector: Plate X Dimension mm                  \n",
       "PLTSIZEY=              355.000 /Detector: Plate Y Dimension mm                  \n",
       "PLATERA =        85.5994550000 /Observation: Field centre RA degrees            \n",
       "PLATEDEC=       -4.94660910000 /Observation: Field centre Dec degrees           \n",
       "PLTLABEL= 'OR14052 '           /Observation: Plate Label                        \n",
       "DATE-OBS= '1990-12-22T13:49:00' /Observation: Date/Time                         \n",
       "EXPOSURE=                 65.0 /Observation: Exposure Minutes                   \n",
       "PLTGRADE= 'AD2     '           /Observation: Plate Grade                        \n",
       "OBSHA   =             0.158333 /Observation: Hour Angle                         \n",
       "OBSZD   =              26.3715 /Observation: Zenith Distance                    \n",
       "AIRMASS =              1.11587 /Observation: Airmass                            \n",
       "REFBETA =        66.3196420000 /Observation: Refraction Coeff                   \n",
       "REFBETAP=     -0.0820000000000 /Observation: Refraction Coeff                   \n",
       "REFK1   =        6423.52290000 /Observation: Refraction Coeff                   \n",
       "REFK2   =       -102122.550000 /Observation: Refraction Coeff                   \n",
       "CNPIX1  =                12237 /Scan: X Corner                                  \n",
       "CNPIX2  =                19965 /Scan: Y Corner                                  \n",
       "XPIXELS =                23040 /Scan: X Dimension                               \n",
       "YPIXELS =                23040 /Scan: Y Dimension                               \n",
       "XPIXELSZ=              15.0295 /Scan: Pixel Size microns                        \n",
       "YPIXELSZ=              15.0000 /Scan: Pixel Size microns                        \n",
       "PPO1    =       -3069417.00000 /Scan: Orientation Coeff                         \n",
       "PPO2    =       0.000000000000 /Scan: Orientation Coeff                         \n",
       "PPO3    =        177500.000000 /Scan: Orientation Coeff                         \n",
       "PPO4    =       0.000000000000 /Scan: Orientation Coeff                         \n",
       "PPO5    =        3069417.00000 /Scan: Orientation Coeff                         \n",
       "PPO6    =        177500.000000 /Scan: Orientation Coeff                         \n",
       "PLTRAH  =                    5 /Astrometry: Plate Centre H                      \n",
       "PLTRAM  =                   42 /Astrometry: Plate Centre M                      \n",
       "PLTRAS  =                23.86 /Astrometry: Plate Centre S                      \n",
       "PLTDECSN= '-       '           /Astrometry: Plate Centre +/-                    \n",
       "PLTDECD =                    4 /Astrometry: Plate Centre D                      \n",
       "PLTDECM =                   56 /Astrometry: Plate Centre M                      \n",
       "PLTDECS =                 47.9 /Astrometry: Plate Centre S                      \n",
       "EQUINOX =               2000.0 /Astrometry: Equinox                             \n",
       "AMDX1   =        67.1550859799 /Astrometry: GSC1 Coeff                          \n",
       "AMDX2   =      0.0431478884485 /Astrometry: GSC1 Coeff                          \n",
       "AMDX3   =       -292.435619180 /Astrometry: GSC1 Coeff                          \n",
       "AMDX4   =  -2.68934864702E-005 /Astrometry: GSC1 Coeff                          \n",
       "AMDX5   =   1.99133423290E-005 /Astrometry: GSC1 Coeff                          \n",
       "AMDX6   =  -2.37011931379E-006 /Astrometry: GSC1 Coeff                          \n",
       "AMDX7   =       0.000000000000 /Astrometry: GSC1 Coeff                          \n",
       "AMDX8   =   2.21426387429E-006 /Astrometry: GSC1 Coeff                          \n",
       "AMDX9   =  -8.12841581455E-008 /Astrometry: GSC1 Coeff                          \n",
       "AMDX10  =   2.48169090021E-006 /Astrometry: GSC1 Coeff                          \n",
       "AMDX11  =   2.77618933926E-008 /Astrometry: GSC1 Coeff                          \n",
       "AMDX12  =       0.000000000000 /Astrometry: GSC1 Coeff                          \n",
       "AMDX13  =       0.000000000000 /Astrometry: GSC1 Coeff                          \n",
       "AMDX14  =       0.000000000000 /Astrometry: GSC1 Coeff                          \n",
       "AMDX15  =       0.000000000000 /Astrometry: GSC1 Coeff                          \n",
       "AMDX16  =       0.000000000000 /Astrometry: GSC1 Coeff                          \n",
       "AMDX17  =       0.000000000000 /Astrometry: GSC1 Coeff                          \n",
       "AMDX18  =       0.000000000000 /Astrometry: GSC1 Coeff                          \n",
       "AMDX19  =       0.000000000000 /Astrometry: GSC1 Coeff                          \n",
       "AMDX20  =       0.000000000000 /Astrometry: GSC1 Coeff                          \n",
       "AMDY1   =        67.1593591466 /Astrometry: GSC1 Coeff                          \n",
       "AMDY2   =     -0.0471363749174 /Astrometry: GSC1 Coeff                          \n",
       "AMDY3   =        316.004963520 /Astrometry: GSC1 Coeff                          \n",
       "AMDY4   =   2.86798151430E-005 /Astrometry: GSC1 Coeff                          \n",
       "AMDY5   =  -2.00968236347E-005 /Astrometry: GSC1 Coeff                          \n",
       "AMDY6   =   2.27840393227E-005 /Astrometry: GSC1 Coeff                          \n",
       "AMDY7   =       0.000000000000 /Astrometry: GSC1 Coeff                          \n",
       "AMDY8   =   2.23885090381E-006 /Astrometry: GSC1 Coeff                          \n",
       "AMDY9   =  -2.28360163464E-008 /Astrometry: GSC1 Coeff                          \n",
       "AMDY10  =   2.44828851495E-006 /Astrometry: GSC1 Coeff                          \n",
       "AMDY11  =  -5.76717487998E-008 /Astrometry: GSC1 Coeff                          \n",
       "AMDY12  =       0.000000000000 /Astrometry: GSC1 Coeff                          \n",
       "AMDY13  =       0.000000000000 /Astrometry: GSC1 Coeff                          \n",
       "AMDY14  =       0.000000000000 /Astrometry: GSC1 Coeff                          \n",
       "AMDY15  =       0.000000000000 /Astrometry: GSC1 Coeff                          \n",
       "AMDY16  =       0.000000000000 /Astrometry: GSC1 Coeff                          \n",
       "AMDY17  =       0.000000000000 /Astrometry: GSC1 Coeff                          \n",
       "AMDY18  =       0.000000000000 /Astrometry: GSC1 Coeff                          \n",
       "AMDY19  =       0.000000000000 /Astrometry: GSC1 Coeff                          \n",
       "AMDY20  =       0.000000000000 /Astrometry: GSC1 Coeff                          \n",
       "AMDREX1 =        67.1532034737 /Astrometry: GSC2 Coeff                          \n",
       "AMDREX2 =      0.0434354199559 /Astrometry: GSC2 Coeff                          \n",
       "AMDREX3 =       -292.435438892 /Astrometry: GSC2 Coeff                          \n",
       "AMDREX4 =   4.60919247070E-006 /Astrometry: GSC2 Coeff                          \n",
       "AMDREX5 =  -3.21138058537E-006 /Astrometry: GSC2 Coeff                          \n",
       "AMDREX6 =   7.23651736725E-006 /Astrometry: GSC2 Coeff                          \n",
       "AMDREX7 =       0.000000000000 /Astrometry: GSC2 Coeff                          \n",
       "AMDREX8 =       0.000000000000 /Astrometry: GSC2 Coeff                          \n",
       "AMDREX9 =       0.000000000000 /Astrometry: GSC2 Coeff                          \n",
       "AMDREX10=       0.000000000000 /Astrometry: GSC2 Coeff                          \n",
       "AMDREX11=       0.000000000000 /Astrometry: GSC2 Coeff                          \n",
       "AMDREX12=       0.000000000000 /Astrometry: GSC2 Coeff                          \n",
       "AMDREX13=       0.000000000000 /Astrometry: GSC2 Coeff                          \n",
       "AMDREX14=       0.000000000000 /Astrometry: GSC2 Coeff                          \n",
       "AMDREX15=       0.000000000000 /Astrometry: GSC2 Coeff                          \n",
       "AMDREX16=       0.000000000000 /Astrometry: GSC2 Coeff                          \n",
       "AMDREX17=       0.000000000000 /Astrometry: GSC2 Coeff                          \n",
       "AMDREX18=       0.000000000000 /Astrometry: GSC2 Coeff                          \n",
       "AMDREX19=       0.000000000000 /Astrometry: GSC2 Coeff                          \n",
       "AMDREX20=       0.000000000000 /Astrometry: GSC2 Coeff                          \n",
       "AMDREY1 =        67.1522589487 /Astrometry: GSC2 Coeff                          \n",
       "AMDREY2 =     -0.0481758265285 /Astrometry: GSC2 Coeff                          \n",
       "AMDREY3 =        315.995683716 /Astrometry: GSC2 Coeff                          \n",
       "AMDREY4 =  -7.47397531230E-006 /Astrometry: GSC2 Coeff                          \n",
       "AMDREY5 =   9.55221105409E-007 /Astrometry: GSC2 Coeff                          \n",
       "AMDREY6 =   7.60954485251E-006 /Astrometry: GSC2 Coeff                          \n",
       "AMDREY7 =       0.000000000000 /Astrometry: GSC2 Coeff                          \n",
       "AMDREY8 =       0.000000000000 /Astrometry: GSC2 Coeff                          \n",
       "AMDREY9 =       0.000000000000 /Astrometry: GSC2 Coeff                          \n",
       "AMDREY10=       0.000000000000 /Astrometry: GSC2 Coeff                          \n",
       "AMDREY11=       0.000000000000 /Astrometry: GSC2 Coeff                          \n",
       "AMDREY12=       0.000000000000 /Astrometry: GSC2 Coeff                          \n",
       "AMDREY13=       0.000000000000 /Astrometry: GSC2 Coeff                          \n",
       "AMDREY14=       0.000000000000 /Astrometry: GSC2 Coeff                          \n",
       "AMDREY15=       0.000000000000 /Astrometry: GSC2 Coeff                          \n",
       "AMDREY16=       0.000000000000 /Astrometry: GSC2 Coeff                          \n",
       "AMDREY17=       0.000000000000 /Astrometry: GSC2 Coeff                          \n",
       "AMDREY18=       0.000000000000 /Astrometry: GSC2 Coeff                          \n",
       "AMDREY19=       0.000000000000 /Astrometry: GSC2 Coeff                          \n",
       "AMDREY20=       0.000000000000 /Astrometry: GSC2 Coeff                          \n",
       "ASTRMASK= 'er.mask '           /Astrometry: GSC2 Mask                           \n",
       "WCSAXES =                    2 /GetImage: Number WCS axes                       \n",
       "WCSNAME = 'DSS               ' /GetImage: Local WCS approximation from full plat\n",
       "RADESYS = 'ICRS              ' /GetImage: GSC-II calibration using ICRS system  \n",
       "CTYPE1  = 'RA---TAN          ' /GetImage: RA-Gnomic projection                  \n",
       "CRPIX1  =           446.000000 /GetImage: X reference pixel                     \n",
       "CRVAL1  =            85.274970 /GetImage: RA of reference pixel                 \n",
       "CUNIT1  = 'deg               ' /GetImage: degrees                               \n",
       "CTYPE2  = 'DEC--TAN          ' /GetImage: Dec-Gnomic projection                 \n",
       "CRPIX2  =           447.000000 /GetImage: Y reference pixel                     \n",
       "CRVAL2  =            -2.458265 /GetImage: Dec of reference pixel                \n",
       "CUNIT2  = 'deg               ' /Getimage: degrees                               \n",
       "CD1_1   =        -0.0002802651 /GetImage: rotation matrix coefficient           \n",
       "CD1_2   =         0.0000003159 /GetImage: rotation matrix coefficient           \n",
       "CD2_1   =         0.0000002767 /GetImage: rotation matrix coefficient           \n",
       "CD2_2   =         0.0002798187 /GetImage: rotation matrix coefficient           \n",
       "OBJECT  = 'data              ' /GetImage: Requested Object Name                 \n",
       "DATAMIN =                 3759 /GetImage: Minimum returned pixel value          \n",
       "DATAMAX =                22918 /GetImage: Maximum returned pixel value          \n",
       "OBJCTRA = '05 41 06.000      ' /GetImage: Requested Right Ascension (J2000)     \n",
       "OBJCTDEC= '-02 27 30.00      ' /GetImage: Requested Declination (J2000)         \n",
       "OBJCTX  =             12682.48 /GetImage: Requested X on plate (pixels)         \n",
       "OBJCTY  =             20411.37 /GetImage: Requested Y on plate (pixels)         "
      ]
     },
     "execution_count": 50,
     "metadata": {},
     "output_type": "execute_result"
    }
   ],
   "source": [
    "header"
   ]
  },
  {
   "cell_type": "code",
   "execution_count": 51,
   "id": "_lE6U_MKAcK-",
   "metadata": {
    "colab": {
     "base_uri": "https://localhost:8080/",
     "height": 35
    },
    "executionInfo": {
     "elapsed": 332,
     "status": "ok",
     "timestamp": 1705085358850,
     "user": {
      "displayName": "Aditya Sengupta",
      "userId": "05406841331172530634"
     },
     "user_tz": 480
    },
    "id": "_lE6U_MKAcK-",
    "outputId": "e37509b2-d4a6-472b-ee0d-51ee7c3dc00a"
   },
   "outputs": [
    {
     "data": {
      "text/plain": [
       "'data'"
      ]
     },
     "execution_count": 51,
     "metadata": {},
     "output_type": "execute_result"
    }
   ],
   "source": [
    "header[\"OBJECT\"]"
   ]
  },
  {
   "cell_type": "code",
   "execution_count": 52,
   "id": "a4ae2618",
   "metadata": {
    "executionInfo": {
     "elapsed": 269,
     "status": "ok",
     "timestamp": 1705085367200,
     "user": {
      "displayName": "Aditya Sengupta",
      "userId": "05406841331172530634"
     },
     "user_tz": 480
    },
    "id": "a4ae2618"
   },
   "outputs": [],
   "source": [
    "header['OBJECT'] = \"Horsehead Nebula\""
   ]
  },
  {
   "cell_type": "code",
   "execution_count": 53,
   "id": "744131f3",
   "metadata": {
    "colab": {
     "base_uri": "https://localhost:8080/",
     "height": 35
    },
    "executionInfo": {
     "elapsed": 302,
     "status": "ok",
     "timestamp": 1705085369289,
     "user": {
      "displayName": "Aditya Sengupta",
      "userId": "05406841331172530634"
     },
     "user_tz": 480
    },
    "id": "744131f3",
    "outputId": "85891dcd-0a0e-4533-9e45-d91db879c45a"
   },
   "outputs": [
    {
     "data": {
      "text/plain": [
       "'Horsehead Nebula'"
      ]
     },
     "execution_count": 53,
     "metadata": {},
     "output_type": "execute_result"
    }
   ],
   "source": [
    "header[\"OBJECT\"]"
   ]
  },
  {
   "cell_type": "code",
   "execution_count": 54,
   "id": "6142499e",
   "metadata": {
    "colab": {
     "base_uri": "https://localhost:8080/"
    },
    "executionInfo": {
     "elapsed": 353,
     "status": "ok",
     "timestamp": 1705085379026,
     "user": {
      "displayName": "Aditya Sengupta",
      "userId": "05406841331172530634"
     },
     "user_tz": 480
    },
    "id": "6142499e",
    "outputId": "d06b13c3-184d-46fb-cce6-c3d5c8230e2d"
   },
   "outputs": [
    {
     "data": {
      "text/plain": [
       "SIMPLE  =                    T /FITS: Compliance                                \n",
       "BITPIX  =                   16 /FITS: I*2 Data                                  \n",
       "NAXIS   =                    2 /FITS: 2-D Image Data                            \n",
       "NAXIS1  =                  891 /FITS: X Dimension                               \n",
       "NAXIS2  =                  893 /FITS: Y Dimension                               \n",
       "EXTEND  =                    T /FITS: File can contain extensions               \n",
       "DATE    = '2014-01-09        '  /FITS: Creation Date                            \n",
       "ORIGIN  = 'STScI/MAST'         /GSSS: STScI Digitized Sky Survey                \n",
       "SURVEY  = 'SERC-ER '           /GSSS: Sky Survey                                \n",
       "REGION  = 'ER768   '           /GSSS: Region Name                               \n",
       "PLATEID = 'A0JP    '           /GSSS: Plate ID                                  \n",
       "SCANNUM = '01      '           /GSSS: Scan Number                               \n",
       "DSCNDNUM= '00      '           /GSSS: Descendant Number                         \n",
       "TELESCID=                    4 /GSSS: Telescope ID                              \n",
       "BANDPASS=                   36 /GSSS: Bandpass Code                             \n",
       "COPYRGHT= 'AAO/ROE '           /GSSS: Copyright Holder                          \n",
       "SITELAT =              -31.277 /Observatory: Latitude                           \n",
       "SITELONG=              210.934 /Observatory: Longitude                          \n",
       "TELESCOP= 'UK Schmidt - Doubl' /Observatory: Telescope                          \n",
       "INSTRUME= 'Photographic Plate' /Detector: Photographic Plate                    \n",
       "EMULSION= 'IIIaF   '           /Detector: Emulsion                              \n",
       "FILTER  = 'OG590   '           /Detector: Filter                                \n",
       "PLTSCALE=                67.20 /Detector: Plate Scale arcsec per mm             \n",
       "PLTSIZEX=              355.000 /Detector: Plate X Dimension mm                  \n",
       "PLTSIZEY=              355.000 /Detector: Plate Y Dimension mm                  \n",
       "PLATERA =        85.5994550000 /Observation: Field centre RA degrees            \n",
       "PLATEDEC=       -4.94660910000 /Observation: Field centre Dec degrees           \n",
       "PLTLABEL= 'OR14052 '           /Observation: Plate Label                        \n",
       "DATE-OBS= '1990-12-22T13:49:00' /Observation: Date/Time                         \n",
       "EXPOSURE=                 65.0 /Observation: Exposure Minutes                   \n",
       "PLTGRADE= 'AD2     '           /Observation: Plate Grade                        \n",
       "OBSHA   =             0.158333 /Observation: Hour Angle                         \n",
       "OBSZD   =              26.3715 /Observation: Zenith Distance                    \n",
       "AIRMASS =              1.11587 /Observation: Airmass                            \n",
       "REFBETA =        66.3196420000 /Observation: Refraction Coeff                   \n",
       "REFBETAP=     -0.0820000000000 /Observation: Refraction Coeff                   \n",
       "REFK1   =        6423.52290000 /Observation: Refraction Coeff                   \n",
       "REFK2   =       -102122.550000 /Observation: Refraction Coeff                   \n",
       "CNPIX1  =                12237 /Scan: X Corner                                  \n",
       "CNPIX2  =                19965 /Scan: Y Corner                                  \n",
       "XPIXELS =                23040 /Scan: X Dimension                               \n",
       "YPIXELS =                23040 /Scan: Y Dimension                               \n",
       "XPIXELSZ=              15.0295 /Scan: Pixel Size microns                        \n",
       "YPIXELSZ=              15.0000 /Scan: Pixel Size microns                        \n",
       "PPO1    =       -3069417.00000 /Scan: Orientation Coeff                         \n",
       "PPO2    =       0.000000000000 /Scan: Orientation Coeff                         \n",
       "PPO3    =        177500.000000 /Scan: Orientation Coeff                         \n",
       "PPO4    =       0.000000000000 /Scan: Orientation Coeff                         \n",
       "PPO5    =        3069417.00000 /Scan: Orientation Coeff                         \n",
       "PPO6    =        177500.000000 /Scan: Orientation Coeff                         \n",
       "PLTRAH  =                    5 /Astrometry: Plate Centre H                      \n",
       "PLTRAM  =                   42 /Astrometry: Plate Centre M                      \n",
       "PLTRAS  =                23.86 /Astrometry: Plate Centre S                      \n",
       "PLTDECSN= '-       '           /Astrometry: Plate Centre +/-                    \n",
       "PLTDECD =                    4 /Astrometry: Plate Centre D                      \n",
       "PLTDECM =                   56 /Astrometry: Plate Centre M                      \n",
       "PLTDECS =                 47.9 /Astrometry: Plate Centre S                      \n",
       "EQUINOX =               2000.0 /Astrometry: Equinox                             \n",
       "AMDX1   =        67.1550859799 /Astrometry: GSC1 Coeff                          \n",
       "AMDX2   =      0.0431478884485 /Astrometry: GSC1 Coeff                          \n",
       "AMDX3   =       -292.435619180 /Astrometry: GSC1 Coeff                          \n",
       "AMDX4   =  -2.68934864702E-005 /Astrometry: GSC1 Coeff                          \n",
       "AMDX5   =   1.99133423290E-005 /Astrometry: GSC1 Coeff                          \n",
       "AMDX6   =  -2.37011931379E-006 /Astrometry: GSC1 Coeff                          \n",
       "AMDX7   =       0.000000000000 /Astrometry: GSC1 Coeff                          \n",
       "AMDX8   =   2.21426387429E-006 /Astrometry: GSC1 Coeff                          \n",
       "AMDX9   =  -8.12841581455E-008 /Astrometry: GSC1 Coeff                          \n",
       "AMDX10  =   2.48169090021E-006 /Astrometry: GSC1 Coeff                          \n",
       "AMDX11  =   2.77618933926E-008 /Astrometry: GSC1 Coeff                          \n",
       "AMDX12  =       0.000000000000 /Astrometry: GSC1 Coeff                          \n",
       "AMDX13  =       0.000000000000 /Astrometry: GSC1 Coeff                          \n",
       "AMDX14  =       0.000000000000 /Astrometry: GSC1 Coeff                          \n",
       "AMDX15  =       0.000000000000 /Astrometry: GSC1 Coeff                          \n",
       "AMDX16  =       0.000000000000 /Astrometry: GSC1 Coeff                          \n",
       "AMDX17  =       0.000000000000 /Astrometry: GSC1 Coeff                          \n",
       "AMDX18  =       0.000000000000 /Astrometry: GSC1 Coeff                          \n",
       "AMDX19  =       0.000000000000 /Astrometry: GSC1 Coeff                          \n",
       "AMDX20  =       0.000000000000 /Astrometry: GSC1 Coeff                          \n",
       "AMDY1   =        67.1593591466 /Astrometry: GSC1 Coeff                          \n",
       "AMDY2   =     -0.0471363749174 /Astrometry: GSC1 Coeff                          \n",
       "AMDY3   =        316.004963520 /Astrometry: GSC1 Coeff                          \n",
       "AMDY4   =   2.86798151430E-005 /Astrometry: GSC1 Coeff                          \n",
       "AMDY5   =  -2.00968236347E-005 /Astrometry: GSC1 Coeff                          \n",
       "AMDY6   =   2.27840393227E-005 /Astrometry: GSC1 Coeff                          \n",
       "AMDY7   =       0.000000000000 /Astrometry: GSC1 Coeff                          \n",
       "AMDY8   =   2.23885090381E-006 /Astrometry: GSC1 Coeff                          \n",
       "AMDY9   =  -2.28360163464E-008 /Astrometry: GSC1 Coeff                          \n",
       "AMDY10  =   2.44828851495E-006 /Astrometry: GSC1 Coeff                          \n",
       "AMDY11  =  -5.76717487998E-008 /Astrometry: GSC1 Coeff                          \n",
       "AMDY12  =       0.000000000000 /Astrometry: GSC1 Coeff                          \n",
       "AMDY13  =       0.000000000000 /Astrometry: GSC1 Coeff                          \n",
       "AMDY14  =       0.000000000000 /Astrometry: GSC1 Coeff                          \n",
       "AMDY15  =       0.000000000000 /Astrometry: GSC1 Coeff                          \n",
       "AMDY16  =       0.000000000000 /Astrometry: GSC1 Coeff                          \n",
       "AMDY17  =       0.000000000000 /Astrometry: GSC1 Coeff                          \n",
       "AMDY18  =       0.000000000000 /Astrometry: GSC1 Coeff                          \n",
       "AMDY19  =       0.000000000000 /Astrometry: GSC1 Coeff                          \n",
       "AMDY20  =       0.000000000000 /Astrometry: GSC1 Coeff                          \n",
       "AMDREX1 =        67.1532034737 /Astrometry: GSC2 Coeff                          \n",
       "AMDREX2 =      0.0434354199559 /Astrometry: GSC2 Coeff                          \n",
       "AMDREX3 =       -292.435438892 /Astrometry: GSC2 Coeff                          \n",
       "AMDREX4 =   4.60919247070E-006 /Astrometry: GSC2 Coeff                          \n",
       "AMDREX5 =  -3.21138058537E-006 /Astrometry: GSC2 Coeff                          \n",
       "AMDREX6 =   7.23651736725E-006 /Astrometry: GSC2 Coeff                          \n",
       "AMDREX7 =       0.000000000000 /Astrometry: GSC2 Coeff                          \n",
       "AMDREX8 =       0.000000000000 /Astrometry: GSC2 Coeff                          \n",
       "AMDREX9 =       0.000000000000 /Astrometry: GSC2 Coeff                          \n",
       "AMDREX10=       0.000000000000 /Astrometry: GSC2 Coeff                          \n",
       "AMDREX11=       0.000000000000 /Astrometry: GSC2 Coeff                          \n",
       "AMDREX12=       0.000000000000 /Astrometry: GSC2 Coeff                          \n",
       "AMDREX13=       0.000000000000 /Astrometry: GSC2 Coeff                          \n",
       "AMDREX14=       0.000000000000 /Astrometry: GSC2 Coeff                          \n",
       "AMDREX15=       0.000000000000 /Astrometry: GSC2 Coeff                          \n",
       "AMDREX16=       0.000000000000 /Astrometry: GSC2 Coeff                          \n",
       "AMDREX17=       0.000000000000 /Astrometry: GSC2 Coeff                          \n",
       "AMDREX18=       0.000000000000 /Astrometry: GSC2 Coeff                          \n",
       "AMDREX19=       0.000000000000 /Astrometry: GSC2 Coeff                          \n",
       "AMDREX20=       0.000000000000 /Astrometry: GSC2 Coeff                          \n",
       "AMDREY1 =        67.1522589487 /Astrometry: GSC2 Coeff                          \n",
       "AMDREY2 =     -0.0481758265285 /Astrometry: GSC2 Coeff                          \n",
       "AMDREY3 =        315.995683716 /Astrometry: GSC2 Coeff                          \n",
       "AMDREY4 =  -7.47397531230E-006 /Astrometry: GSC2 Coeff                          \n",
       "AMDREY5 =   9.55221105409E-007 /Astrometry: GSC2 Coeff                          \n",
       "AMDREY6 =   7.60954485251E-006 /Astrometry: GSC2 Coeff                          \n",
       "AMDREY7 =       0.000000000000 /Astrometry: GSC2 Coeff                          \n",
       "AMDREY8 =       0.000000000000 /Astrometry: GSC2 Coeff                          \n",
       "AMDREY9 =       0.000000000000 /Astrometry: GSC2 Coeff                          \n",
       "AMDREY10=       0.000000000000 /Astrometry: GSC2 Coeff                          \n",
       "AMDREY11=       0.000000000000 /Astrometry: GSC2 Coeff                          \n",
       "AMDREY12=       0.000000000000 /Astrometry: GSC2 Coeff                          \n",
       "AMDREY13=       0.000000000000 /Astrometry: GSC2 Coeff                          \n",
       "AMDREY14=       0.000000000000 /Astrometry: GSC2 Coeff                          \n",
       "AMDREY15=       0.000000000000 /Astrometry: GSC2 Coeff                          \n",
       "AMDREY16=       0.000000000000 /Astrometry: GSC2 Coeff                          \n",
       "AMDREY17=       0.000000000000 /Astrometry: GSC2 Coeff                          \n",
       "AMDREY18=       0.000000000000 /Astrometry: GSC2 Coeff                          \n",
       "AMDREY19=       0.000000000000 /Astrometry: GSC2 Coeff                          \n",
       "AMDREY20=       0.000000000000 /Astrometry: GSC2 Coeff                          \n",
       "ASTRMASK= 'er.mask '           /Astrometry: GSC2 Mask                           \n",
       "WCSAXES =                    2 /GetImage: Number WCS axes                       \n",
       "WCSNAME = 'DSS               ' /GetImage: Local WCS approximation from full plat\n",
       "RADESYS = 'ICRS              ' /GetImage: GSC-II calibration using ICRS system  \n",
       "CTYPE1  = 'RA---TAN          ' /GetImage: RA-Gnomic projection                  \n",
       "CRPIX1  =           446.000000 /GetImage: X reference pixel                     \n",
       "CRVAL1  =            85.274970 /GetImage: RA of reference pixel                 \n",
       "CUNIT1  = 'deg               ' /GetImage: degrees                               \n",
       "CTYPE2  = 'DEC--TAN          ' /GetImage: Dec-Gnomic projection                 \n",
       "CRPIX2  =           447.000000 /GetImage: Y reference pixel                     \n",
       "CRVAL2  =            -2.458265 /GetImage: Dec of reference pixel                \n",
       "CUNIT2  = 'deg               ' /Getimage: degrees                               \n",
       "CD1_1   =        -0.0002802651 /GetImage: rotation matrix coefficient           \n",
       "CD1_2   =         0.0000003159 /GetImage: rotation matrix coefficient           \n",
       "CD2_1   =         0.0000002767 /GetImage: rotation matrix coefficient           \n",
       "CD2_2   =         0.0002798187 /GetImage: rotation matrix coefficient           \n",
       "OBJECT  = 'Horsehead Nebula'   / GetImage: Requested Object Name                \n",
       "DATAMIN =                 3759 /GetImage: Minimum returned pixel value          \n",
       "DATAMAX =                22918 /GetImage: Maximum returned pixel value          \n",
       "OBJCTRA = '05 41 06.000      ' /GetImage: Requested Right Ascension (J2000)     \n",
       "OBJCTDEC= '-02 27 30.00      ' /GetImage: Requested Declination (J2000)         \n",
       "OBJCTX  =             12682.48 /GetImage: Requested X on plate (pixels)         \n",
       "OBJCTY  =             20411.37 /GetImage: Requested Y on plate (pixels)         \n",
       "OBSERVER= 'Williamina Fleming' / Observation: she did it                        "
      ]
     },
     "execution_count": 54,
     "metadata": {},
     "output_type": "execute_result"
    }
   ],
   "source": [
    "# you can also change the comment at the same time\n",
    "header[\"OBSERVER\"] = (\"Williamina Fleming\", \"Observation: she did it\")\n",
    "\n",
    "header"
   ]
  },
  {
   "cell_type": "code",
   "execution_count": 55,
   "id": "9c11db2f",
   "metadata": {
    "colab": {
     "base_uri": "https://localhost:8080/",
     "height": 35
    },
    "executionInfo": {
     "elapsed": 310,
     "status": "ok",
     "timestamp": 1705085414251,
     "user": {
      "displayName": "Aditya Sengupta",
      "userId": "05406841331172530634"
     },
     "user_tz": 480
    },
    "id": "9c11db2f",
    "outputId": "b0eebb09-a040-479d-c5f1-0bd3ca3f5ce5"
   },
   "outputs": [
    {
     "data": {
      "text/plain": [
       "'Williamina Fleming'"
      ]
     },
     "execution_count": 55,
     "metadata": {},
     "output_type": "execute_result"
    }
   ],
   "source": [
    "header[\"OBSERVER\"]"
   ]
  },
  {
   "cell_type": "markdown",
   "id": "e822af4e",
   "metadata": {
    "id": "e822af4e"
   },
   "source": [
    "We can save these changes:"
   ]
  },
  {
   "cell_type": "code",
   "execution_count": 56,
   "id": "39d11a80",
   "metadata": {
    "executionInfo": {
     "elapsed": 3,
     "status": "ok",
     "timestamp": 1705085424433,
     "user": {
      "displayName": "Aditya Sengupta",
      "userId": "05406841331172530634"
     },
     "user_tz": 480
    },
    "id": "39d11a80"
   },
   "outputs": [],
   "source": [
    "fits.writeto('output_file.fits', data, header, overwrite=True)"
   ]
  },
  {
   "cell_type": "markdown",
   "id": "df76ed10",
   "metadata": {
    "id": "df76ed10"
   },
   "source": [
    "Finally, let's look at the actual data."
   ]
  },
  {
   "cell_type": "code",
   "execution_count": 57,
   "id": "d5ff4c5e",
   "metadata": {
    "colab": {
     "base_uri": "https://localhost:8080/"
    },
    "executionInfo": {
     "elapsed": 304,
     "status": "ok",
     "timestamp": 1705085450535,
     "user": {
      "displayName": "Aditya Sengupta",
      "userId": "05406841331172530634"
     },
     "user_tz": 480
    },
    "id": "d5ff4c5e",
    "outputId": "952f4630-0e28-41b2-efaf-4423b68e0ced"
   },
   "outputs": [
    {
     "data": {
      "text/plain": [
       "array([[ 7201,  6642,  6642, ...,  9498,  9498, 10057],\n",
       "       [ 6642,  6363,  6642, ..., 10057, 10616, 10616],\n",
       "       [ 6922,  6642,  6922, ..., 10337, 11175, 10616],\n",
       "       ...,\n",
       "       [ 5412,  5132,  5412, ..., 13000, 12580, 12021],\n",
       "       [ 5796,  5517,  5796, ..., 12546, 12546, 11987],\n",
       "       [ 5796,  5796,  6076, ..., 11987, 12546, 12546]], dtype='>i2')"
      ]
     },
     "execution_count": 57,
     "metadata": {},
     "output_type": "execute_result"
    }
   ],
   "source": [
    "data"
   ]
  },
  {
   "cell_type": "code",
   "execution_count": 58,
   "id": "53738f73",
   "metadata": {
    "colab": {
     "base_uri": "https://localhost:8080/"
    },
    "executionInfo": {
     "elapsed": 329,
     "status": "ok",
     "timestamp": 1705085453877,
     "user": {
      "displayName": "Aditya Sengupta",
      "userId": "05406841331172530634"
     },
     "user_tz": 480
    },
    "id": "53738f73",
    "outputId": "a4a133aa-8daf-436c-8e07-0ae34b70f34c"
   },
   "outputs": [
    {
     "data": {
      "text/plain": [
       "numpy.ndarray"
      ]
     },
     "execution_count": 58,
     "metadata": {},
     "output_type": "execute_result"
    }
   ],
   "source": [
    "type(data)"
   ]
  },
  {
   "cell_type": "markdown",
   "id": "f8020f0b",
   "metadata": {
    "id": "f8020f0b"
   },
   "source": [
    "Awesome! It's just a numpy array, which means we can treat it like any other data we use. Let's get to the good stuff and look at it!"
   ]
  },
  {
   "cell_type": "code",
   "execution_count": 59,
   "id": "0e8b6365",
   "metadata": {
    "colab": {
     "base_uri": "https://localhost:8080/",
     "height": 452
    },
    "executionInfo": {
     "elapsed": 1413,
     "status": "ok",
     "timestamp": 1705085482538,
     "user": {
      "displayName": "Aditya Sengupta",
      "userId": "05406841331172530634"
     },
     "user_tz": 480
    },
    "id": "0e8b6365",
    "outputId": "d9e31ac6-5ba3-454b-9e7c-1937378a3ca1"
   },
   "outputs": [
    {
     "data": {
      "text/plain": [
       "<matplotlib.image.AxesImage at 0x7f5b44099430>"
      ]
     },
     "execution_count": 59,
     "metadata": {},
     "output_type": "execute_result"
    },
    {
     "data": {
      "image/png": "[encoded data removed]",
      "text/plain": [
       "<Figure size 640x480 with 1 Axes>"
      ]
     },
     "metadata": {},
     "output_type": "display_data"
    }
   ],
   "source": [
    "plt.imshow(data)"
   ]
  },
  {
   "cell_type": "markdown",
   "id": "bf9319e8",
   "metadata": {
    "id": "bf9319e8"
   },
   "source": [
    "### Working with Image Data"
   ]
  },
  {
   "cell_type": "markdown",
   "id": "5feb0478",
   "metadata": {
    "id": "5feb0478"
   },
   "source": [
    "Last time, we looked at `plt.imshow` in general, but didn't have any way to get data to show. Now that we're comfortable with FITS files, let's see what this image looks like!\n",
    "\n",
    "Often, it's hard to see astronomical images if you're just plotting pixel intensities, so it's usually good to change the scale or normalization. In `plt.imshow`, we can either set the `vmin` and `vmax` parameters, or the `norm`. In addition to the ones built into matplotlib, `astropy.visualization` has some good methods for this; I like their `ZScaleInterval`, which matches the z-scaling from the plotting tool `ds9`."
   ]
  },
  {
   "cell_type": "code",
   "execution_count": 64,
   "id": "a276ec3b",
   "metadata": {
    "id": "a276ec3b"
   },
   "outputs": [],
   "source": [
    "ngc_data = fits.getdata(\"data/ngc_b0.fits\")"
   ]
  },
  {
   "cell_type": "code",
   "execution_count": 66,
   "id": "1129b88a",
   "metadata": {
    "id": "1129b88a"
   },
   "outputs": [
    {
     "data": {
      "text/plain": [
       "(np.uint16(776), np.float64(948.2910634914691))"
      ]
     },
     "execution_count": 66,
     "metadata": {},
     "output_type": "execute_result"
    }
   ],
   "source": [
    "vmin, vmax = ZScaleInterval().get_limits(ngc_data)\n",
    "vmin, vmax # this gets a good min and max to use in imshow"
   ]
  },
  {
   "cell_type": "code",
   "execution_count": 70,
   "id": "e5ee7337",
   "metadata": {
    "id": "e5ee7337"
   },
   "outputs": [
    {
     "data": {
      "text/plain": [
       "Text(0.5, 1.0, 'NGC 6819 field image')"
      ]
     },
     "execution_count": 70,
     "metadata": {},
     "output_type": "execute_result"
    },
    {
     "data": {
      "image/png": "[encoded data removed]",
      "text/plain": [
       "<Figure size 640x480 with 2 Axes>"
      ]
     },
     "metadata": {},
     "output_type": "display_data"
    }
   ],
   "source": [
    "# your code here - call `imshow` on `ngc_data`"
   ]
  },
  {
   "cell_type": "code",
   "execution_count": 71,
   "id": "8d1245c7",
   "metadata": {
    "id": "8d1245c7"
   },
   "outputs": [],
   "source": [
    "# creating fun test data for images\n",
    "sd_x, sd_y = 5, 5 # try varying these!\n",
    "grid_size = 10\n",
    "r = np.arange(-grid_size // 2, grid_size // 2 + grid_size/100, step=grid_size/100)\n",
    "xg, yg = np.meshgrid(r, r)\n",
    "z = 1000 / (np.sqrt(2 * np.pi) * sd_x) * np.exp(-xg ** 2 / sd_x ** 2) * 1 / (np.sqrt(2 * np.pi) * sd_y) * np.exp(-yg ** 2 / sd_y ** 2)"
   ]
  },
  {
   "cell_type": "code",
   "execution_count": 72,
   "id": "715db126",
   "metadata": {
    "id": "715db126"
   },
   "outputs": [
    {
     "data": {
      "text/plain": [
       "<matplotlib.image.AxesImage at 0x7f5b388146b0>"
      ]
     },
     "execution_count": 72,
     "metadata": {},
     "output_type": "execute_result"
    },
    {
     "data": {
      "image/png": "[encoded data removed]",
      "text/plain": [
       "<Figure size 640x480 with 1 Axes>"
      ]
     },
     "metadata": {},
     "output_type": "display_data"
    }
   ],
   "source": [
    "plt.imshow(z, norm=PowerNorm(2)) # I'll vary vmin, vmax, norm here"
   ]
  },
  {
   "cell_type": "markdown",
   "id": "c7232c9b",
   "metadata": {
    "id": "c7232c9b"
   },
   "source": [
    "**Exercise**: Visualize the image in `data`. Give it a colorbar, pick a color map you like, and pick a scaling or normalization that looks good to you."
   ]
  },
  {
   "cell_type": "code",
   "execution_count": null,
   "id": "48d6ab7c",
   "metadata": {
    "id": "48d6ab7c"
   },
   "outputs": [],
   "source": [
    "# your code here!"
   ]
  },
  {
   "cell_type": "markdown",
   "id": "b147f8a0",
   "metadata": {
    "id": "b147f8a0"
   },
   "source": [
    "**Exercise**: Pick any of the stars in the image and zoom in on it (find approximate coordinates and slice `data` appropriately). Then pick an empty patch of the image and do the same. Using numpy operations (`np.min`, `np.max`, `np.std`, `np.mean`, `np.median`, etc.), come up with a way of describing how much brighter the star is than its background."
   ]
  },
  {
   "cell_type": "code",
   "execution_count": null,
   "id": "9e7afc33",
   "metadata": {
    "id": "9e7afc33"
   },
   "outputs": [],
   "source": [
    "# your code here!"
   ]
  }
 ],
 "metadata": {
  "colab": {
   "provenance": []
  },
  "kernelspec": {
   "display_name": "CamberPy",
   "language": "python",
   "name": "python3"
  },
  "language_info": {
   "codemirror_mode": {
    "name": "ipython",
    "version": 3
   },
   "file_extension": ".py",
   "mimetype": "text/x-python",
   "name": "python",
   "nbconvert_exporter": "python",
   "pygments_lexer": "ipython3",
   "version": "3.12.7"
  }
 },
 "nbformat": 4,
 "nbformat_minor": 5
}
