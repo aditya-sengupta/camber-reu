{
 "cells": [
  {
   "cell_type": "markdown",
   "id": "caef7173",
   "metadata": {
    "id": "caef7173"
   },
   "source": [
    "# Lamat 2024 Winter Bootcamp\n",
    "\n",
    "Some of this material was adapted from the Lamat 2023 Winter Bootcamp by Jules Fowler and Anne Dattilo.\n",
    "\n",
    "### Astropy\n",
    "\n",
    "Astropy is an Python library for all your astrophysical needs! These may include:\n",
    "\n",
    "- dealing with astronomical coordinate systems\n",
    "- handling physical quantities and units\n",
    "- using standard astronomical methods/statistical techniques\n",
    "- loading and saving files with astronomical data\n",
    "- and more!\n",
    "\n",
    "There's a lot you can do with astropy, and I'd recommend checking out their own tutorials at https://learn.astropy.org/ to see what might be relevant for you. I'm going to cover the two aspects of astropy I end up using the most: their units and constants system, and FITS files."
   ]
  },
  {
   "cell_type": "code",
   "execution_count": null,
   "id": "a87b9734",
   "metadata": {
    "executionInfo": {
     "elapsed": 5,
     "status": "ok",
     "timestamp": 1705082122419,
     "user": {
      "displayName": "Aditya Sengupta",
      "userId": "05406841331172530634"
     },
     "user_tz": 480
    },
    "id": "a87b9734"
   },
   "outputs": [],
   "source": [
    "import astropy\n",
    "import numpy as np"
   ]
  },
  {
   "cell_type": "markdown",
   "id": "52ffc8a7",
   "metadata": {
    "id": "52ffc8a7"
   },
   "source": [
    "### Astropy Units and Constants\n",
    "\n",
    "It's really common for unit issues to give people the wrong answer in scientific computing, because it's often hard to keep track of what units everything's supposed to have in your head, and if you get one wrong it's hard to track it down. To remedy that, astropy provides a set of objects under `astropy.units` representing common units."
   ]
  },
  {
   "cell_type": "code",
   "execution_count": null,
   "id": "5ab50339",
   "metadata": {
    "colab": {
     "base_uri": "https://localhost:8080/",
     "height": 37
    },
    "executionInfo": {
     "elapsed": 1132,
     "status": "ok",
     "timestamp": 1705082211902,
     "user": {
      "displayName": "Aditya Sengupta",
      "userId": "05406841331172530634"
     },
     "user_tz": 480
    },
    "id": "5ab50339",
    "outputId": "901e8249-46de-4913-d159-d2ceda9d7fa6"
   },
   "outputs": [],
   "source": [
    "import astropy.units as u\n",
    "u.m"
   ]
  },
  {
   "cell_type": "markdown",
   "id": "88a3af78",
   "metadata": {
    "id": "88a3af78"
   },
   "source": [
    "These are a special type that's specific to astropy:"
   ]
  },
  {
   "cell_type": "code",
   "execution_count": null,
   "id": "ac434bd5",
   "metadata": {
    "colab": {
     "base_uri": "https://localhost:8080/"
    },
    "executionInfo": {
     "elapsed": 774,
     "status": "ok",
     "timestamp": 1705082252094,
     "user": {
      "displayName": "Aditya Sengupta",
      "userId": "05406841331172530634"
     },
     "user_tz": 480
    },
    "id": "ac434bd5",
    "outputId": "40ab8a4e-3a45-4acd-a995-23945527bd88"
   },
   "outputs": [],
   "source": [
    "type(u.m), type(u.erg)"
   ]
  },
  {
   "cell_type": "markdown",
   "id": "7868e5d2",
   "metadata": {
    "id": "7868e5d2"
   },
   "source": [
    "And there's a lot of them:"
   ]
  },
  {
   "cell_type": "code",
   "execution_count": null,
   "id": "83beccc5",
   "metadata": {
    "colab": {
     "base_uri": "https://localhost:8080/"
    },
    "executionInfo": {
     "elapsed": 359,
     "status": "ok",
     "timestamp": 1705082331096,
     "user": {
      "displayName": "Aditya Sengupta",
      "userId": "05406841331172530634"
     },
     "user_tz": 480
    },
    "id": "83beccc5",
    "outputId": "7c9fba30-8f32-4867-a143-4dead78fa679"
   },
   "outputs": [],
   "source": [
    "u.s, u.cm, u.K, u.J, u.AU, u.pc"
   ]
  },
  {
   "cell_type": "markdown",
   "id": "b3e0abbf",
   "metadata": {
    "id": "b3e0abbf"
   },
   "source": [
    "If you want to see what one of them is (it's often hard to parse just off the abbreviation), you can either look up the documentation on the astropy website or access it using `help`:"
   ]
  },
  {
   "cell_type": "code",
   "execution_count": null,
   "id": "faa9367b",
   "metadata": {
    "colab": {
     "base_uri": "https://localhost:8080/"
    },
    "executionInfo": {
     "elapsed": 3,
     "status": "ok",
     "timestamp": 1705082421110,
     "user": {
      "displayName": "Aditya Sengupta",
      "userId": "05406841331172530634"
     },
     "user_tz": 480
    },
    "id": "faa9367b",
    "outputId": "d103a949-1b14-4665-c1ea-656635246e14"
   },
   "outputs": [],
   "source": [
    "help(u.J)"
   ]
  },
  {
   "cell_type": "markdown",
   "id": "616be3bd",
   "metadata": {
    "id": "616be3bd"
   },
   "source": [
    "You can turn a number (float) into a `Quantity` object by multiplying a unit:"
   ]
  },
  {
   "cell_type": "code",
   "execution_count": null,
   "id": "9885d97f",
   "metadata": {
    "colab": {
     "base_uri": "https://localhost:8080/",
     "height": 37
    },
    "executionInfo": {
     "elapsed": 300,
     "status": "ok",
     "timestamp": 1705082487435,
     "user": {
      "displayName": "Aditya Sengupta",
      "userId": "05406841331172530634"
     },
     "user_tz": 480
    },
    "id": "9885d97f",
    "outputId": "bd99e926-0193-40d0-bfd2-fe0d0a963860"
   },
   "outputs": [],
   "source": [
    "d = 1.0 * u.m\n",
    "d"
   ]
  },
  {
   "cell_type": "code",
   "execution_count": null,
   "id": "d4567042",
   "metadata": {
    "colab": {
     "base_uri": "https://localhost:8080/"
    },
    "executionInfo": {
     "elapsed": 4,
     "status": "ok",
     "timestamp": 1705082498551,
     "user": {
      "displayName": "Aditya Sengupta",
      "userId": "05406841331172530634"
     },
     "user_tz": 480
    },
    "id": "d4567042",
    "outputId": "1e36808e-d311-42c0-cc02-b46fbdbd2398"
   },
   "outputs": [],
   "source": [
    "type(d)"
   ]
  },
  {
   "cell_type": "markdown",
   "id": "1f0b6d03",
   "metadata": {
    "id": "1f0b6d03"
   },
   "source": [
    "These units work by only letting you do operations that make sense. For example, you can add together meters and meters:"
   ]
  },
  {
   "cell_type": "code",
   "execution_count": null,
   "id": "6f09e678",
   "metadata": {
    "colab": {
     "base_uri": "https://localhost:8080/",
     "height": 37
    },
    "executionInfo": {
     "elapsed": 312,
     "status": "ok",
     "timestamp": 1705082593398,
     "user": {
      "displayName": "Aditya Sengupta",
      "userId": "05406841331172530634"
     },
     "user_tz": 480
    },
    "id": "6f09e678",
    "outputId": "825598ca-28ee-49db-e98b-17f490d9c233"
   },
   "outputs": [],
   "source": [
    "1 * u.m + 2 * u.m"
   ]
  },
  {
   "cell_type": "markdown",
   "id": "9e00e157",
   "metadata": {
    "id": "9e00e157"
   },
   "source": [
    "Or different units of length:"
   ]
  },
  {
   "cell_type": "code",
   "execution_count": null,
   "id": "aa96a5a4",
   "metadata": {
    "colab": {
     "base_uri": "https://localhost:8080/",
     "height": 37
    },
    "executionInfo": {
     "elapsed": 295,
     "status": "ok",
     "timestamp": 1705082597320,
     "user": {
      "displayName": "Aditya Sengupta",
      "userId": "05406841331172530634"
     },
     "user_tz": 480
    },
    "id": "aa96a5a4",
    "outputId": "131b01fd-0276-41d9-aa31-9fa002732e38"
   },
   "outputs": [],
   "source": [
    "1 * u.m + 50 * u.cm"
   ]
  },
  {
   "cell_type": "code",
   "execution_count": null,
   "id": "dee628a5",
   "metadata": {
    "id": "dee628a5"
   },
   "outputs": [],
   "source": [
    "1000 * u.AU + 0.001 * u.pc"
   ]
  },
  {
   "cell_type": "code",
   "execution_count": null,
   "id": "17iRJxRC2B3r",
   "metadata": {
    "colab": {
     "base_uri": "https://localhost:8080/"
    },
    "executionInfo": {
     "elapsed": 305,
     "status": "ok",
     "timestamp": 1705082630101,
     "user": {
      "displayName": "Aditya Sengupta",
      "userId": "05406841331172530634"
     },
     "user_tz": 480
    },
    "id": "17iRJxRC2B3r",
    "outputId": "1fc41c4e-a5c2-4b7d-d4ef-13a170642da5"
   },
   "outputs": [],
   "source": [
    "help(u.pc)"
   ]
  },
  {
   "cell_type": "markdown",
   "id": "5d0c906d",
   "metadata": {
    "id": "5d0c906d"
   },
   "source": [
    "And you can multiply anything:"
   ]
  },
  {
   "cell_type": "code",
   "execution_count": null,
   "id": "1d508942",
   "metadata": {
    "colab": {
     "base_uri": "https://localhost:8080/",
     "height": 37
    },
    "executionInfo": {
     "elapsed": 7,
     "status": "ok",
     "timestamp": 1705082765223,
     "user": {
      "displayName": "Aditya Sengupta",
      "userId": "05406841331172530634"
     },
     "user_tz": 480
    },
    "id": "1d508942",
    "outputId": "dd41d2be-f1d1-4eee-b87a-2845ca4151b1"
   },
   "outputs": [],
   "source": [
    "2 * u.J + 2 * u.kg * u.m ** 2 / u.s ** 2"
   ]
  },
  {
   "cell_type": "code",
   "execution_count": null,
   "id": "999f37f2",
   "metadata": {
    "colab": {
     "base_uri": "https://localhost:8080/",
     "height": 37
    },
    "executionInfo": {
     "elapsed": 310,
     "status": "ok",
     "timestamp": 1705082782848,
     "user": {
      "displayName": "Aditya Sengupta",
      "userId": "05406841331172530634"
     },
     "user_tz": 480
    },
    "id": "999f37f2",
    "outputId": "d009ad4c-6074-4c41-a9f5-c79e1e32a830"
   },
   "outputs": [],
   "source": [
    "(2 * u.kg * u.m ** 2 / u.s ** 2 + 2 * u.J).to(u.erg)"
   ]
  },
  {
   "cell_type": "markdown",
   "id": "98bff3a9",
   "metadata": {
    "id": "98bff3a9"
   },
   "source": [
    "But you can't add different things together:"
   ]
  },
  {
   "cell_type": "code",
   "execution_count": null,
   "id": "afc4d41f",
   "metadata": {
    "colab": {
     "base_uri": "https://localhost:8080/",
     "height": 443
    },
    "executionInfo": {
     "elapsed": 323,
     "status": "error",
     "timestamp": 1705082804425,
     "user": {
      "displayName": "Aditya Sengupta",
      "userId": "05406841331172530634"
     },
     "user_tz": 480
    },
    "id": "afc4d41f",
    "outputId": "f2ad1241-ec8e-4cd9-85ca-3c7ce6fee4d4"
   },
   "outputs": [],
   "source": [
    "1 * u.m + 2 * u.g"
   ]
  },
  {
   "cell_type": "markdown",
   "id": "5c9863bb",
   "metadata": {
    "id": "5c9863bb"
   },
   "source": [
    "Or do certain operations, like exp and log, on numbers with units:"
   ]
  },
  {
   "cell_type": "code",
   "execution_count": null,
   "id": "rwcL4dIv234-",
   "metadata": {
    "colab": {
     "base_uri": "https://localhost:8080/",
     "height": 443
    },
    "executionInfo": {
     "elapsed": 707,
     "status": "error",
     "timestamp": 1705082856695,
     "user": {
      "displayName": "Aditya Sengupta",
      "userId": "05406841331172530634"
     },
     "user_tz": 480
    },
    "id": "rwcL4dIv234-",
    "outputId": "0fef8c32-5f37-4953-c1da-264424091d26"
   },
   "outputs": [],
   "source": [
    "np.exp(1 * u.m)"
   ]
  },
  {
   "cell_type": "code",
   "execution_count": null,
   "id": "a86e56de",
   "metadata": {
    "colab": {
     "base_uri": "https://localhost:8080/",
     "height": 37
    },
    "executionInfo": {
     "elapsed": 849,
     "status": "ok",
     "timestamp": 1705082886519,
     "user": {
      "displayName": "Aditya Sengupta",
      "userId": "05406841331172530634"
     },
     "user_tz": 480
    },
    "id": "a86e56de",
    "outputId": "bd9221e7-7689-47de-c1a4-4a68d2946911"
   },
   "outputs": [],
   "source": [
    "distance = 3 * u.m\n",
    "np.log10(distance / u.m)"
   ]
  },
  {
   "cell_type": "markdown",
   "id": "5ab91cb6",
   "metadata": {
    "id": "5ab91cb6"
   },
   "source": [
    "But if you divide out all units, you can do these:"
   ]
  },
  {
   "cell_type": "code",
   "execution_count": null,
   "id": "c06c9ff4",
   "metadata": {
    "colab": {
     "base_uri": "https://localhost:8080/",
     "height": 37
    },
    "executionInfo": {
     "elapsed": 309,
     "status": "ok",
     "timestamp": 1705082905244,
     "user": {
      "displayName": "Aditya Sengupta",
      "userId": "05406841331172530634"
     },
     "user_tz": 480
    },
    "id": "c06c9ff4",
    "outputId": "4ce260af-b6ef-4d08-ac45-9f4e73957c29"
   },
   "outputs": [],
   "source": [
    "np.exp(1 * u.m / (50 * u.cm))"
   ]
  },
  {
   "cell_type": "markdown",
   "id": "c015aa3c",
   "metadata": {
    "id": "c015aa3c"
   },
   "source": [
    "Together with this, we also have some standard constants in `astropy.constants`."
   ]
  },
  {
   "cell_type": "code",
   "execution_count": null,
   "id": "a7667d21",
   "metadata": {
    "executionInfo": {
     "elapsed": 284,
     "status": "ok",
     "timestamp": 1705082917750,
     "user": {
      "displayName": "Aditya Sengupta",
      "userId": "05406841331172530634"
     },
     "user_tz": 480
    },
    "id": "a7667d21"
   },
   "outputs": [],
   "source": [
    "import astropy.constants as c"
   ]
  },
  {
   "cell_type": "code",
   "execution_count": null,
   "id": "6499d1f6",
   "metadata": {
    "colab": {
     "base_uri": "https://localhost:8080/",
     "height": 37
    },
    "executionInfo": {
     "elapsed": 612,
     "status": "ok",
     "timestamp": 1705082921540,
     "user": {
      "displayName": "Aditya Sengupta",
      "userId": "05406841331172530634"
     },
     "user_tz": 480
    },
    "id": "6499d1f6",
    "outputId": "14481be9-55fb-4455-9291-d274de731e9e"
   },
   "outputs": [],
   "source": [
    "c.h"
   ]
  },
  {
   "cell_type": "code",
   "execution_count": null,
   "id": "1961d102",
   "metadata": {
    "colab": {
     "base_uri": "https://localhost:8080/",
     "height": 40
    },
    "executionInfo": {
     "elapsed": 330,
     "status": "ok",
     "timestamp": 1705082931472,
     "user": {
      "displayName": "Aditya Sengupta",
      "userId": "05406841331172530634"
     },
     "user_tz": 480
    },
    "id": "1961d102",
    "outputId": "93071024-b2e3-4eb4-92ce-fe336ff544a6"
   },
   "outputs": [],
   "source": [
    "c.GM_earth"
   ]
  },
  {
   "cell_type": "code",
   "execution_count": null,
   "id": "b1e47d25",
   "metadata": {
    "colab": {
     "base_uri": "https://localhost:8080/"
    },
    "executionInfo": {
     "elapsed": 532,
     "status": "ok",
     "timestamp": 1705082954095,
     "user": {
      "displayName": "Aditya Sengupta",
      "userId": "05406841331172530634"
     },
     "user_tz": 480
    },
    "id": "b1e47d25",
    "outputId": "d2f2d898-2a39-4052-fab4-37cdded5c09d"
   },
   "outputs": [],
   "source": [
    "help(c)"
   ]
  },
  {
   "cell_type": "code",
   "execution_count": null,
   "id": "dd7252ab",
   "metadata": {
    "colab": {
     "base_uri": "https://localhost:8080/",
     "height": 37
    },
    "executionInfo": {
     "elapsed": 361,
     "status": "ok",
     "timestamp": 1705082975096,
     "user": {
      "displayName": "Aditya Sengupta",
      "userId": "05406841331172530634"
     },
     "user_tz": 480
    },
    "id": "dd7252ab",
    "outputId": "c0be2683-e114-4e6c-ec53-0f1d61e339d4"
   },
   "outputs": [],
   "source": [
    "(c.h * c.c / (2.82 * c.k_B * 6600 * u.K)).to(u.nm)"
   ]
  },
  {
   "cell_type": "markdown",
   "id": "c8d7d8f5",
   "metadata": {
    "id": "c8d7d8f5"
   },
   "source": [
    "**Exercise**: Using the units and constants system, write a function that computes the escape velocity $v = \\sqrt{\\frac{2GM}{R}}$ of a body with mass $M$ and radius $R$ in units of (divided by) the Earth's escape velocity. Looking at the astropy units documentation at https://docs.astropy.org/en/stable/units/index.html, see if you can find a way to make sure it throws an error if you don't pass in a mass and a radius."
   ]
  },
  {
   "cell_type": "code",
   "execution_count": null,
   "id": "BZztwMKl4uc_",
   "metadata": {
    "colab": {
     "base_uri": "https://localhost:8080/",
     "height": 37
    },
    "executionInfo": {
     "elapsed": 5,
     "status": "ok",
     "timestamp": 1705083338261,
     "user": {
      "displayName": "Aditya Sengupta",
      "userId": "05406841331172530634"
     },
     "user_tz": 480
    },
    "id": "BZztwMKl4uc_",
    "outputId": "cd6da045-2f69-4b15-d3ac-b537912262de"
   },
   "outputs": [],
   "source": [
    "c.R_earth"
   ]
  },
  {
   "cell_type": "code",
   "execution_count": null,
   "id": "b57bca0c",
   "metadata": {
    "executionInfo": {
     "elapsed": 272,
     "status": "ok",
     "timestamp": 1705083638333,
     "user": {
      "displayName": "Aditya Sengupta",
      "userId": "05406841331172530634"
     },
     "user_tz": 480
    },
    "id": "b57bca0c"
   },
   "outputs": [],
   "source": [
    "def escape_velocity(M, R):\n",
    "    # your code here!\n",
    "    pass"
   ]
  },
  {
   "cell_type": "code",
   "execution_count": null,
   "id": "4a7fe10a",
   "metadata": {
    "colab": {
     "base_uri": "https://localhost:8080/",
     "height": 37
    },
    "executionInfo": {
     "elapsed": 6,
     "status": "ok",
     "timestamp": 1705083639461,
     "user": {
      "displayName": "Aditya Sengupta",
      "userId": "05406841331172530634"
     },
     "user_tz": 480
    },
    "id": "4a7fe10a",
    "outputId": "f371e467-226d-4a4e-fc19-8ea9029bfa34"
   },
   "outputs": [],
   "source": [
    "escape_velocity(c.M_jup, c.R_jup) # this should be about 5.3"
   ]
  },
  {
   "cell_type": "code",
   "execution_count": null,
   "id": "Uk2pldPH5Ol4",
   "metadata": {
    "colab": {
     "base_uri": "https://localhost:8080/",
     "height": 37
    },
    "executionInfo": {
     "elapsed": 325,
     "status": "ok",
     "timestamp": 1705083466017,
     "user": {
      "displayName": "Aditya Sengupta",
      "userId": "05406841331172530634"
     },
     "user_tz": 480
    },
    "id": "Uk2pldPH5Ol4",
    "outputId": "3ba7e1ae-231e-4f49-ed52-ebe545034d81"
   },
   "outputs": [],
   "source": [
    "c.R_jup"
   ]
  },
  {
   "cell_type": "code",
   "execution_count": null,
   "id": "9bce5054",
   "metadata": {
    "colab": {
     "base_uri": "https://localhost:8080/",
     "height": 322
    },
    "executionInfo": {
     "elapsed": 3,
     "status": "error",
     "timestamp": 1705083643539,
     "user": {
      "displayName": "Aditya Sengupta",
      "userId": "05406841331172530634"
     },
     "user_tz": 480
    },
    "id": "9bce5054",
    "outputId": "88d6d97d-adce-4582-9e35-4b635993e11f"
   },
   "outputs": [],
   "source": [
    "escape_velocity(c.R_jup, c.M_jup)"
   ]
  },
  {
   "cell_type": "code",
   "execution_count": null,
   "id": "nmISc-XT6Nhu",
   "metadata": {
    "colab": {
     "base_uri": "https://localhost:8080/",
     "height": 194
    },
    "executionInfo": {
     "elapsed": 800,
     "status": "error",
     "timestamp": 1705083749838,
     "user": {
      "displayName": "Aditya Sengupta",
      "userId": "05406841331172530634"
     },
     "user_tz": 480
    },
    "id": "nmISc-XT6Nhu",
    "outputId": "fb963a7d-bb75-4156-9773-38cfe9d45757"
   },
   "outputs": [],
   "source": [
    "a = 4\n",
    "assert a == 3, \"I expected a to be 3\""
   ]
  },
  {
   "cell_type": "markdown",
   "id": "a4c12a96",
   "metadata": {
    "id": "a4c12a96"
   },
   "source": [
    "### FITS Files\n",
    "\n",
    "(credit to Anne Dattilo for most of this section)\n",
    "\n",
    "A FITS (Flexible Image Transport System) file is a file type that can store multiple types of data. In astronomy, you'll often see it contain image data or data tables (or both!). This is the primary way observational data is stored.\n",
    "\n",
    "In this tutorial, we will:\n",
    "\n",
    "- Download data\n",
    "- Open FITS files and access data\n",
    "- Edit FITS headers\n",
    "- Plot FITS images\n",
    "\n",
    "There are several ways to do each of these things, so feel free to look at the documentation to see other methods!"
   ]
  },
  {
   "cell_type": "code",
   "execution_count": null,
   "id": "1b7db2f1",
   "metadata": {
    "executionInfo": {
     "elapsed": 657,
     "status": "ok",
     "timestamp": 1705083984308,
     "user": {
      "displayName": "Aditya Sengupta",
      "userId": "05406841331172530634"
     },
     "user_tz": 480
    },
    "id": "1b7db2f1"
   },
   "outputs": [],
   "source": [
    "from astropy.io import fits\n",
    "from matplotlib import pyplot as plt\n",
    "from matplotlib.colors import LogNorm, AsinhNorm, PowerNorm\n",
    "from astropy.visualization import ZScaleInterval"
   ]
  },
  {
   "cell_type": "markdown",
   "id": "b0497a68",
   "metadata": {
    "id": "b0497a68"
   },
   "source": [
    "`astropy` has a public data set we will be using to play around with FITS images."
   ]
  },
  {
   "cell_type": "code",
   "execution_count": null,
   "id": "6cc96164",
   "metadata": {
    "executionInfo": {
     "elapsed": 6159,
     "status": "ok",
     "timestamp": 1705084092338,
     "user": {
      "displayName": "Aditya Sengupta",
      "userId": "05406841331172530634"
     },
     "user_tz": 480
    },
    "id": "6cc96164"
   },
   "outputs": [],
   "source": [
    "from astropy.utils.data import download_file\n",
    "\n",
    "image_file = download_file('http://data.astropy.org/tutorials/FITS-images/HorseHead.fits', cache=True)"
   ]
  },
  {
   "cell_type": "code",
   "execution_count": null,
   "id": "382a9dca",
   "metadata": {
    "colab": {
     "base_uri": "https://localhost:8080/",
     "height": 35
    },
    "executionInfo": {
     "elapsed": 285,
     "status": "ok",
     "timestamp": 1705084094014,
     "user": {
      "displayName": "Aditya Sengupta",
      "userId": "05406841331172530634"
     },
     "user_tz": 480
    },
    "id": "382a9dca",
    "outputId": "9e9250e2-749e-41cf-c58c-d3faaf21f435"
   },
   "outputs": [],
   "source": [
    "image_file"
   ]
  },
  {
   "cell_type": "code",
   "execution_count": null,
   "id": "Yc28_hPL7qBh",
   "metadata": {
    "colab": {
     "base_uri": "https://localhost:8080/"
    },
    "executionInfo": {
     "elapsed": 533,
     "status": "ok",
     "timestamp": 1705084106960,
     "user": {
      "displayName": "Aditya Sengupta",
      "userId": "05406841331172530634"
     },
     "user_tz": 480
    },
    "id": "Yc28_hPL7qBh",
    "outputId": "131f0ebc-80b3-44c9-bc6b-ce7ed83b426c"
   },
   "outputs": [],
   "source": [
    "type(image_file)"
   ]
  },
  {
   "cell_type": "markdown",
   "id": "6877a95a",
   "metadata": {
    "id": "6877a95a"
   },
   "source": [
    "`astropy.fits` has two primary ways of opening FITS files.\n",
    "\n",
    "The first is `fits.open()`.\n",
    "\n",
    "This opens the file in a readonly mode and returns an HDU (**H**eader **D**ata **U**nit)."
   ]
  },
  {
   "cell_type": "code",
   "execution_count": null,
   "id": "4b9c11ca",
   "metadata": {
    "colab": {
     "base_uri": "https://localhost:8080/"
    },
    "executionInfo": {
     "elapsed": 524,
     "status": "ok",
     "timestamp": 1705084131599,
     "user": {
      "displayName": "Aditya Sengupta",
      "userId": "05406841331172530634"
     },
     "user_tz": 480
    },
    "id": "4b9c11ca",
    "outputId": "271a13fa-3eb6-4519-aa49-88c9f4d780d5"
   },
   "outputs": [],
   "source": [
    "hdu_list = fits.open(image_file)\n",
    "hdu_list.info()"
   ]
  },
  {
   "cell_type": "markdown",
   "id": "893c74bc",
   "metadata": {
    "id": "893c74bc"
   },
   "source": [
    "`hdu_list.info()` returns an `HDUList` object that gives us information about what's in the FITS file. It acts as a list where we can access each entry like a Python list.\n",
    "\n",
    "It looks like there's data in the `PRIMARY` extension (`hdu_list[0]`) as well as a Table (`hdu_list[1]`). Let's use the next few cells to inspect the data."
   ]
  },
  {
   "cell_type": "code",
   "execution_count": null,
   "id": "dc126a72",
   "metadata": {
    "colab": {
     "base_uri": "https://localhost:8080/"
    },
    "executionInfo": {
     "elapsed": 285,
     "status": "ok",
     "timestamp": 1705084255488,
     "user": {
      "displayName": "Aditya Sengupta",
      "userId": "05406841331172530634"
     },
     "user_tz": 480
    },
    "id": "dc126a72",
    "outputId": "3e37d9ad-7114-4394-86ba-32a1349e5c29"
   },
   "outputs": [],
   "source": [
    "hdu_list[0].data"
   ]
  },
  {
   "cell_type": "code",
   "execution_count": null,
   "id": "1Vo9M-Uk8S0_",
   "metadata": {
    "colab": {
     "base_uri": "https://localhost:8080/"
    },
    "executionInfo": {
     "elapsed": 2,
     "status": "ok",
     "timestamp": 1705084563017,
     "user": {
      "displayName": "Aditya Sengupta",
      "userId": "05406841331172530634"
     },
     "user_tz": 480
    },
    "id": "1Vo9M-Uk8S0_",
    "outputId": "36db0ec1-4556-4ed9-a72d-bcd98284a5ac"
   },
   "outputs": [],
   "source": [
    "hdu_list[0].data.astype(float) * 3"
   ]
  },
  {
   "cell_type": "code",
   "execution_count": null,
   "id": "5203031d",
   "metadata": {
    "colab": {
     "base_uri": "https://localhost:8080/"
    },
    "executionInfo": {
     "elapsed": 275,
     "status": "ok",
     "timestamp": 1705084619646,
     "user": {
      "displayName": "Aditya Sengupta",
      "userId": "05406841331172530634"
     },
     "user_tz": 480
    },
    "id": "5203031d",
    "outputId": "e5ffe64a-6365-480f-a94f-baecd5402eca"
   },
   "outputs": [],
   "source": [
    "# what's the shape of the PrimaryHDU?\n",
    "hdu_list[0].data.shape\n",
    "\n",
    "# what is the type of the PrimaryHDU?"
   ]
  },
  {
   "cell_type": "code",
   "execution_count": null,
   "id": "UUiSrPkw9tcD",
   "metadata": {
    "colab": {
     "base_uri": "https://localhost:8080/"
    },
    "executionInfo": {
     "elapsed": 4,
     "status": "ok",
     "timestamp": 1705084650828,
     "user": {
      "displayName": "Aditya Sengupta",
      "userId": "05406841331172530634"
     },
     "user_tz": 480
    },
    "id": "UUiSrPkw9tcD",
    "outputId": "04736a07-eb78-4156-c010-bafcfa514c5e"
   },
   "outputs": [],
   "source": [
    "hdu_list.info()"
   ]
  },
  {
   "cell_type": "code",
   "execution_count": null,
   "id": "a439e18e",
   "metadata": {
    "colab": {
     "base_uri": "https://localhost:8080/"
    },
    "executionInfo": {
     "elapsed": 309,
     "status": "ok",
     "timestamp": 1705084635703,
     "user": {
      "displayName": "Aditya Sengupta",
      "userId": "05406841331172530634"
     },
     "user_tz": 480
    },
    "id": "a439e18e",
    "outputId": "e74d402c-4681-4567-a070-16a5d7a67703"
   },
   "outputs": [],
   "source": [
    "\n",
    "hdu_list[1].data['ETA']\n",
    "\n",
    "# what is the type of the TableHDU?"
   ]
  },
  {
   "cell_type": "code",
   "execution_count": null,
   "id": "NWP9sJ6Q923b",
   "metadata": {
    "colab": {
     "base_uri": "https://localhost:8080/"
    },
    "executionInfo": {
     "elapsed": 3,
     "status": "ok",
     "timestamp": 1705084680760,
     "user": {
      "displayName": "Aditya Sengupta",
      "userId": "05406841331172530634"
     },
     "user_tz": 480
    },
    "id": "NWP9sJ6Q923b",
    "outputId": "7030bacc-fc8a-4eb1-c795-a27efc3e0624"
   },
   "outputs": [],
   "source": [
    "hdu_list[1].data['ETA'].shape"
   ]
  },
  {
   "cell_type": "markdown",
   "id": "44046dec",
   "metadata": {
    "id": "44046dec"
   },
   "source": [
    "No matter what you do, if you use `fits.open()` you MUST close your file!!!!!!!!!!!!!"
   ]
  },
  {
   "cell_type": "code",
   "execution_count": null,
   "id": "f4d8c1f0",
   "metadata": {
    "executionInfo": {
     "elapsed": 273,
     "status": "ok",
     "timestamp": 1705084725967,
     "user": {
      "displayName": "Aditya Sengupta",
      "userId": "05406841331172530634"
     },
     "user_tz": 480
    },
    "id": "f4d8c1f0"
   },
   "outputs": [],
   "source": [
    "hdu_list.close()"
   ]
  },
  {
   "cell_type": "code",
   "execution_count": null,
   "id": "H_qDVqdF-Dht",
   "metadata": {
    "colab": {
     "base_uri": "https://localhost:8080/",
     "height": 322
    },
    "executionInfo": {
     "elapsed": 6,
     "status": "error",
     "timestamp": 1705084742873,
     "user": {
      "displayName": "Aditya Sengupta",
      "userId": "05406841331172530634"
     },
     "user_tz": 480
    },
    "id": "H_qDVqdF-Dht",
    "outputId": "337b3fbe-ddd6-449c-ad4b-299df44b0096"
   },
   "outputs": [],
   "source": [
    "hdu_list[0].data"
   ]
  },
  {
   "cell_type": "markdown",
   "id": "4816b312",
   "metadata": {
    "id": "4816b312"
   },
   "source": [
    "You can access data via HDULists, but I find them slightly confusing. Lucky for us, `astropy.fits` has a direct method of getting your data. This is especially useful if you know what to expect in your file!"
   ]
  },
  {
   "cell_type": "code",
   "execution_count": null,
   "id": "f4cf0eb4",
   "metadata": {
    "colab": {
     "base_uri": "https://localhost:8080/"
    },
    "executionInfo": {
     "elapsed": 377,
     "status": "ok",
     "timestamp": 1705084842552,
     "user": {
      "displayName": "Aditya Sengupta",
      "userId": "05406841331172530634"
     },
     "user_tz": 480
    },
    "id": "f4cf0eb4",
    "outputId": "bc3475ea-872f-419a-d4e0-5d17da40b9d9"
   },
   "outputs": [],
   "source": [
    "help(fits.getdata)"
   ]
  },
  {
   "cell_type": "code",
   "execution_count": null,
   "id": "f3702a4a",
   "metadata": {
    "colab": {
     "base_uri": "https://localhost:8080/",
     "height": 35
    },
    "executionInfo": {
     "elapsed": 302,
     "status": "ok",
     "timestamp": 1705084880330,
     "user": {
      "displayName": "Aditya Sengupta",
      "userId": "05406841331172530634"
     },
     "user_tz": 480
    },
    "id": "f3702a4a",
    "outputId": "753ad3d9-a428-4efb-e3bc-d93afccb8788"
   },
   "outputs": [],
   "source": [
    "image_file"
   ]
  },
  {
   "cell_type": "code",
   "execution_count": null,
   "id": "844f4d43",
   "metadata": {
    "executionInfo": {
     "elapsed": 305,
     "status": "ok",
     "timestamp": 1705084882448,
     "user": {
      "displayName": "Aditya Sengupta",
      "userId": "05406841331172530634"
     },
     "user_tz": 480
    },
    "id": "844f4d43"
   },
   "outputs": [],
   "source": [
    "data = fits.getdata(image_file)"
   ]
  },
  {
   "cell_type": "code",
   "execution_count": null,
   "id": "5af73062",
   "metadata": {
    "colab": {
     "base_uri": "https://localhost:8080/"
    },
    "executionInfo": {
     "elapsed": 307,
     "status": "ok",
     "timestamp": 1705084891444,
     "user": {
      "displayName": "Aditya Sengupta",
      "userId": "05406841331172530634"
     },
     "user_tz": 480
    },
    "id": "5af73062",
    "outputId": "049727dc-ce34-4117-9e2a-cd4383b9090a"
   },
   "outputs": [],
   "source": [
    "data"
   ]
  },
  {
   "cell_type": "code",
   "execution_count": null,
   "id": "963a657c",
   "metadata": {
    "executionInfo": {
     "elapsed": 279,
     "status": "ok",
     "timestamp": 1705084902741,
     "user": {
      "displayName": "Aditya Sengupta",
      "userId": "05406841331172530634"
     },
     "user_tz": 480
    },
    "id": "963a657c"
   },
   "outputs": [],
   "source": [
    "data, header = fits.getdata(image_file, header=True)"
   ]
  },
  {
   "cell_type": "code",
   "execution_count": null,
   "id": "78b2a106",
   "metadata": {
    "colab": {
     "base_uri": "https://localhost:8080/"
    },
    "executionInfo": {
     "elapsed": 369,
     "status": "ok",
     "timestamp": 1705084904709,
     "user": {
      "displayName": "Aditya Sengupta",
      "userId": "05406841331172530634"
     },
     "user_tz": 480
    },
    "id": "78b2a106",
    "outputId": "ce91e326-c9db-420e-a629-b9a0ef9947ca"
   },
   "outputs": [],
   "source": [
    "data"
   ]
  },
  {
   "cell_type": "code",
   "execution_count": null,
   "id": "b563c692",
   "metadata": {
    "colab": {
     "base_uri": "https://localhost:8080/",
     "height": 35
    },
    "executionInfo": {
     "elapsed": 274,
     "status": "ok",
     "timestamp": 1705084909477,
     "user": {
      "displayName": "Aditya Sengupta",
      "userId": "05406841331172530634"
     },
     "user_tz": 480
    },
    "id": "b563c692",
    "outputId": "a3167b14-ce64-4bcd-cab3-51e94a5a1a2a"
   },
   "outputs": [],
   "source": [
    "header[\"OBJECT\"]"
   ]
  },
  {
   "cell_type": "code",
   "execution_count": null,
   "id": "PuXmOtkS-zag",
   "metadata": {
    "colab": {
     "base_uri": "https://localhost:8080/"
    },
    "executionInfo": {
     "elapsed": 328,
     "status": "ok",
     "timestamp": 1705084930226,
     "user": {
      "displayName": "Aditya Sengupta",
      "userId": "05406841331172530634"
     },
     "user_tz": 480
    },
    "id": "PuXmOtkS-zag",
    "outputId": "39a1cc02-4fe3-4d56-958c-550499131418"
   },
   "outputs": [],
   "source": [
    "type(header)"
   ]
  },
  {
   "cell_type": "markdown",
   "id": "d1b9aed5",
   "metadata": {
    "id": "d1b9aed5"
   },
   "source": [
    "The Header Object gives you all the information about the file. In this case, it's giving you observing data for when and where it was taken, as well as much more. This is useful if you need to know the exact time the image was taken, or what filter it was in.\n",
    "\n",
    "Header objects act like dictionaries, which mean we can ask for different keyword values."
   ]
  },
  {
   "cell_type": "code",
   "execution_count": null,
   "id": "b55Ps0DqAGjx",
   "metadata": {
    "colab": {
     "base_uri": "https://localhost:8080/"
    },
    "executionInfo": {
     "elapsed": 3,
     "status": "ok",
     "timestamp": 1705085274065,
     "user": {
      "displayName": "Aditya Sengupta",
      "userId": "05406841331172530634"
     },
     "user_tz": 480
    },
    "id": "b55Ps0DqAGjx",
    "outputId": "e44c165a-7524-4f1a-d589-646dd02627f7"
   },
   "outputs": [],
   "source": [
    "67.2 * 355 / 3600"
   ]
  },
  {
   "cell_type": "code",
   "execution_count": null,
   "id": "ciMx1wgi-_V6",
   "metadata": {
    "colab": {
     "base_uri": "https://localhost:8080/"
    },
    "executionInfo": {
     "elapsed": 303,
     "status": "ok",
     "timestamp": 1705084977716,
     "user": {
      "displayName": "Aditya Sengupta",
      "userId": "05406841331172530634"
     },
     "user_tz": 480
    },
    "id": "ciMx1wgi-_V6",
    "outputId": "584343ec-0e4d-4c4e-cb9b-afbc8bf8ea9b"
   },
   "outputs": [],
   "source": [
    "header"
   ]
  },
  {
   "cell_type": "code",
   "execution_count": null,
   "id": "_lE6U_MKAcK-",
   "metadata": {
    "colab": {
     "base_uri": "https://localhost:8080/",
     "height": 35
    },
    "executionInfo": {
     "elapsed": 332,
     "status": "ok",
     "timestamp": 1705085358850,
     "user": {
      "displayName": "Aditya Sengupta",
      "userId": "05406841331172530634"
     },
     "user_tz": 480
    },
    "id": "_lE6U_MKAcK-",
    "outputId": "e37509b2-d4a6-472b-ee0d-51ee7c3dc00a"
   },
   "outputs": [],
   "source": [
    "header[\"OBJECT\"]"
   ]
  },
  {
   "cell_type": "code",
   "execution_count": null,
   "id": "a4ae2618",
   "metadata": {
    "executionInfo": {
     "elapsed": 269,
     "status": "ok",
     "timestamp": 1705085367200,
     "user": {
      "displayName": "Aditya Sengupta",
      "userId": "05406841331172530634"
     },
     "user_tz": 480
    },
    "id": "a4ae2618"
   },
   "outputs": [],
   "source": [
    "header['OBJECT'] = \"Horsehead Nebula\""
   ]
  },
  {
   "cell_type": "code",
   "execution_count": null,
   "id": "744131f3",
   "metadata": {
    "colab": {
     "base_uri": "https://localhost:8080/",
     "height": 35
    },
    "executionInfo": {
     "elapsed": 302,
     "status": "ok",
     "timestamp": 1705085369289,
     "user": {
      "displayName": "Aditya Sengupta",
      "userId": "05406841331172530634"
     },
     "user_tz": 480
    },
    "id": "744131f3",
    "outputId": "85891dcd-0a0e-4533-9e45-d91db879c45a"
   },
   "outputs": [],
   "source": [
    "header[\"OBJECT\"]"
   ]
  },
  {
   "cell_type": "code",
   "execution_count": null,
   "id": "6142499e",
   "metadata": {
    "colab": {
     "base_uri": "https://localhost:8080/"
    },
    "executionInfo": {
     "elapsed": 353,
     "status": "ok",
     "timestamp": 1705085379026,
     "user": {
      "displayName": "Aditya Sengupta",
      "userId": "05406841331172530634"
     },
     "user_tz": 480
    },
    "id": "6142499e",
    "outputId": "d06b13c3-184d-46fb-cce6-c3d5c8230e2d"
   },
   "outputs": [],
   "source": [
    "# you can also change the comment at the same time\n",
    "header[\"OBSERVER\"] = (\"Williamina Fleming\", \"Observation: she did it\")\n",
    "\n",
    "header"
   ]
  },
  {
   "cell_type": "code",
   "execution_count": null,
   "id": "9c11db2f",
   "metadata": {
    "colab": {
     "base_uri": "https://localhost:8080/",
     "height": 35
    },
    "executionInfo": {
     "elapsed": 310,
     "status": "ok",
     "timestamp": 1705085414251,
     "user": {
      "displayName": "Aditya Sengupta",
      "userId": "05406841331172530634"
     },
     "user_tz": 480
    },
    "id": "9c11db2f",
    "outputId": "b0eebb09-a040-479d-c5f1-0bd3ca3f5ce5"
   },
   "outputs": [],
   "source": [
    "header[\"OBSERVER\"]"
   ]
  },
  {
   "cell_type": "markdown",
   "id": "e822af4e",
   "metadata": {
    "id": "e822af4e"
   },
   "source": [
    "We can save these changes:"
   ]
  },
  {
   "cell_type": "code",
   "execution_count": null,
   "id": "39d11a80",
   "metadata": {
    "executionInfo": {
     "elapsed": 3,
     "status": "ok",
     "timestamp": 1705085424433,
     "user": {
      "displayName": "Aditya Sengupta",
      "userId": "05406841331172530634"
     },
     "user_tz": 480
    },
    "id": "39d11a80"
   },
   "outputs": [],
   "source": [
    "fits.writeto('output_file.fits', data, header, overwrite=True)"
   ]
  },
  {
   "cell_type": "markdown",
   "id": "df76ed10",
   "metadata": {
    "id": "df76ed10"
   },
   "source": [
    "Finally, let's look at the actual data."
   ]
  },
  {
   "cell_type": "code",
   "execution_count": null,
   "id": "d5ff4c5e",
   "metadata": {
    "colab": {
     "base_uri": "https://localhost:8080/"
    },
    "executionInfo": {
     "elapsed": 304,
     "status": "ok",
     "timestamp": 1705085450535,
     "user": {
      "displayName": "Aditya Sengupta",
      "userId": "05406841331172530634"
     },
     "user_tz": 480
    },
    "id": "d5ff4c5e",
    "outputId": "952f4630-0e28-41b2-efaf-4423b68e0ced"
   },
   "outputs": [],
   "source": [
    "data"
   ]
  },
  {
   "cell_type": "code",
   "execution_count": null,
   "id": "53738f73",
   "metadata": {
    "colab": {
     "base_uri": "https://localhost:8080/"
    },
    "executionInfo": {
     "elapsed": 329,
     "status": "ok",
     "timestamp": 1705085453877,
     "user": {
      "displayName": "Aditya Sengupta",
      "userId": "05406841331172530634"
     },
     "user_tz": 480
    },
    "id": "53738f73",
    "outputId": "a4a133aa-8daf-436c-8e07-0ae34b70f34c"
   },
   "outputs": [],
   "source": [
    "type(data)"
   ]
  },
  {
   "cell_type": "markdown",
   "id": "f8020f0b",
   "metadata": {
    "id": "f8020f0b"
   },
   "source": [
    "Awesome! It's just a numpy array, which means we can treat it like any other data we use. Let's get to the good stuff and look at it!"
   ]
  },
  {
   "cell_type": "code",
   "execution_count": null,
   "id": "0e8b6365",
   "metadata": {
    "colab": {
     "base_uri": "https://localhost:8080/",
     "height": 452
    },
    "executionInfo": {
     "elapsed": 1413,
     "status": "ok",
     "timestamp": 1705085482538,
     "user": {
      "displayName": "Aditya Sengupta",
      "userId": "05406841331172530634"
     },
     "user_tz": 480
    },
    "id": "0e8b6365",
    "outputId": "d9e31ac6-5ba3-454b-9e7c-1937378a3ca1"
   },
   "outputs": [],
   "source": [
    "plt.imshow(data)"
   ]
  },
  {
   "cell_type": "markdown",
   "id": "bf9319e8",
   "metadata": {
    "id": "bf9319e8"
   },
   "source": [
    "### Working with Image Data"
   ]
  },
  {
   "cell_type": "markdown",
   "id": "5feb0478",
   "metadata": {
    "id": "5feb0478"
   },
   "source": [
    "Last time, we looked at `plt.imshow` in general, but didn't have any way to get data to show. Now that we're comfortable with FITS files, let's see what this image looks like!\n",
    "\n",
    "Often, it's hard to see astronomical images if you're just plotting pixel intensities, so it's usually good to change the scale or normalization. In `plt.imshow`, we can either set the `vmin` and `vmax` parameters, or the `norm`. In addition to the ones built into matplotlib, `astropy.visualization` has some good methods for this; I like their `ZScaleInterval`, which matches the z-scaling from the plotting tool `ds9`."
   ]
  },
  {
   "cell_type": "code",
   "execution_count": null,
   "id": "a276ec3b",
   "metadata": {
    "id": "a276ec3b"
   },
   "outputs": [],
   "source": [
    "ngc_data = fits.getdata(\"ngc_b0.fits\")"
   ]
  },
  {
   "cell_type": "code",
   "execution_count": null,
   "id": "b25d0ba9",
   "metadata": {
    "id": "b25d0ba9"
   },
   "outputs": [],
   "source": [
    "np.min(ngc_data), np.max(ngc_data)"
   ]
  },
  {
   "cell_type": "code",
   "execution_count": null,
   "id": "1129b88a",
   "metadata": {
    "id": "1129b88a"
   },
   "outputs": [],
   "source": [
    "vmin, vmax = ZScaleInterval().get_limits(ngc_data)\n",
    "vmin, vmax"
   ]
  },
  {
   "cell_type": "code",
   "execution_count": null,
   "id": "e5ee7337",
   "metadata": {
    "id": "e5ee7337"
   },
   "outputs": [],
   "source": [
    "plt.imshow(ngc_data)\n",
    "plt.colorbar()\n",
    "plt.title(\"NGC 6819 field image\")"
   ]
  },
  {
   "cell_type": "code",
   "execution_count": null,
   "id": "8d1245c7",
   "metadata": {
    "id": "8d1245c7"
   },
   "outputs": [],
   "source": [
    "# creating fun test data for images\n",
    "sd_x, sd_y = 5, 5 # try varying these!\n",
    "grid_size = 10\n",
    "r = np.arange(-grid_size // 2, grid_size // 2 + grid_size/100, step=grid_size/100)\n",
    "xg, yg = np.meshgrid(r, r)\n",
    "z = 1000 / (np.sqrt(2 * np.pi) * sd_x) * np.exp(-xg ** 2 / sd_x ** 2) * 1 / (np.sqrt(2 * np.pi) * sd_y) * np.exp(-yg ** 2 / sd_y ** 2)"
   ]
  },
  {
   "cell_type": "code",
   "execution_count": null,
   "id": "715db126",
   "metadata": {
    "id": "715db126"
   },
   "outputs": [],
   "source": [
    "plt.imshow(z, norm=PowerNorm(2)) # I'll vary vmin, vmax, norm here"
   ]
  },
  {
   "cell_type": "markdown",
   "id": "c7232c9b",
   "metadata": {
    "id": "c7232c9b"
   },
   "source": [
    "**Exercise**: Visualize the image in `data`. Give it a colorbar, pick a color map you like, and pick a scaling or normalization that looks good to you."
   ]
  },
  {
   "cell_type": "code",
   "execution_count": null,
   "id": "48d6ab7c",
   "metadata": {
    "id": "48d6ab7c"
   },
   "outputs": [],
   "source": [
    "# your code here!"
   ]
  },
  {
   "cell_type": "markdown",
   "id": "b147f8a0",
   "metadata": {
    "id": "b147f8a0"
   },
   "source": [
    "**Exercise**: Pick any of the stars in the image and zoom in on it (find approximate coordinates and slice `data` appropriately). Then pick an empty patch of the image and do the same. Using numpy operations (`np.min`, `np.max`, `np.std`, `np.mean`, `np.median`, etc.), come up with a way of describing how much brighter the star is than its background."
   ]
  },
  {
   "cell_type": "code",
   "execution_count": null,
   "id": "9e7afc33",
   "metadata": {
    "id": "9e7afc33"
   },
   "outputs": [],
   "source": [
    "# your code here!"
   ]
  }
 ],
 "metadata": {
  "colab": {
   "provenance": []
  },
  "kernelspec": {
   "display_name": "Python 3 (ipykernel)",
   "language": "python",
   "name": "python3"
  },
  "language_info": {
   "codemirror_mode": {
    "name": "ipython",
    "version": 3
   },
   "file_extension": ".py",
   "mimetype": "text/x-python",
   "name": "python",
   "nbconvert_exporter": "python",
   "pygments_lexer": "ipython3",
   "version": "3.11.6"
  }
 },
 "nbformat": 4,
 "nbformat_minor": 5
}
