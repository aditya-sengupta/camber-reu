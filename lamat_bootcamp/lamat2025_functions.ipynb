{
 "cells": [
  {
   "cell_type": "markdown",
   "metadata": {
    "id": "qCJ9BXrSEsam"
   },
   "source": [
    "# Lamat 2025 Winter Bootcamp\n",
    "\n",
    "Some of this material is from, or was adapted from, the Lamat 2023 Winter Bootcamp by Jules Fowler.\n",
    "\n",
    "## Functions\n",
    "\n",
    "So far, we've been following a common pattern for the exercises we've tried: come up with data, run a computation, and look at the result. This is okay for simple things, but after a certain point, it's hard to keep track. When we want to try running the same computation on many different data points, we can encapsulate that into a _function_. This helps us in two ways:\n",
    "\n",
    "- We don't have to keep rewriting the same logic. This saves us time and means we're less likely to make mistakes.\n",
    "- We can separate out our computation into lots of little units, and trust that each one individually works as we build something larger with them.\n",
    "\n",
    "We've been using built-in functions and library functions throughout, and we can write functions and call them the same way!"
   ]
  },
  {
   "cell_type": "code",
   "execution_count": null,
   "metadata": {
    "executionInfo": {
     "elapsed": 5,
     "status": "ok",
     "timestamp": 1705007392951,
     "user": {
      "displayName": "Aditya Sengupta",
      "userId": "05406841331172530634"
     },
     "user_tz": 480
    },
    "id": "er81z22ZEqUD"
   },
   "outputs": [],
   "source": [
    "def add_one(x):\n",
    "  \"\"\"\n",
    "  This is called a \"docstring\", and it's what you get when you call \"help\"!\n",
    "  You should write these for all your functions.\n",
    "  This function adds 1 to its input.\n",
    "  \"\"\"\n",
    "  return x + 1"
   ]
  },
  {
   "cell_type": "code",
   "execution_count": null,
   "metadata": {
    "colab": {
     "base_uri": "https://localhost:8080/"
    },
    "executionInfo": {
     "elapsed": 181,
     "status": "ok",
     "timestamp": 1705007399816,
     "user": {
      "displayName": "Aditya Sengupta",
      "userId": "05406841331172530634"
     },
     "user_tz": 480
    },
    "id": "pRuOAfFcUZhG",
    "outputId": "c3dd241f-538f-49c8-db81-afc32e6ebccc"
   },
   "outputs": [],
   "source": [
    "add_one"
   ]
  },
  {
   "cell_type": "code",
   "execution_count": null,
   "metadata": {
    "executionInfo": {
     "elapsed": 158,
     "status": "ok",
     "timestamp": 1705007413909,
     "user": {
      "displayName": "Aditya Sengupta",
      "userId": "05406841331172530634"
     },
     "user_tz": 480
    },
    "id": "KxhbCE_QXGPW"
   },
   "outputs": [],
   "source": [
    "plus_one = add_one"
   ]
  },
  {
   "cell_type": "code",
   "execution_count": null,
   "metadata": {
    "colab": {
     "base_uri": "https://localhost:8080/"
    },
    "executionInfo": {
     "elapsed": 153,
     "status": "ok",
     "timestamp": 1705007422062,
     "user": {
      "displayName": "Aditya Sengupta",
      "userId": "05406841331172530634"
     },
     "user_tz": 480
    },
    "id": "lgDfp2c5SQrh",
    "outputId": "c656a182-b80b-4f54-c109-8021db7196f5"
   },
   "outputs": [],
   "source": [
    "help(add_one)"
   ]
  },
  {
   "cell_type": "code",
   "execution_count": null,
   "metadata": {
    "colab": {
     "base_uri": "https://localhost:8080/"
    },
    "executionInfo": {
     "elapsed": 4,
     "status": "ok",
     "timestamp": 1705007444056,
     "user": {
      "displayName": "Aditya Sengupta",
      "userId": "05406841331172530634"
     },
     "user_tz": 480
    },
    "id": "N7N7d3YyXOPk",
    "outputId": "6b5923bc-aaf4-4cc6-c2cc-4b475ea4b1cb"
   },
   "outputs": [],
   "source": [
    "add_one(3)"
   ]
  },
  {
   "cell_type": "markdown",
   "metadata": {
    "id": "-NmeXnd2Oxd7"
   },
   "source": [
    "A function will stop the first time it hits a `return`, and ignore any code after that. When you assign a value to the function call, it'll use whatever is just after the `return`.\n",
    "\n",
    " It's also possible to have no `return`, in which case the function will run through every line inside and return `None`."
   ]
  },
  {
   "cell_type": "code",
   "execution_count": null,
   "metadata": {
    "colab": {
     "base_uri": "https://localhost:8080/"
    },
    "executionInfo": {
     "elapsed": 134,
     "status": "ok",
     "timestamp": 1705007533558,
     "user": {
      "displayName": "Aditya Sengupta",
      "userId": "05406841331172530634"
     },
     "user_tz": 480
    },
    "id": "zhg2SJ1gOwK1",
    "outputId": "148d267e-1176-4fc6-9065-7ca2ac9f77c7"
   },
   "outputs": [],
   "source": [
    "# predict what'll happen when you run this\n",
    "def add_two(x):\n",
    "    x = x + 1\n",
    "    return x\n",
    "    x = x + 1\n",
    "\n",
    "print(add_two(3))"
   ]
  },
  {
   "cell_type": "markdown",
   "metadata": {
    "id": "7jJ_yOsqP3EW"
   },
   "source": [
    "Let's run this through Python Tutor and note _where_ the name `x` lives.\n",
    "\n",
    "In Python, functions create their own scope: names that get created within the function only \"live\" for as long as the function is running. This means you can use names internally in a function, and not worry about keeping track of dozens or hundreds of different variable names at the \"top level\"!\n",
    "\n",
    "The tradeoff here is you have to be a bit mindful of what names exist where; if possible, make the names you use within functions different from those outside them."
   ]
  },
  {
   "cell_type": "code",
   "execution_count": null,
   "metadata": {
    "executionInfo": {
     "elapsed": 2,
     "status": "ok",
     "timestamp": 1705007948896,
     "user": {
      "displayName": "Aditya Sengupta",
      "userId": "05406841331172530634"
     },
     "user_tz": 480
    },
    "id": "FOBrAlzQPsl5"
   },
   "outputs": [],
   "source": [
    "# predict what'll happen when you run this\n",
    "def add_two(x):\n",
    "    x[0] = x[0] + 2\n",
    "    return x"
   ]
  },
  {
   "cell_type": "markdown",
   "metadata": {
    "id": "_XB_2xM6Qyfe"
   },
   "source": [
    "Another thing to be mindful of is any \"complicated\" data type will get changed within a function (this is called \"pass by reference\"), and only \"simple\" things like individual numbers don't (this is called \"pass by value\"). Why this happens is a little outside our scope, but we can at least look at the Python Tutor representation of it!"
   ]
  },
  {
   "cell_type": "code",
   "execution_count": null,
   "metadata": {
    "colab": {
     "base_uri": "https://localhost:8080/"
    },
    "executionInfo": {
     "elapsed": 172,
     "status": "ok",
     "timestamp": 1705007952390,
     "user": {
      "displayName": "Aditya Sengupta",
      "userId": "05406841331172530634"
     },
     "user_tz": 480
    },
    "id": "CyjzOLMKQcMc",
    "outputId": "0628d840-da9f-43bf-d9c7-82b9df5deadb"
   },
   "outputs": [],
   "source": [
    "z = [3]\n",
    "add_two(z)\n",
    "print(z)"
   ]
  },
  {
   "cell_type": "code",
   "execution_count": null,
   "metadata": {
    "colab": {
     "base_uri": "https://localhost:8080/"
    },
    "executionInfo": {
     "elapsed": 163,
     "status": "ok",
     "timestamp": 1705007925513,
     "user": {
      "displayName": "Aditya Sengupta",
      "userId": "05406841331172530634"
     },
     "user_tz": 480
    },
    "id": "BaDKW8-8QxT1",
    "outputId": "1a0ed16c-e8d4-45f7-84e0-92d5dec0455c"
   },
   "outputs": [],
   "source": [
    "# Python Tutor doesn't support numpy, so here's a quick version you can copy and paste in!\n",
    "class container:\n",
    "    def __init__(self, x):\n",
    "        self.x = x\n",
    "\n",
    "    def __add__(self, other):\n",
    "        self.x += other\n",
    "        return self\n",
    "\n",
    "    def __str__(self):\n",
    "        return str(self.x)\n",
    "\n",
    "def add_two(x):\n",
    "    x = x + 2\n",
    "    return x\n",
    "\n",
    "z = container(3)\n",
    "print(add_two(z))\n",
    "print(z)"
   ]
  },
  {
   "cell_type": "markdown",
   "metadata": {
    "id": "COc7jyb9SZ8N"
   },
   "source": [
    "With all the caveats out of the way, let's see what we can do with functions!\n",
    "\n",
    "We can make functions without any \"arguments\" (inputs):"
   ]
  },
  {
   "cell_type": "code",
   "execution_count": null,
   "metadata": {
    "colab": {
     "base_uri": "https://localhost:8080/",
     "height": 35
    },
    "executionInfo": {
     "elapsed": 513,
     "status": "ok",
     "timestamp": 1705008067050,
     "user": {
      "displayName": "Aditya Sengupta",
      "userId": "05406841331172530634"
     },
     "user_tz": 480
    },
    "id": "EWBCM5j8VevF",
    "outputId": "00d5a47d-ab8a-4fd3-c5da-8d2edf0ed20d"
   },
   "outputs": [],
   "source": [
    "def say_hello():\n",
    "  return \"Hello\"\n",
    "\n",
    "say_hello()"
   ]
  },
  {
   "cell_type": "markdown",
   "metadata": {
    "id": "Be8L-7AMVlAj"
   },
   "source": [
    "And we can make ones that adjust what they do based on the input:"
   ]
  },
  {
   "cell_type": "code",
   "execution_count": null,
   "metadata": {
    "colab": {
     "base_uri": "https://localhost:8080/",
     "height": 35
    },
    "executionInfo": {
     "elapsed": 143,
     "status": "ok",
     "timestamp": 1705008166569,
     "user": {
      "displayName": "Aditya Sengupta",
      "userId": "05406841331172530634"
     },
     "user_tz": 480
    },
    "id": "JUIMm3T9Vp89",
    "outputId": "d766ea53-5f1b-4f23-f85e-a71064c1477f"
   },
   "outputs": [],
   "source": [
    "def say_hello_2(name):\n",
    "  return f\"Hello {name}\"\n",
    "  # This is called an f string.\n",
    "\n",
    "person = \"name of student\"\n",
    "say_hello_2(person)"
   ]
  },
  {
   "cell_type": "markdown",
   "metadata": {
    "id": "55p7O4fmV3th"
   },
   "source": [
    "We can have any number of function inputs and any number of outputs!"
   ]
  },
  {
   "cell_type": "code",
   "execution_count": null,
   "metadata": {
    "colab": {
     "base_uri": "https://localhost:8080/"
    },
    "executionInfo": {
     "elapsed": 2,
     "status": "ok",
     "timestamp": 1705008250389,
     "user": {
      "displayName": "Aditya Sengupta",
      "userId": "05406841331172530634"
     },
     "user_tz": 480
    },
    "id": "YoEaS-_lV6pN",
    "outputId": "7ee30630-b12e-40a1-b43c-9a41054e0458"
   },
   "outputs": [],
   "source": [
    "def shuffle_around(a, b, c, d, e):\n",
    "  return d, b, a, e, c\n",
    "\n",
    "shuffle_around(1, 2, 3, 4, 5)"
   ]
  },
  {
   "cell_type": "markdown",
   "metadata": {
    "id": "IMlyaAtbXYuy"
   },
   "source": [
    "Python also lets you specify some optional arguments, where you give it a default value when you define the function and can override it at call time if you want. This is often used to specify whether or not you want to print information to do with the function (a \"verbose\" flag), or to pass in data that rarely changes."
   ]
  },
  {
   "cell_type": "code",
   "execution_count": null,
   "metadata": {
    "colab": {
     "base_uri": "https://localhost:8080/"
    },
    "executionInfo": {
     "elapsed": 144,
     "status": "ok",
     "timestamp": 1705008326975,
     "user": {
      "displayName": "Aditya Sengupta",
      "userId": "05406841331172530634"
     },
     "user_tz": 480
    },
    "id": "KL0JIfsnXv7N",
    "outputId": "2e1a9c3d-774c-43c3-bcd3-1d87eeb409b2"
   },
   "outputs": [],
   "source": [
    "def shuffle_around(a, b, c, d, e, verbose=True):\n",
    "  if verbose:\n",
    "    print(\"shuffling\")\n",
    "  return d, b, a, e, c\n",
    "\n",
    "print(shuffle_around(1, 2, 3, 4, 5))\n",
    "print(\"\\n\")\n",
    "print(shuffle_around(1, 2, 3, 4, 5, verbose=True))\n",
    "print(\"\\n\")\n",
    "print(shuffle_around(1, 2, 3, 4, 5, verbose=False))"
   ]
  },
  {
   "cell_type": "markdown",
   "metadata": {
    "id": "OSiBp-WP79n0"
   },
   "source": [
    "**Exercise**: Write a function that returns $ax^3 + bx^2 + cx + d$. What are the parameters in the function?"
   ]
  },
  {
   "cell_type": "code",
   "execution_count": null,
   "metadata": {
    "id": "tyksJL0b8mTd"
   },
   "outputs": [],
   "source": [
    "def polynomial_3d(x, a, b, c, d):\n",
    "  pass\n",
    "  # your code here!"
   ]
  },
  {
   "cell_type": "markdown",
   "metadata": {
    "id": "WG6O7crA8vkE"
   },
   "source": [
    "**Exercise**: Write a function that returns $m \\times (ax^3 + bx^2 + cx + d)$."
   ]
  },
  {
   "cell_type": "code",
   "execution_count": null,
   "metadata": {
    "id": "9apHnoJQ81F2"
   },
   "outputs": [],
   "source": [
    "def polynomial_with_factor(...):\n",
    "  # your code here!"
   ]
  },
  {
   "cell_type": "markdown",
   "metadata": {
    "id": "kb3up6o5ads9"
   },
   "source": [
    "**Exercise**: The Doppler shift tells us how fast a wave is moving towards or away from us. Light moving towards us appears bluer, and light moving away from us appears redder. The amount of this blueshift or redshift tells us how fast the source is moving. If we have a particular pattern that we know should be at one wavelength, and find it's at another, that's related to the velocity by\n",
    "\n",
    "$v = \\text{speed of light } \\times (\\frac{\\text{measured wavelength}}{\\text{known wavelength}} - 1).$\n",
    "\n",
    "Write a function that calculates this velocity given the measured and known wavelengths.\n",
    "\n",
    "Suppose we observe a star whose H$\\alpha$ line is at 6567 nm, and we know from experiments in the lab it should be at 6563 nm. Calculate its velocity."
   ]
  },
  {
   "cell_type": "code",
   "execution_count": null,
   "metadata": {
    "id": "zL_KzSVZAIVy"
   },
   "outputs": [],
   "source": [
    "# your code here!"
   ]
  },
  {
   "cell_type": "markdown",
   "metadata": {
    "id": "PfwBrbhiYQK7"
   },
   "source": [
    "**Exercise**: one of the functions I find myself defining a lot in projects is the \"root-mean-square\" or RMS of a dataset, representing the amount of error or amount of deviation from zero. It's defined mathematically as\n",
    "\n",
    "$\\text{rms}(x) = \\sqrt{\\frac{1}{N} \\sum_{i=1}^{N} x_i^2 }$\n",
    "\n",
    "Sometimes we want this value, and sometimes we want the RMS deviation from the mean, where we first subtract the mean value from each data point:\n",
    "\n",
    "$\\text{rms\\_deviation}(x) = \\sqrt{\\frac{1}{N} \\sum_{i=1}^{N} (x_i - \\bar{x})^2 }$\n",
    "\n",
    "Write a function that can compute either `rms` or `rms_deviation` of a 1D numpy array depending on an argument that the user passes in, defaulting to `rms`."
   ]
  },
  {
   "cell_type": "code",
   "execution_count": null,
   "metadata": {
    "id": "z_m_gVs3YQBV"
   },
   "outputs": [],
   "source": [
    "# your code here, in the ellipses!\n",
    "def rms(...):\n",
    "  ..."
   ]
  },
  {
   "cell_type": "code",
   "execution_count": null,
   "metadata": {
    "id": "muqA83SBbu5R"
   },
   "outputs": [],
   "source": [
    "test_data = np.array([4, 5, 8, 8])\n",
    "rms(test_data) # should be 6.5\n",
    "rms(test_data, ...) # with \"deviation\" argument; should be about 1.785"
   ]
  },
  {
   "cell_type": "markdown",
   "metadata": {
    "id": "uzESM8rG-8Z5"
   },
   "source": [
    "**Bonus exercise**: previously, we looked at finding polynomial roots by evaluating the polynomial at several points and seeing which ones were 0. This won't always work because you're not guaranteed to pick every root, but we can get approximate roots by evaluating at a lot of points and finding which ones are the _closest_ to 0. Write a function that takes in a set of polynomial coefficients, evaluates that polynomial over a set of inputs of your choice, and picks the input that results in the output that's closest to 0.\n",
    "\n",
    "You may want to use some or all of `np.argmin`, `np.abs`, `np.where`. NumPy also has a datatype for polynomials, `np.polynomial.Polynomial`, but it's not that useful for us here.\n",
    "\n",
    "You can stick to third-order, so your coefficients can be $a, b, c, d$; but for an extra challenge, let users pass in a list and allow for arbitrary orders!"
   ]
  },
  {
   "cell_type": "code",
   "execution_count": null,
   "metadata": {
    "id": "LXxSST5k-8rG"
   },
   "outputs": [],
   "source": [
    "# your code here!"
   ]
  }
 ],
 "metadata": {
  "colab": {
   "provenance": []
  },
  "kernelspec": {
   "display_name": "Python 3",
   "name": "python3"
  },
  "language_info": {
   "name": "python"
  }
 },
 "nbformat": 4,
 "nbformat_minor": 0
}
