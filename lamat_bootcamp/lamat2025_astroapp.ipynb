{
 "cells": [
  {
   "cell_type": "markdown",
   "metadata": {
    "id": "6AFLkugPC0Bb"
   },
   "source": [
    "# Lamat 2025 Winter Bootcamp\n",
    "\n",
    "### Astronomy applications\n",
    "\n",
    "Here, we'll look at a couple of cases where quick calculations help us understand things physically!"
   ]
  },
  {
   "cell_type": "code",
   "execution_count": null,
   "metadata": {
    "id": "veide5V0Ct-k"
   },
   "outputs": [],
   "source": [
    "import numpy as np\n",
    "from matplotlib import pyplot as plt"
   ]
  },
  {
   "cell_type": "markdown",
   "metadata": {
    "id": "2bXsNSLeDELy"
   },
   "source": [
    "### The blackbody curve\n",
    "\n",
    "The blackbody curve describes electromagnetic radiation from an ideal object in thermodynamic equilibrium. It's a pretty good first assumption for the spectrum of anything in the Universe!\n",
    "\n",
    "The idea of the blackbody curve is: the hotter an object is, the shorter its peak wavelength (the \"bluer\" it is) and the more overall radiation it gives off. Given a temperature and a wavelength, the radiation intensity is given by\n",
    "\n",
    "$$ B(\\lambda, T) = \\frac{2hc^2}{\\lambda^5} \\frac{1}{\\exp(\\frac{hc}{\\lambda k_B T}) - 1} $$"
   ]
  },
  {
   "cell_type": "markdown",
   "metadata": {
    "id": "qoNQz1hiyUA8"
   },
   "source": [
    "**Exercise**: write a function, `blackbody(wavelength, temperature)`, that computes $B(\\lambda, T)$. You'll need the following constants:\n",
    "\n",
    "- Planck's constant: $h = 6.626 \\times 10^{-34} \\text{J s}$ (joule-seconds)\n",
    "- Speed of light: $c = 3 \\times 10^8 \\text{m}/\\text{s}$.\n",
    "- Boltzmann's constant: $k_B = 1.38 \\times 10^{-23} \\text{J}/\\text{K}$ (joules per Kelvin)."
   ]
  },
  {
   "cell_type": "code",
   "execution_count": null,
   "metadata": {
    "id": "gEndmMonDB8t"
   },
   "outputs": [],
   "source": [
    "# your code here!"
   ]
  },
  {
   "cell_type": "markdown",
   "metadata": {
    "id": "T3_OQ7y20D4X"
   },
   "source": [
    "Once you're done with this, copy and paste your function definition into `lamat_utils.py`; this'll let us use the same function elsewhere later without worrying about how it's been implemented.\n",
    "\n",
    "Let's evaluate this at specific points! The Earth's temperature is about 300 K and the Sun's is about 6000 K. At a wavelength of $\\lambda = 600 \\text{nm} = 6 \\times 10^{-7} \\text{m}$, about the middle of the visible range, how much brighter is the Sun than the Earth? Do you think that's a reasonable number?"
   ]
  },
  {
   "cell_type": "code",
   "execution_count": null,
   "metadata": {
    "id": "kwAvLIkx06k5"
   },
   "outputs": [],
   "source": [
    "# your code here!"
   ]
  },
  {
   "cell_type": "markdown",
   "metadata": {
    "id": "hvXbLekszSVd"
   },
   "source": [
    "If you pass in a numpy array for `wavelength`, you'll get out an array of intensities, where each output element corresponds to the input wavelength in the same position. We can use this to look at where the blackbody curve peaks for each temperature!"
   ]
  },
  {
   "cell_type": "markdown",
   "metadata": {
    "id": "PVoZTLtWyt4V"
   },
   "source": [
    "For each temperature, the blackbody curve peaks at a particular wavelength that is inversely related to the temperature. This is known as _Wien's law of displacement_. We'll find this peak wavelength for the Sun and the Earth!\n",
    "\n",
    "**Exercise**: Fill in the function below so that it returns the wavelength at which `blackbody(wavelength, temperature)` peaks for the `temperature` passed in. Add an appropriate docstring.\n",
    "\n",
    "You can do this with or without numpy. With numpy takes fewer lines and is faster, but it's worth knowing both ways, so try them both if you have time!"
   ]
  },
  {
   "cell_type": "code",
   "execution_count": null,
   "metadata": {
    "id": "bHXxjin8zDhD"
   },
   "outputs": [],
   "source": [
    "def peak_wavelength(temperature):\n",
    "  \"\"\"\n",
    "  Fill in docstring here!\n",
    "  \"\"\"\n",
    "  ..."
   ]
  },
  {
   "cell_type": "markdown",
   "metadata": {
    "id": "V48-9t-U9gGm"
   },
   "source": [
    "What are the peak wavelengths for the Sun (6000 K) and the Earth (300 K)? Does that match the plots you made yesterday?\n",
    "\n",
    "Look up the ranges in which those peak wavelengths live (ultraviolet, visible, infrared, radio, etc.) and see if it sounds right to check your answer.\n",
    "\n",
    "**Bonus exercise**: The Stefan-Boltzmann law says the total energy radiated by a blackbody is proportional to $T^4$. You can derive this theoretically (it's on [Wikipedia](https://en.wikipedia.org/wiki/Stefan%E2%80%93Boltzmann_law#Derivation_from_Planck's_law) and [hyperphysics](http://hyperphysics.phy-astr.gsu.edu/hbase/thermo/stefan2.html)) but doing the integral looks annoying, so let's try it numerically!\n",
    "\n",
    "We want to try and find the integral $\\int_0^\\infty B(\\lambda, T) \\mathrm{d}\\lambda$. We already have $B(\\lambda, T)$, so see if there's a way to do integrals with numpy. It's possible to do this with just `np.sum` as well. (If you're not sure about how to formulate this, try a simpler function you know how to integrate first, like $f(x) = 2x$.)\n",
    "\n",
    "Once you have a solution, try putting in two temperatures like 100K and 200K, and look at the ratio of the outputs you get."
   ]
  },
  {
   "cell_type": "code",
   "execution_count": null,
   "metadata": {
    "id": "b2qXb-fy96X3"
   },
   "outputs": [],
   "source": [
    "# your code here!"
   ]
  },
  {
   "cell_type": "markdown",
   "metadata": {
    "id": "V_fvspw1FQEo"
   },
   "source": [
    "### Magnitudes\n",
    "\n",
    "Astronomers use a system of _magnitudes_ to describe how faint stars are. It roughly correlates with how difficult it is to see the star.\n",
    "\n",
    "- Vega, a nearby bright star, has a magnitude of 0.\n",
    "- With the naked eye, we can see stars down to about magnitude 6.\n",
    "- Pluto has a magnitude of about 14, and this is also the limit of the average amateur telescopes.\n",
    "- Large ground-based telescopes can see down to magnitudes 25-30.\n",
    "- Space-based telescopes can see down to magnitudes 30-34.\n",
    "\n",
    "We have two different magnitude measurements: _apparent magnitude_ (how bright is it from Earth) and _absolute magnitude_ (how bright is it inherently). They're related according to\n",
    "\n",
    "$$ \\text{apparent magnitude} - \\text{absolute magnitude} = 5 (\\log_{10} d - 1) $$\n",
    "\n",
    "where $d$ is the distance to the star in parsecs (a distance measurement that's about 3.26 times a light-year.)\n",
    "\n",
    "Write a function to compute the absolute magnitude of a star given its apparent magnitude and its distance."
   ]
  },
  {
   "cell_type": "code",
   "execution_count": null,
   "metadata": {
    "id": "eK0EPGQ8FyZ6"
   },
   "outputs": [],
   "source": [
    "# your code here!"
   ]
  },
  {
   "cell_type": "markdown",
   "metadata": {},
   "source": [
    "How do we get the distance to a star? Astronomers measure _parallax_: due to the movement of Earth on its orbit, "
   ]
  }
 ],
 "metadata": {
  "colab": {
   "provenance": []
  },
  "kernelspec": {
   "display_name": "CamberPy",
   "language": "python",
   "name": "python3"
  },
  "language_info": {
   "codemirror_mode": {
    "name": "ipython",
    "version": 3
   },
   "file_extension": ".py",
   "mimetype": "text/x-python",
   "name": "python",
   "nbconvert_exporter": "python",
   "pygments_lexer": "ipython3",
   "version": "3.12.7"
  }
 },
 "nbformat": 4,
 "nbformat_minor": 4
}
