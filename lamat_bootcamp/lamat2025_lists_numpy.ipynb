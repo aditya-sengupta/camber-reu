{
 "cells": [
  {
   "cell_type": "markdown",
   "metadata": {
    "id": "wNp09uZh9IPo"
   },
   "source": [
    "# Lamat 2025 Winter Bootcamp\n",
    "\n",
    "Some of this material was adapted from the Lamat 2023 Winter Bootcamp by Jules Fowler, and from the Undergraduate Lab at Berkeley Physics and Astronomy 2020-2021 Python modules by Yi Zhu and Aditya Sengupta.\n",
    "\n",
    "## Installation and Imports\n",
    "\n",
    "I'll switch over to my terminal for the installation demo. If everyone's Python installs worked yesterday, follow along!\n",
    "\n",
    "Packages allow us to use code that someone else wrote so we don't have to reinvent the wheel. They're a good example of abstraction: you get to use other people's tools without worrying about all the details of how they're written. Probably the most widely used package, and something that'll be useful even outside of astronomy, is `numpy`."
   ]
  },
  {
   "cell_type": "code",
   "execution_count": null,
   "metadata": {
    "executionInfo": {
     "elapsed": 184,
     "status": "ok",
     "timestamp": 1704998538065,
     "user": {
      "displayName": "Tadashi Lewis",
      "userId": "08924533963653565366"
     },
     "user_tz": 480
    },
    "id": "sKcDR5lb9J8u"
   },
   "outputs": [],
   "source": [
    "import numpy"
   ]
  },
  {
   "cell_type": "markdown",
   "metadata": {
    "id": "zpOoOQ06AOxh"
   },
   "source": [
    "Once we've imported a package, we can get functions and other objects from it as follows:"
   ]
  },
  {
   "cell_type": "code",
   "execution_count": null,
   "metadata": {
    "colab": {
     "base_uri": "https://localhost:8080/"
    },
    "executionInfo": {
     "elapsed": 153,
     "status": "ok",
     "timestamp": 1704998539882,
     "user": {
      "displayName": "Tadashi Lewis",
      "userId": "08924533963653565366"
     },
     "user_tz": 480
    },
    "id": "n3QLYP_7ANvr",
    "outputId": "d9f51db5-d1f5-4626-d08b-4b052a45f0a8"
   },
   "outputs": [],
   "source": [
    "numpy.array"
   ]
  },
  {
   "cell_type": "markdown",
   "metadata": {
    "id": "mvknU4i6AaQo"
   },
   "source": [
    "We can also give packages alternative names by importing them `as alias` where we specify the alias. In the case of `numpy`, it's used so often that people usually give it the alias `np`:"
   ]
  },
  {
   "cell_type": "code",
   "execution_count": null,
   "metadata": {
    "executionInfo": {
     "elapsed": 264,
     "status": "ok",
     "timestamp": 1704998535797,
     "user": {
      "displayName": "Tadashi Lewis",
      "userId": "08924533963653565366"
     },
     "user_tz": 480
    },
    "id": "tXu2if9jAX2E"
   },
   "outputs": [],
   "source": [
    "import numpy as np"
   ]
  },
  {
   "cell_type": "markdown",
   "metadata": {
    "id": "L9WflqkWAjnX"
   },
   "source": [
    "which is equivalent to saying `np = numpy` after the input, just more easily readable."
   ]
  },
  {
   "cell_type": "code",
   "execution_count": null,
   "metadata": {
    "colab": {
     "base_uri": "https://localhost:8080/"
    },
    "executionInfo": {
     "elapsed": 157,
     "status": "ok",
     "timestamp": 1704993732302,
     "user": {
      "displayName": "Tadashi Lewis",
      "userId": "08924533963653565366"
     },
     "user_tz": 480
    },
    "id": "9Ae74q4GAi6m",
    "outputId": "3da2c5ce-b3b2-4c12-a449-80b952f1b197"
   },
   "outputs": [],
   "source": [
    "np.array"
   ]
  },
  {
   "cell_type": "markdown",
   "metadata": {
    "id": "mKbmkXXYAwGn"
   },
   "source": [
    "We can also import specific objects from a package:"
   ]
  },
  {
   "cell_type": "code",
   "execution_count": null,
   "metadata": {
    "colab": {
     "base_uri": "https://localhost:8080/"
    },
    "executionInfo": {
     "elapsed": 282,
     "status": "ok",
     "timestamp": 1704998522951,
     "user": {
      "displayName": "Tadashi Lewis",
      "userId": "08924533963653565366"
     },
     "user_tz": 480
    },
    "id": "drFuRYLnAu6h",
    "outputId": "1d808b0e-c64d-4850-cccc-2f2e9c0d18e8"
   },
   "outputs": [],
   "source": [
    "from numpy import array\n",
    "array"
   ]
  },
  {
   "cell_type": "markdown",
   "metadata": {
    "id": "YD6dP3eSCOQZ"
   },
   "source": [
    "And we can even import everything (`from numpy import *`), but **I don't recommend it**!"
   ]
  },
  {
   "cell_type": "code",
   "execution_count": null,
   "metadata": {
    "colab": {
     "base_uri": "https://localhost:8080/"
    },
    "executionInfo": {
     "elapsed": 139,
     "status": "ok",
     "timestamp": 1704998525274,
     "user": {
      "displayName": "Tadashi Lewis",
      "userId": "08924533963653565366"
     },
     "user_tz": 480
    },
    "id": "p4zGQdo2E0er",
    "outputId": "a241ba3e-b254-4ad5-daaf-584e58540b64"
   },
   "outputs": [],
   "source": [
    "abs # this is a built-in function"
   ]
  },
  {
   "cell_type": "code",
   "execution_count": null,
   "metadata": {
    "colab": {
     "base_uri": "https://localhost:8080/"
    },
    "executionInfo": {
     "elapsed": 139,
     "status": "ok",
     "timestamp": 1704998562609,
     "user": {
      "displayName": "Tadashi Lewis",
      "userId": "08924533963653565366"
     },
     "user_tz": 480
    },
    "id": "_h4HTJKQCNBR",
    "outputId": "2cd09dd9-a4d6-4239-da31-d83f67b16e8b"
   },
   "outputs": [],
   "source": [
    "np.abs # what's a ufunc? try looking up the docs for np.ufunc"
   ]
  },
  {
   "cell_type": "markdown",
   "metadata": {
    "id": "4KikaZZYFYrq"
   },
   "source": [
    "We'll see the real power of numpy in a minute, but for now, note that it gives us a lot of math functions!"
   ]
  },
  {
   "cell_type": "code",
   "execution_count": null,
   "metadata": {
    "id": "7jyJe28ojVdO"
   },
   "outputs": [],
   "source": [
    "help(np.ufunc)"
   ]
  },
  {
   "cell_type": "code",
   "execution_count": null,
   "metadata": {
    "colab": {
     "base_uri": "https://localhost:8080/"
    },
    "executionInfo": {
     "elapsed": 161,
     "status": "ok",
     "timestamp": 1704994222203,
     "user": {
      "displayName": "Tadashi Lewis",
      "userId": "08924533963653565366"
     },
     "user_tz": 480
    },
    "id": "G9xRijAXH_x2",
    "outputId": "5b2a63a4-85b4-4211-e00f-98ceeeb1ea05"
   },
   "outputs": [],
   "source": [
    "np.exp(1)"
   ]
  },
  {
   "cell_type": "code",
   "execution_count": null,
   "metadata": {
    "colab": {
     "base_uri": "https://localhost:8080/"
    },
    "executionInfo": {
     "elapsed": 4,
     "status": "ok",
     "timestamp": 1704994287028,
     "user": {
      "displayName": "Tadashi Lewis",
      "userId": "08924533963653565366"
     },
     "user_tz": 480
    },
    "id": "bfZ1YyhJIAra",
    "outputId": "4a6e4e3a-5173-45e7-ef97-297cc552d96f"
   },
   "outputs": [],
   "source": [
    "np.sin(np.pi / 2)"
   ]
  },
  {
   "cell_type": "code",
   "execution_count": null,
   "metadata": {
    "colab": {
     "base_uri": "https://localhost:8080/"
    },
    "executionInfo": {
     "elapsed": 3,
     "status": "ok",
     "timestamp": 1704994302578,
     "user": {
      "displayName": "Tadashi Lewis",
      "userId": "08924533963653565366"
     },
     "user_tz": 480
    },
    "id": "sMVkjz-KICBn",
    "outputId": "974dd972-9f4d-4387-81c5-7496f545ab16"
   },
   "outputs": [],
   "source": [
    "np.sqrt(64)"
   ]
  },
  {
   "cell_type": "markdown",
   "metadata": {
    "id": "bDc0E9mCIF5-"
   },
   "source": [
    "**Exercise**: in planet atmospheres, we describe the trend in atmospheric pressure as a function of altitude with the *scale height*. Atmospheric pressure drops exponentially, according to the rule: if you go up one scale height, the pressure goes down by a factor of $e$.\n",
    "\n",
    "Earth's scale height is 8.5 km. Using this, what's the ratio of atmospheric pressure relative to pressure at sea level at\n",
    "\n",
    "- ISB in UC Santa Cruz? (247 m above sea level)\n",
    "- Lick Observatory? (1286 m above sea level)\n",
    "\n",
    "Check this against an online calculator like https://www.mide.com/air-pressure-at-altitude-calculator.\n"
   ]
  },
  {
   "cell_type": "code",
   "execution_count": null,
   "metadata": {
    "colab": {
     "base_uri": "https://localhost:8080/"
    },
    "executionInfo": {
     "elapsed": 3496,
     "status": "ok",
     "timestamp": 1704998559130,
     "user": {
      "displayName": "Tadashi Lewis",
      "userId": "08924533963653565366"
     },
     "user_tz": 480
    },
    "id": "Uo4q_8KclnsV",
    "outputId": "18bfe6d2-ae83-4619-802c-c6a857608ffc"
   },
   "outputs": [],
   "source": [
    "# your code here!"
   ]
  },
  {
   "cell_type": "markdown",
   "metadata": {
    "id": "-k_KG0cNC0Sh"
   },
   "source": [
    "## Lists\n",
    "\n",
    "I'm talking about lists a bit later than I normally would, because I wanted to talk about them right next to numpy's arrays. You might have already felt the need for lists, which are ways to store multiple pieces of data under one name. Instead of just specifying one piece of data and one piece of computation, we can now scale that up to as many pieces of data as needed."
   ]
  },
  {
   "cell_type": "code",
   "execution_count": null,
   "metadata": {
    "executionInfo": {
     "elapsed": 170,
     "status": "ok",
     "timestamp": 1704998644232,
     "user": {
      "displayName": "Tadashi Lewis",
      "userId": "08924533963653565366"
     },
     "user_tz": 480
    },
    "id": "h1jd1ud0E-Fx"
   },
   "outputs": [],
   "source": [
    "l = [1, 3, 5, 7, 9]"
   ]
  },
  {
   "cell_type": "markdown",
   "metadata": {
    "id": "7xmllxC-RVo5"
   },
   "source": [
    "We can check the length of a list with the `len` function:"
   ]
  },
  {
   "cell_type": "code",
   "execution_count": null,
   "metadata": {
    "colab": {
     "base_uri": "https://localhost:8080/"
    },
    "executionInfo": {
     "elapsed": 160,
     "status": "ok",
     "timestamp": 1704998645651,
     "user": {
      "displayName": "Tadashi Lewis",
      "userId": "08924533963653565366"
     },
     "user_tz": 480
    },
    "id": "jmaxy-_4RYnQ",
    "outputId": "eb6ab4bb-43c2-4d29-94f8-3e40d5da85b5"
   },
   "outputs": [],
   "source": [
    "len(l)"
   ]
  },
  {
   "cell_type": "markdown",
   "metadata": {
    "id": "jx-YEK1kFK8k"
   },
   "source": [
    "We get elements out of a list by \"indexing into\" them, like this:"
   ]
  },
  {
   "cell_type": "code",
   "execution_count": null,
   "metadata": {
    "colab": {
     "base_uri": "https://localhost:8080/"
    },
    "executionInfo": {
     "elapsed": 157,
     "status": "ok",
     "timestamp": 1704995754481,
     "user": {
      "displayName": "Tadashi Lewis",
      "userId": "08924533963653565366"
     },
     "user_tz": 480
    },
    "id": "WwFZKDnhE_SC",
    "outputId": "ed669561-355a-45a8-c027-7340fbe4480f"
   },
   "outputs": [],
   "source": [
    "l[4] # first element"
   ]
  },
  {
   "cell_type": "markdown",
   "metadata": {
    "id": "73sllWO8Irfm"
   },
   "source": [
    "And we can modify elements just like any other variable:"
   ]
  },
  {
   "cell_type": "code",
   "execution_count": null,
   "metadata": {
    "colab": {
     "base_uri": "https://localhost:8080/"
    },
    "executionInfo": {
     "elapsed": 3,
     "status": "ok",
     "timestamp": 1704995965757,
     "user": {
      "displayName": "Tadashi Lewis",
      "userId": "08924533963653565366"
     },
     "user_tz": 480
    },
    "id": "c1n_hDOqIrNp",
    "outputId": "85acc434-f3ef-4a77-b062-157be911a87f"
   },
   "outputs": [],
   "source": [
    "print(l)\n",
    "l[2] = 6\n",
    "print(l)"
   ]
  },
  {
   "cell_type": "markdown",
   "metadata": {
    "id": "27-7o3CmFSfA"
   },
   "source": [
    "We can also extract sub-lists:"
   ]
  },
  {
   "cell_type": "code",
   "execution_count": null,
   "metadata": {
    "colab": {
     "base_uri": "https://localhost:8080/",
     "height": 176
    },
    "executionInfo": {
     "elapsed": 242,
     "status": "error",
     "timestamp": 1704998551263,
     "user": {
      "displayName": "Tadashi Lewis",
      "userId": "08924533963653565366"
     },
     "user_tz": 480
    },
    "id": "myhGkTz4FSJI",
    "outputId": "049d5dc8-2fdf-4187-8e10-5dd9a4f3206b"
   },
   "outputs": [],
   "source": [
    "l[1:3] # including the start of the range, excluding the end\n"
   ]
  },
  {
   "cell_type": "markdown",
   "metadata": {
    "id": "EgqCcVkgFXlC"
   },
   "source": [
    "And we can loop over them:"
   ]
  },
  {
   "cell_type": "code",
   "execution_count": null,
   "metadata": {
    "colab": {
     "base_uri": "https://localhost:8080/"
    },
    "executionInfo": {
     "elapsed": 178,
     "status": "ok",
     "timestamp": 1704996424885,
     "user": {
      "displayName": "Tadashi Lewis",
      "userId": "08924533963653565366"
     },
     "user_tz": 480
    },
    "id": "miJTVUdKE_3l",
    "outputId": "7a62d25b-d9a4-43c6-d8da-d95fc1728fee"
   },
   "outputs": [],
   "source": [
    "for element in l:\n",
    "  print(element - 1)"
   ]
  },
  {
   "cell_type": "markdown",
   "metadata": {
    "id": "KDvkeaETFmwH"
   },
   "source": [
    "A quick aside: my favorite under-used trick is the function `tqdm`, which makes a little loading bar when you have a long loop running. I often see people printing out the iteration number and scrolling through hundreds of lines of printed output, and this is way easier!"
   ]
  },
  {
   "cell_type": "code",
   "execution_count": null,
   "metadata": {
    "colab": {
     "base_uri": "https://localhost:8080/",
     "height": 349
    },
    "executionInfo": {
     "elapsed": 28315,
     "status": "error",
     "timestamp": 1704996643861,
     "user": {
      "displayName": "Tadashi Lewis",
      "userId": "08924533963653565366"
     },
     "user_tz": 480
    },
    "id": "5Z3nbXp-FbO-",
    "outputId": "c7419397-4fde-4aa5-bf79-acbc9388251f"
   },
   "outputs": [],
   "source": [
    "from tqdm import tqdm\n",
    "for element in tqdm(range(2**50)):\n",
    "  pass"
   ]
  },
  {
   "cell_type": "markdown",
   "metadata": {
    "id": "AeIbtmz1Gpkw"
   },
   "source": [
    "You can put any kind of data into a list, even different datatypes. This is something that many other languages don't allow because it can be confusing, like if you want to do the same operation on each element."
   ]
  },
  {
   "cell_type": "code",
   "execution_count": null,
   "metadata": {
    "id": "B6E3sLjZFlZa"
   },
   "outputs": [],
   "source": [
    "m = [1, \"hello\", 3.0, True]"
   ]
  },
  {
   "cell_type": "code",
   "execution_count": null,
   "metadata": {
    "colab": {
     "base_uri": "https://localhost:8080/"
    },
    "executionInfo": {
     "elapsed": 162,
     "status": "ok",
     "timestamp": 1704996815489,
     "user": {
      "displayName": "Tadashi Lewis",
      "userId": "08924533963653565366"
     },
     "user_tz": 480
    },
    "id": "3i4DmcILGtX_",
    "outputId": "8dd4a756-1dd2-4884-e0a8-184562e494a7"
   },
   "outputs": [],
   "source": [
    "m = [1, 3.0, True]\n",
    "for element in m:\n",
    "  print(element)\n",
    "print(\"\\n\") # \"new line\"\n",
    "for element in m:\n",
    "  print(element - 1)"
   ]
  },
  {
   "cell_type": "markdown",
   "metadata": {
    "id": "857-HoVFK5dN"
   },
   "source": [
    "Lists can even include other lists, and you can \"double-index\" to access those!"
   ]
  },
  {
   "cell_type": "code",
   "execution_count": null,
   "metadata": {
    "colab": {
     "base_uri": "https://localhost:8080/"
    },
    "executionInfo": {
     "elapsed": 326,
     "status": "ok",
     "timestamp": 1704996971567,
     "user": {
      "displayName": "Tadashi Lewis",
      "userId": "08924533963653565366"
     },
     "user_tz": 480
    },
    "id": "2Z9NTN5BK44w",
    "outputId": "b136df05-e02a-4829-94f3-3660c1725189"
   },
   "outputs": [],
   "source": [
    "ll = [1, [2, 3], [4, 5, 6]]\n",
    "ll[1] # what kind of object is this?"
   ]
  },
  {
   "cell_type": "code",
   "execution_count": null,
   "metadata": {
    "id": "pUWJb5WVLDLq"
   },
   "outputs": [],
   "source": [
    "ll[2][2] # what kind of object is this?"
   ]
  },
  {
   "cell_type": "code",
   "execution_count": null,
   "metadata": {
    "colab": {
     "base_uri": "https://localhost:8080/"
    },
    "executionInfo": {
     "elapsed": 4,
     "status": "ok",
     "timestamp": 1704996997440,
     "user": {
      "displayName": "Tadashi Lewis",
      "userId": "08924533963653565366"
     },
     "user_tz": 480
    },
    "id": "gvMw_b4GvW1C",
    "outputId": "82912fee-b4af-448f-dd8d-07268d3154fa"
   },
   "outputs": [],
   "source": [
    "len(ll)"
   ]
  },
  {
   "cell_type": "markdown",
   "metadata": {
    "id": "t9tIovvAHww6"
   },
   "source": [
    "You can print the whole list:"
   ]
  },
  {
   "cell_type": "code",
   "execution_count": null,
   "metadata": {
    "colab": {
     "base_uri": "https://localhost:8080/"
    },
    "executionInfo": {
     "elapsed": 165,
     "status": "ok",
     "timestamp": 1704996973549,
     "user": {
      "displayName": "Tadashi Lewis",
      "userId": "08924533963653565366"
     },
     "user_tz": 480
    },
    "id": "LBZk3vqkHyfW",
    "outputId": "1d0c6b9f-adb4-41ed-bb96-b63dab41ce24"
   },
   "outputs": [],
   "source": [
    "print(ll)"
   ]
  },
  {
   "cell_type": "markdown",
   "metadata": {
    "id": "p5rjobYTHTIY"
   },
   "source": [
    "To add new elements to a list, there's the `append` method. I'm calling this a \"method\" and not a \"function\" to denote the fact that `append` \"belongs to\" the particular list, and isn't a general function."
   ]
  },
  {
   "cell_type": "code",
   "execution_count": null,
   "metadata": {
    "colab": {
     "base_uri": "https://localhost:8080/"
    },
    "executionInfo": {
     "elapsed": 2,
     "status": "ok",
     "timestamp": 1704997150497,
     "user": {
      "displayName": "Tadashi Lewis",
      "userId": "08924533963653565366"
     },
     "user_tz": 480
    },
    "id": "BhBYgX8MHA9a",
    "outputId": "0dfd5276-6870-4b2a-ba0a-4810c6585aed"
   },
   "outputs": [],
   "source": [
    "# run this a few times, what happens?\n",
    "l.append(3)\n",
    "l"
   ]
  },
  {
   "cell_type": "markdown",
   "metadata": {
    "id": "3rhvA04SHwy2"
   },
   "source": [
    "A common pattern is to start with an empty list, and add to it one by one. Let's make a list of the squares 1-10:"
   ]
  },
  {
   "cell_type": "code",
   "execution_count": null,
   "metadata": {
    "colab": {
     "base_uri": "https://localhost:8080/"
    },
    "executionInfo": {
     "elapsed": 5,
     "status": "ok",
     "timestamp": 1704998774249,
     "user": {
      "displayName": "Tadashi Lewis",
      "userId": "08924533963653565366"
     },
     "user_tz": 480
    },
    "id": "f7IkA6bAy7r_",
    "outputId": "f7c25325-91b3-404d-c2bc-d6188f2bccb8"
   },
   "outputs": [],
   "source": [
    "numbers = []\n",
    "# your code here!"
   ]
  },
  {
   "cell_type": "markdown",
   "metadata": {
    "id": "UdwXycm7Ii2x"
   },
   "source": [
    "Once you've done this example, run it through Python Tutor to get an idea of the \"picture\" of a list in computer memory.\n",
    "\n",
    "There's a few other list methods and other things you can do that come up less often than `append`: run the cells below for the help windows on those, and I'll demonstrate them if we have time!"
   ]
  },
  {
   "cell_type": "code",
   "execution_count": null,
   "metadata": {
    "executionInfo": {
     "elapsed": 231,
     "status": "ok",
     "timestamp": 1704998649535,
     "user": {
      "displayName": "Tadashi Lewis",
      "userId": "08924533963653565366"
     },
     "user_tz": 480
    },
    "id": "sziPC69mI2_e"
   },
   "outputs": [],
   "source": [
    "?l.extend"
   ]
  },
  {
   "cell_type": "code",
   "execution_count": null,
   "metadata": {
    "executionInfo": {
     "elapsed": 204,
     "status": "ok",
     "timestamp": 1704998724282,
     "user": {
      "displayName": "Tadashi Lewis",
      "userId": "08924533963653565366"
     },
     "user_tz": 480
    },
    "id": "0b3ndOwPI5rt"
   },
   "outputs": [],
   "source": [
    "?l.insert"
   ]
  },
  {
   "cell_type": "code",
   "execution_count": null,
   "metadata": {
    "executionInfo": {
     "elapsed": 153,
     "status": "ok",
     "timestamp": 1704998726771,
     "user": {
      "displayName": "Tadashi Lewis",
      "userId": "08924533963653565366"
     },
     "user_tz": 480
    },
    "id": "21cgoQPrI7Vo"
   },
   "outputs": [],
   "source": [
    "?l.remove"
   ]
  },
  {
   "cell_type": "markdown",
   "metadata": {
    "id": "MQmbIGc5Izdx"
   },
   "source": [
    "## NumPy Arrays"
   ]
  },
  {
   "cell_type": "markdown",
   "metadata": {
    "id": "6jSfVtV5KNp9"
   },
   "source": [
    "The basic object in NumPy is the array, which is essentially the math version of a list. Since Python lists weren't built to be mathematical objects, you'll sometimes want to do mathematical operations on a whole dataset at once and you won't be able to in a list. For example, suppose we have an image, which is a two-dimensional structure of intensities per pixel, and we want to subtract 1 from the whole image because that's the smallest value."
   ]
  },
  {
   "cell_type": "code",
   "execution_count": null,
   "metadata": {
    "colab": {
     "base_uri": "https://localhost:8080/",
     "height": 193
    },
    "executionInfo": {
     "elapsed": 191,
     "status": "error",
     "timestamp": 1704999028271,
     "user": {
      "displayName": "Tadashi Lewis",
      "userId": "08924533963653565366"
     },
     "user_tz": 480
    },
    "id": "tAcbe2rUKNbm",
    "outputId": "d1dc4a69-dca2-4574-e5c4-bf6677e64995"
   },
   "outputs": [],
   "source": [
    "lt = [1, 3, 5, 9]\n",
    "lt - 1"
   ]
  },
  {
   "cell_type": "markdown",
   "metadata": {
    "id": "97QgaIXDLVBi"
   },
   "source": [
    "We can do this if we convert `ll` to an array!"
   ]
  },
  {
   "cell_type": "code",
   "execution_count": null,
   "metadata": {
    "colab": {
     "base_uri": "https://localhost:8080/"
    },
    "executionInfo": {
     "elapsed": 186,
     "status": "ok",
     "timestamp": 1704999006591,
     "user": {
      "displayName": "Tadashi Lewis",
      "userId": "08924533963653565366"
     },
     "user_tz": 480
    },
    "id": "FvZz76VQIahs",
    "outputId": "42f0b673-741b-46cc-919b-b9d1eca1d3ee"
   },
   "outputs": [],
   "source": [
    "lt_a = np.array(lt)\n",
    "lt_a"
   ]
  },
  {
   "cell_type": "code",
   "execution_count": null,
   "metadata": {
    "colab": {
     "base_uri": "https://localhost:8080/"
    },
    "executionInfo": {
     "elapsed": 353,
     "status": "ok",
     "timestamp": 1704999033090,
     "user": {
      "displayName": "Tadashi Lewis",
      "userId": "08924533963653565366"
     },
     "user_tz": 480
    },
    "id": "LxlIWHDk6C2D",
    "outputId": "7e71e4ce-da45-4fdd-9545-b86340d34471"
   },
   "outputs": [],
   "source": [
    "type(lt_a)"
   ]
  },
  {
   "cell_type": "code",
   "execution_count": null,
   "metadata": {
    "executionInfo": {
     "elapsed": 211,
     "status": "ok",
     "timestamp": 1704999195089,
     "user": {
      "displayName": "Tadashi Lewis",
      "userId": "08924533963653565366"
     },
     "user_tz": 480
    },
    "id": "e3BrAujb3qTi"
   },
   "outputs": [],
   "source": [
    "?np.dtype"
   ]
  },
  {
   "cell_type": "code",
   "execution_count": null,
   "metadata": {
    "colab": {
     "base_uri": "https://localhost:8080/"
    },
    "executionInfo": {
     "elapsed": 164,
     "status": "ok",
     "timestamp": 1704999035348,
     "user": {
      "displayName": "Tadashi Lewis",
      "userId": "08924533963653565366"
     },
     "user_tz": 480
    },
    "id": "1DeBxeB_LZ4_",
    "outputId": "9f667d63-b8fb-4ade-e5e8-c696f8858f47"
   },
   "outputs": [],
   "source": [
    "lt_a - 1"
   ]
  },
  {
   "cell_type": "markdown",
   "metadata": {
    "id": "uAg6sRytMpzU"
   },
   "source": [
    "To make sure NumPy's operations make sense over arrays, there's stricter rules for how we can make arrays than for lists. If it's possible, arrays will convert all their elements to a common data-type."
   ]
  },
  {
   "cell_type": "code",
   "execution_count": null,
   "metadata": {
    "colab": {
     "base_uri": "https://localhost:8080/"
    },
    "executionInfo": {
     "elapsed": 279,
     "status": "ok",
     "timestamp": 1704999237034,
     "user": {
      "displayName": "Tadashi Lewis",
      "userId": "08924533963653565366"
     },
     "user_tz": 480
    },
    "id": "r2gfApTWOHQC",
    "outputId": "4477a016-19a1-4e30-e3d7-dae2acdd6cd7"
   },
   "outputs": [],
   "source": [
    "a_mixed_types = np.array([1, 1.0, True])\n",
    "a_mixed_types"
   ]
  },
  {
   "cell_type": "code",
   "execution_count": null,
   "metadata": {
    "colab": {
     "base_uri": "https://localhost:8080/"
    },
    "executionInfo": {
     "elapsed": 180,
     "status": "ok",
     "timestamp": 1704999408200,
     "user": {
      "displayName": "Tadashi Lewis",
      "userId": "08924533963653565366"
     },
     "user_tz": 480
    },
    "id": "8-k551puONV4",
    "outputId": "64fb5c6d-9fa6-4c3a-d12c-a872e02ef797"
   },
   "outputs": [],
   "source": [
    "a_mixed_types.dtype"
   ]
  },
  {
   "cell_type": "markdown",
   "metadata": {
    "id": "OOFfjjc6Ofan"
   },
   "source": [
    "You can make arrays out of mostly anything, but if you give it different types, or types it's not used to, it'll default to the \"object\" type and you usually won't get anything useful out of it."
   ]
  },
  {
   "cell_type": "code",
   "execution_count": null,
   "metadata": {
    "colab": {
     "base_uri": "https://localhost:8080/"
    },
    "executionInfo": {
     "elapsed": 174,
     "status": "ok",
     "timestamp": 1704999328096,
     "user": {
      "displayName": "Tadashi Lewis",
      "userId": "08924533963653565366"
     },
     "user_tz": 480
    },
    "id": "JrseIdYOOcoS",
    "outputId": "5877cf90-d88b-4704-d717-2f73cb128b82"
   },
   "outputs": [],
   "source": [
    "np.array([None, \"whatever\", 3.0])"
   ]
  },
  {
   "cell_type": "markdown",
   "metadata": {
    "id": "zoS9TdWAOwI9"
   },
   "source": [
    "It'll also yell at you if you try and make a multi-dimensional array that's not rectangular:"
   ]
  },
  {
   "cell_type": "code",
   "execution_count": null,
   "metadata": {
    "executionInfo": {
     "elapsed": 220,
     "status": "ok",
     "timestamp": 1704999488261,
     "user": {
      "displayName": "Tadashi Lewis",
      "userId": "08924533963653565366"
     },
     "user_tz": 480
    },
    "id": "cEm8M0U7Nk9h"
   },
   "outputs": [],
   "source": [
    "a = np.array([1, 2])"
   ]
  },
  {
   "cell_type": "code",
   "execution_count": null,
   "metadata": {
    "colab": {
     "base_uri": "https://localhost:8080/"
    },
    "executionInfo": {
     "elapsed": 156,
     "status": "ok",
     "timestamp": 1704999582866,
     "user": {
      "displayName": "Tadashi Lewis",
      "userId": "08924533963653565366"
     },
     "user_tz": 480
    },
    "id": "KqtbjF2GNpr0",
    "outputId": "5909c0ea-4a03-4ecf-b0fb-65cd31699216"
   },
   "outputs": [],
   "source": [
    "a"
   ]
  },
  {
   "cell_type": "code",
   "execution_count": null,
   "metadata": {
    "colab": {
     "base_uri": "https://localhost:8080/"
    },
    "executionInfo": {
     "elapsed": 273,
     "status": "ok",
     "timestamp": 1704999585161,
     "user": {
      "displayName": "Tadashi Lewis",
      "userId": "08924533963653565366"
     },
     "user_tz": 480
    },
    "id": "5LhAeKbEO1Ix",
    "outputId": "e48af971-18e1-4065-81a7-c42faf985754"
   },
   "outputs": [],
   "source": [
    "a + 1 # will this work? think about the loop version of this operation"
   ]
  },
  {
   "cell_type": "code",
   "execution_count": null,
   "metadata": {
    "executionInfo": {
     "elapsed": 152,
     "status": "ok",
     "timestamp": 1704999628306,
     "user": {
      "displayName": "Tadashi Lewis",
      "userId": "08924533963653565366"
     },
     "user_tz": 480
    },
    "id": "wS47_CL8PVn8"
   },
   "outputs": [],
   "source": [
    "ar = np.array([[1, 2], [3, 4]])"
   ]
  },
  {
   "cell_type": "code",
   "execution_count": null,
   "metadata": {
    "colab": {
     "base_uri": "https://localhost:8080/"
    },
    "executionInfo": {
     "elapsed": 210,
     "status": "ok",
     "timestamp": 1704999629608,
     "user": {
      "displayName": "Tadashi Lewis",
      "userId": "08924533963653565366"
     },
     "user_tz": 480
    },
    "id": "bRQPQ3IoPZ_G",
    "outputId": "451d9a09-4ece-4bd4-9cd6-e8a7826259f9"
   },
   "outputs": [],
   "source": [
    "ar + 1"
   ]
  },
  {
   "cell_type": "markdown",
   "metadata": {
    "id": "U9E8xt9IPjsK"
   },
   "source": [
    "We can do more math on arrays! The usual operations work:"
   ]
  },
  {
   "cell_type": "code",
   "execution_count": null,
   "metadata": {
    "colab": {
     "base_uri": "https://localhost:8080/"
    },
    "executionInfo": {
     "elapsed": 3,
     "status": "ok",
     "timestamp": 1704999640740,
     "user": {
      "displayName": "Tadashi Lewis",
      "userId": "08924533963653565366"
     },
     "user_tz": 480
    },
    "id": "05FW68HLPjYs",
    "outputId": "d18de566-2ef1-4a28-b0cc-928e1d8ebf2b"
   },
   "outputs": [],
   "source": [
    "ar * 2"
   ]
  },
  {
   "cell_type": "code",
   "execution_count": null,
   "metadata": {
    "colab": {
     "base_uri": "https://localhost:8080/"
    },
    "executionInfo": {
     "elapsed": 182,
     "status": "ok",
     "timestamp": 1704999650017,
     "user": {
      "displayName": "Tadashi Lewis",
      "userId": "08924533963653565366"
     },
     "user_tz": 480
    },
    "id": "nGdARF-_P_x0",
    "outputId": "60cb63c4-dc64-4b69-8c19-d48a38e53718"
   },
   "outputs": [],
   "source": [
    "ar / 3 # automatically converts an integer array to a float array if you need it"
   ]
  },
  {
   "cell_type": "markdown",
   "metadata": {
    "id": "97vSZDw-RJPW"
   },
   "source": [
    "We can do operations between two arrays!"
   ]
  },
  {
   "cell_type": "code",
   "execution_count": null,
   "metadata": {
    "colab": {
     "base_uri": "https://localhost:8080/"
    },
    "executionInfo": {
     "elapsed": 235,
     "status": "ok",
     "timestamp": 1704999665377,
     "user": {
      "displayName": "Tadashi Lewis",
      "userId": "08924533963653565366"
     },
     "user_tz": 480
    },
    "id": "yUCcSG2Qajk-",
    "outputId": "a3aec933-8a9c-4c88-8707-6556f86ad0b4"
   },
   "outputs": [],
   "source": [
    "lt_a + lt_a"
   ]
  },
  {
   "cell_type": "code",
   "execution_count": null,
   "metadata": {
    "colab": {
     "base_uri": "https://localhost:8080/"
    },
    "executionInfo": {
     "elapsed": 176,
     "status": "ok",
     "timestamp": 1704999859727,
     "user": {
      "displayName": "Tadashi Lewis",
      "userId": "08924533963653565366"
     },
     "user_tz": 480
    },
    "id": "ailWe7_Ma1bQ",
    "outputId": "fd938294-f932-444b-e722-4986c4f21d2e"
   },
   "outputs": [],
   "source": [
    "# this doesn't change the original array\n",
    "# unless we assign the result to the original name\n",
    "lt_a"
   ]
  },
  {
   "cell_type": "code",
   "execution_count": null,
   "metadata": {
    "colab": {
     "base_uri": "https://localhost:8080/"
    },
    "executionInfo": {
     "elapsed": 155,
     "status": "ok",
     "timestamp": 1704999907081,
     "user": {
      "displayName": "Tadashi Lewis",
      "userId": "08924533963653565366"
     },
     "user_tz": 480
    },
    "id": "xGz34Fpwa84n",
    "outputId": "bb739f82-0ce9-400b-d2c3-9ae7d6f27d9f"
   },
   "outputs": [],
   "source": [
    "x = np.array([1, 3, 6])\n",
    "y = np.array([2, 5, 9])\n",
    "y - x"
   ]
  },
  {
   "cell_type": "markdown",
   "metadata": {
    "id": "zEkyudaaa0G-"
   },
   "source": [
    "But the dimensions need to agree:"
   ]
  },
  {
   "cell_type": "code",
   "execution_count": null,
   "metadata": {
    "colab": {
     "base_uri": "https://localhost:8080/",
     "height": 176
    },
    "executionInfo": {
     "elapsed": 159,
     "status": "error",
     "timestamp": 1704999912141,
     "user": {
      "displayName": "Tadashi Lewis",
      "userId": "08924533963653565366"
     },
     "user_tz": 480
    },
    "id": "kz3FSS6cbE7k",
    "outputId": "d568377b-362e-46e2-93fb-cd988f3a664f"
   },
   "outputs": [],
   "source": [
    "y + lt_a"
   ]
  },
  {
   "cell_type": "markdown",
   "metadata": {
    "id": "47WvR4N6QFwK"
   },
   "source": [
    "To check this, we can look at `arr.shape` and make sure those are the same:"
   ]
  },
  {
   "cell_type": "markdown",
   "metadata": {
    "id": "c3Sl8X7msne4"
   },
   "source": [
    "**Exercise**: similar to something we did previously, make a numpy array consisting of the squares of the numbers 1-10."
   ]
  },
  {
   "cell_type": "code",
   "execution_count": null,
   "metadata": {
    "colab": {
     "base_uri": "https://localhost:8080/"
    },
    "executionInfo": {
     "elapsed": 151,
     "status": "ok",
     "timestamp": 1704999986799,
     "user": {
      "displayName": "Tadashi Lewis",
      "userId": "08924533963653565366"
     },
     "user_tz": 480
    },
    "id": "xSvHjxwMsmPw",
    "outputId": "42101d9b-fc92-4403-d690-56a4a7afd2da"
   },
   "outputs": [],
   "source": [
    "# your code here!\n",
    "lt_a.shape"
   ]
  },
  {
   "cell_type": "code",
   "execution_count": null,
   "metadata": {
    "id": "5J4fTLo8bLqd"
   },
   "outputs": [],
   "source": [
    "print(y.shape, x.shape)\n",
    "y.shape == x.shape"
   ]
  },
  {
   "cell_type": "markdown",
   "metadata": {
    "id": "X9ZLH0TVn8oz"
   },
   "source": [
    "Some things that work on lists still work on arrays, for example indexing and assigning:"
   ]
  },
  {
   "cell_type": "code",
   "execution_count": null,
   "metadata": {
    "colab": {
     "base_uri": "https://localhost:8080/"
    },
    "executionInfo": {
     "elapsed": 292,
     "status": "ok",
     "timestamp": 1705000114209,
     "user": {
      "displayName": "Tadashi Lewis",
      "userId": "08924533963653565366"
     },
     "user_tz": 480
    },
    "id": "rlphBkRXn_jz",
    "outputId": "a2a1af2e-79ab-4fcd-d384-8b4cfb644549"
   },
   "outputs": [],
   "source": [
    "x[2]"
   ]
  },
  {
   "cell_type": "code",
   "execution_count": null,
   "metadata": {
    "id": "hFHNjK5OoAqZ"
   },
   "outputs": [],
   "source": [
    "x[1:3]"
   ]
  },
  {
   "cell_type": "code",
   "execution_count": null,
   "metadata": {
    "id": "JK5rmUKuoN5U"
   },
   "outputs": [],
   "source": [
    "x[1:3] = [4, 6]"
   ]
  },
  {
   "cell_type": "markdown",
   "metadata": {
    "id": "LkUhz_sruO8k"
   },
   "source": [
    "And looping, even over multi-dimensional arrays! (But if possible, it's best to do operations all at once like we've been seeing.)"
   ]
  },
  {
   "cell_type": "code",
   "execution_count": null,
   "metadata": {
    "colab": {
     "base_uri": "https://localhost:8080/"
    },
    "executionInfo": {
     "elapsed": 175,
     "status": "ok",
     "timestamp": 1705000496175,
     "user": {
      "displayName": "Tadashi Lewis",
      "userId": "08924533963653565366"
     },
     "user_tz": 480
    },
    "id": "wEflqyXpuSDP",
    "outputId": "1b06231c-e3f8-4c94-91c7-d12ff0e53ccf"
   },
   "outputs": [],
   "source": [
    "for element in lt_a:\n",
    "  print(element + 1)"
   ]
  },
  {
   "cell_type": "code",
   "execution_count": null,
   "metadata": {
    "colab": {
     "base_uri": "https://localhost:8080/"
    },
    "executionInfo": {
     "elapsed": 153,
     "status": "ok",
     "timestamp": 1705000483809,
     "user": {
      "displayName": "Tadashi Lewis",
      "userId": "08924533963653565366"
     },
     "user_tz": 480
    },
    "id": "l34f-tJXuahK",
    "outputId": "bc80bb3a-2ba4-4322-b726-affab202c9c4"
   },
   "outputs": [],
   "source": [
    "# what do you think this will do?\n",
    "for row in ar:\n",
    "  for element in row:\n",
    "    print(element)\n",
    "  print(\"\\n\")"
   ]
  },
  {
   "cell_type": "markdown",
   "metadata": {
    "id": "7SroDruOj_vl"
   },
   "source": [
    "There's a lot of numpy functions that are meant to operate over arrays:"
   ]
  },
  {
   "cell_type": "code",
   "execution_count": null,
   "metadata": {
    "id": "JUk4I6uALc2I"
   },
   "outputs": [],
   "source": [
    "np.min(x), np.max(x), np.mean(x), np.std(x)"
   ]
  },
  {
   "cell_type": "markdown",
   "metadata": {
    "id": "MsJc3eYgmk8v"
   },
   "source": [
    "And many more! I recommend looking these up in the numpy documentation - a list of the math ones can be found here: [https://numpy.org/doc/1.26/reference/routines.math.html](https://numpy.org/doc/1.26/reference/routines.math.html). As always, you can look up any unfamiliar functions with `help`.\n",
    "\n",
    "**Exercise**: I'll go around the room and give each pair of people one of these functions to look at (some of these functions are paired because they're quite similar). Read the documentation for it and try out a test case. I'll ask each person for a quick summary of what their function does, and we'll work out how to use it together!\n",
    "\n",
    "- `np.arange`\n",
    "- `np.where`\n",
    "- `np.floor`, `np.ceil`\n",
    "- `np.maximum`, `np.minimum`\n",
    "- `np.zeros`, `np.ones`\n",
    "- `np.sum`, `np.prod`\n"
   ]
  },
  {
   "cell_type": "markdown",
   "metadata": {
    "id": "hdn4HpfsuFm5"
   },
   "source": [
    "We'll cover one more numpy feature: creating and indexing with boolean arrays. Similar to the earlier math operations, we can apply comparison operators (`==`, `>`, `<`, `>=`, `<=`) to entire arrays at once:"
   ]
  },
  {
   "cell_type": "code",
   "execution_count": null,
   "metadata": {
    "colab": {
     "base_uri": "https://localhost:8080/"
    },
    "executionInfo": {
     "elapsed": 184,
     "status": "ok",
     "timestamp": 1705001905760,
     "user": {
      "displayName": "Tadashi Lewis",
      "userId": "08924533963653565366"
     },
     "user_tz": 480
    },
    "id": "ZSLY832G-Dcw",
    "outputId": "5c7b885c-af5a-4446-842f-45f3bf6859c3"
   },
   "outputs": [],
   "source": [
    "a = np.array([1, 2.9, 3, 4, 5])\n",
    "np.floor(a)"
   ]
  },
  {
   "cell_type": "code",
   "execution_count": null,
   "metadata": {
    "colab": {
     "base_uri": "https://localhost:8080/"
    },
    "executionInfo": {
     "elapsed": 311,
     "status": "ok",
     "timestamp": 1705002327765,
     "user": {
      "displayName": "Tadashi Lewis",
      "userId": "08924533963653565366"
     },
     "user_tz": 480
    },
    "id": "KNrE74QtpLis",
    "outputId": "6a40aa4e-2ea1-469a-c2c5-1a1ecb53131d"
   },
   "outputs": [],
   "source": [
    "np.array([3, 10, 6]) > 5"
   ]
  },
  {
   "cell_type": "markdown",
   "metadata": {
    "id": "sn0G3X3Mw5RE"
   },
   "source": [
    "Or between two arrays:"
   ]
  },
  {
   "cell_type": "code",
   "execution_count": null,
   "metadata": {
    "colab": {
     "base_uri": "https://localhost:8080/"
    },
    "executionInfo": {
     "elapsed": 311,
     "status": "ok",
     "timestamp": 1705002334581,
     "user": {
      "displayName": "Tadashi Lewis",
      "userId": "08924533963653565366"
     },
     "user_tz": 480
    },
    "id": "WJlttOT5wrhf",
    "outputId": "8d47e476-b3b8-4d91-d309-7889430b55e0"
   },
   "outputs": [],
   "source": [
    "np.array([3, 10, 6]) == np.array([3, 1, 6])"
   ]
  },
  {
   "cell_type": "markdown",
   "metadata": {
    "id": "QNh6llUExnG9"
   },
   "source": [
    "And once we have an array of Booleans the same length as our array of numbers, we can use it to select specific numbers:"
   ]
  },
  {
   "cell_type": "code",
   "execution_count": null,
   "metadata": {
    "colab": {
     "base_uri": "https://localhost:8080/"
    },
    "executionInfo": {
     "elapsed": 148,
     "status": "ok",
     "timestamp": 1705002391542,
     "user": {
      "displayName": "Tadashi Lewis",
      "userId": "08924533963653565366"
     },
     "user_tz": 480
    },
    "id": "lpIb4wcuw8ZH",
    "outputId": "1efad023-7e74-4dea-90e9-913dea732dd9"
   },
   "outputs": [],
   "source": [
    "x = np.array([-1, 3, -5, 8])\n",
    "# I want only the positive numbers\n",
    "print(x > 0) # This tells me where they are\n",
    "print(x[x > 0]) # This picks those locations"
   ]
  },
  {
   "cell_type": "markdown",
   "metadata": {
    "id": "oQrJBLDUzC6g"
   },
   "source": [
    "**Exercise**: let's find the roots of a polynomial!\n",
    "\n",
    "I've chosen the polynomial $x^4 + 2 x^3 - 107 x^2 + 180 x + 288$. I'll guarantee that this has four distinct integer roots, all within $[-20, 20]$. Find the four roots _without_ using a loop! (You could do it with a loop, but we should be able to scale up to a much wider range, which gets slow with loops.)\n",
    "\n",
    "This has a few steps to think through, so pair up with someone to talk about your approach first."
   ]
  },
  {
   "cell_type": "code",
   "execution_count": null,
   "metadata": {
    "colab": {
     "base_uri": "https://localhost:8080/"
    },
    "executionInfo": {
     "elapsed": 141,
     "status": "ok",
     "timestamp": 1705003144626,
     "user": {
      "displayName": "Tadashi Lewis",
      "userId": "08924533963653565366"
     },
     "user_tz": 480
    },
    "id": "z6cRp1awx5SC",
    "outputId": "67f5dadd-718a-4a72-cd3f-8ce6241356ba"
   },
   "outputs": [],
   "source": [
    "# your code here!"
   ]
  }
 ],
 "metadata": {
  "colab": {
   "provenance": []
  },
  "kernelspec": {
   "display_name": "Python 3",
   "name": "python3"
  },
  "language_info": {
   "name": "python"
  }
 },
 "nbformat": 4,
 "nbformat_minor": 0
}
