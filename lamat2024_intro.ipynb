{
 "cells": [
  {
   "cell_type": "markdown",
   "metadata": {
    "id": "ehIxOufs6bp2"
   },
   "source": [
    "# Lamat 2024 Winter Bootcamp\n",
    "\n",
    "Some of this material was adapted from the Lamat 2023 Winter Bootcamp by Jules Fowler, and from the Undergraduate Lab at Berkeley Physics and Astronomy 2020-2021 Python modules by Yi Zhu and Aditya Sengupta.\n",
    "\n",
    "Questions in these notebooks will alternate between coding tasks and predicting what'll happen when code is run. In either case, feel free to add your own code wherever you feel it's appropriate or wherever you want to check something! I've marked the cells where coding tasks should be done with `# your code here!`, but you aren't restricted to just those spots.\n",
    "\n",
    "## Python Variables and Calculations\n",
    "\n",
    "For scientific calculations, we'll need to do basic arithmetic operations and give names to the inputs and results. Python lets you do math in about the same way that calculators do, and lets you store any relevant quantities in *variables*, with names that you choose. We'll first look at the math capabilities:"
   ]
  },
  {
   "cell_type": "code",
   "execution_count": null,
   "metadata": {
    "colab": {
     "base_uri": "https://localhost:8080/",
     "height": 0
    },
    "executionInfo": {
     "elapsed": 193,
     "status": "ok",
     "timestamp": 1704907752430,
     "user": {
      "displayName": "Tadashi Lewis",
      "userId": "08924533963653565366"
     },
     "user_tz": 480
    },
    "id": "KB0WeI3x6fSO",
    "outputId": "fc794e23-0453-49d9-b183-6a908cc3c85f"
   },
   "outputs": [],
   "source": [
    "# run me by clicking the Play sign or pressing Command+Return on a Mac\n",
    "# addition like we'd hand-write it\n",
    "9 + 5"
   ]
  },
  {
   "cell_type": "code",
   "execution_count": null,
   "metadata": {
    "colab": {
     "base_uri": "https://localhost:8080/"
    },
    "executionInfo": {
     "elapsed": 4,
     "status": "ok",
     "timestamp": 1704406626793,
     "user": {
      "displayName": "Aditya Sengupta",
      "userId": "05406841331172530634"
     },
     "user_tz": 480
    },
    "id": "ZzYhy4mmGq2O",
    "outputId": "64abd814-2175-4d3c-e761-9cf585b095bd"
   },
   "outputs": [],
   "source": [
    "# subtraction like we'd hand-write it\n",
    "9 - 3"
   ]
  },
  {
   "cell_type": "code",
   "execution_count": null,
   "metadata": {
    "colab": {
     "base_uri": "https://localhost:8080/"
    },
    "executionInfo": {
     "elapsed": 4,
     "status": "ok",
     "timestamp": 1704406626793,
     "user": {
      "displayName": "Aditya Sengupta",
      "userId": "05406841331172530634"
     },
     "user_tz": 480
    },
    "id": "yvMKaPD_HimC",
    "outputId": "4aab3849-ffca-4f9f-c978-e5fe69818115"
   },
   "outputs": [],
   "source": [
    "# multiplication with the * sign\n",
    "9 * 3"
   ]
  },
  {
   "cell_type": "code",
   "execution_count": null,
   "metadata": {
    "colab": {
     "base_uri": "https://localhost:8080/",
     "height": 141
    },
    "executionInfo": {
     "elapsed": 3,
     "status": "error",
     "timestamp": 1704406626793,
     "user": {
      "displayName": "Aditya Sengupta",
      "userId": "05406841331172530634"
     },
     "user_tz": 480
    },
    "id": "harlvpl5H8yM",
    "outputId": "b3e8811c-a6d6-4d2d-990f-17ee23db6276"
   },
   "outputs": [],
   "source": [
    "# doesn't do multiplication, or anything; shows us an error, and the exact symbol that went wrong\n",
    "9 x 3"
   ]
  },
  {
   "cell_type": "code",
   "execution_count": null,
   "metadata": {
    "colab": {
     "base_uri": "https://localhost:8080/",
     "height": 0
    },
    "executionInfo": {
     "elapsed": 3,
     "status": "ok",
     "timestamp": 1704907818163,
     "user": {
      "displayName": "Tadashi Lewis",
      "userId": "08924533963653565366"
     },
     "user_tz": 480
    },
    "id": "58-O8XNxHjQ2",
    "outputId": "9123a0c5-055e-4022-c140-3d939e6a40bc"
   },
   "outputs": [],
   "source": [
    "# this is \"float division\" so you'll see the decimal point; try changing / to //\n",
    "9 / 4"
   ]
  },
  {
   "cell_type": "code",
   "execution_count": null,
   "metadata": {
    "colab": {
     "base_uri": "https://localhost:8080/",
     "height": 0
    },
    "executionInfo": {
     "elapsed": 144,
     "status": "ok",
     "timestamp": 1704907829127,
     "user": {
      "displayName": "Tadashi Lewis",
      "userId": "08924533963653565366"
     },
     "user_tz": 480
    },
    "id": "0EzMzCEtHkP7",
    "outputId": "68e09b36-d331-4f23-fedf-2a0f893cfdea"
   },
   "outputs": [],
   "source": [
    "# exponentiation; ^ does something different\n",
    "2**3"
   ]
  },
  {
   "cell_type": "code",
   "execution_count": null,
   "metadata": {
    "colab": {
     "base_uri": "https://localhost:8080/",
     "height": 0
    },
    "executionInfo": {
     "elapsed": 3,
     "status": "ok",
     "timestamp": 1704907850154,
     "user": {
      "displayName": "Tadashi Lewis",
      "userId": "08924533963653565366"
     },
     "user_tz": 480
    },
    "id": "fwXo9luTId5a",
    "outputId": "a6c34b2c-28c7-4db9-ae15-1a8b72cd28f3"
   },
   "outputs": [],
   "source": [
    "# modulo, or remainder when you divide\n",
    "9 % 5"
   ]
  },
  {
   "cell_type": "markdown",
   "metadata": {
    "id": "bKzUvPJNKOOP"
   },
   "source": [
    "We can chain these together into more complicated operations similar to how we'd do it in math class, using parentheses `()` to make sub-groups and the usual order of operations (PEMDAS)."
   ]
  },
  {
   "cell_type": "code",
   "execution_count": null,
   "metadata": {
    "colab": {
     "base_uri": "https://localhost:8080/"
    },
    "executionInfo": {
     "elapsed": 151,
     "status": "ok",
     "timestamp": 1704406635321,
     "user": {
      "displayName": "Aditya Sengupta",
      "userId": "05406841331172530634"
     },
     "user_tz": 480
    },
    "id": "HtvzwZDcJegr",
    "outputId": "60d61080-50f4-4b08-a77b-33c4ad07f335"
   },
   "outputs": [],
   "source": [
    "3 / (4 / 5), 3 / 4 / 5"
   ]
  },
  {
   "cell_type": "markdown",
   "metadata": {
    "id": "q-qarDMHMKGn"
   },
   "source": [
    "**Exercise**: Try out a more complicated expression! In the cell below, compute $\\frac{(935 + 143)}{\\sqrt{1200 \\times 75}} - \\frac{13}{4}$."
   ]
  },
  {
   "cell_type": "code",
   "execution_count": null,
   "metadata": {
    "colab": {
     "base_uri": "https://localhost:8080/"
    },
    "executionInfo": {
     "elapsed": 167,
     "status": "ok",
     "timestamp": 1704909269666,
     "user": {
      "displayName": "Tadashi Lewis",
      "userId": "08924533963653565366"
     },
     "user_tz": 480
    },
    "id": "mkGhS1IoKT_V",
    "outputId": "19dc9fd5-b01d-4368-d48b-6872fd9c5548"
   },
   "outputs": [],
   "source": [
    "# your code here!\n",
    "((935+143)/((1200*75)**0.5))-(13/4)"
   ]
  },
  {
   "cell_type": "code",
   "execution_count": null,
   "metadata": {
    "colab": {
     "base_uri": "https://localhost:8080/"
    },
    "executionInfo": {
     "elapsed": 163,
     "status": "ok",
     "timestamp": 1704911228860,
     "user": {
      "displayName": "Tadashi Lewis",
      "userId": "08924533963653565366"
     },
     "user_tz": 480
    },
    "id": "nYj9yyqhkxme",
    "outputId": "76fd3739-8f8c-4ae4-ac78-5bb7e05c55b8"
   },
   "outputs": [],
   "source": [
    "(676**0.5+2**4)/(27*(329-100/6))"
   ]
  },
  {
   "cell_type": "markdown",
   "metadata": {
    "id": "vE5-B35kT4GN"
   },
   "source": [
    "To scale this up to multi-step calculations or to store values we care about for later/to use them multiple times, we can introduce variables. A variable is a location in the computer's memory that stores a value or a reference to another object. We can do this as follows:"
   ]
  },
  {
   "cell_type": "code",
   "execution_count": null,
   "metadata": {
    "id": "fwSwji16O98u"
   },
   "outputs": [],
   "source": [
    "x = 3"
   ]
  },
  {
   "cell_type": "markdown",
   "metadata": {
    "id": "M2VL6WyWWK2-"
   },
   "source": [
    "And from now on, we can refer to `x` to use the value stored inside it."
   ]
  },
  {
   "cell_type": "code",
   "execution_count": null,
   "metadata": {
    "colab": {
     "base_uri": "https://localhost:8080/"
    },
    "executionInfo": {
     "elapsed": 3,
     "status": "ok",
     "timestamp": 1704911568650,
     "user": {
      "displayName": "Tadashi Lewis",
      "userId": "08924533963653565366"
     },
     "user_tz": 480
    },
    "id": "ZPysfD1hpUZv",
    "outputId": "18b90d9e-e4fa-4ca4-d84f-5ac67f60e22a"
   },
   "outputs": [],
   "source": [
    "x=3\n",
    "y = x\n",
    "y+x"
   ]
  },
  {
   "cell_type": "code",
   "execution_count": null,
   "metadata": {
    "colab": {
     "base_uri": "https://localhost:8080/"
    },
    "executionInfo": {
     "elapsed": 163,
     "status": "ok",
     "timestamp": 1704406640259,
     "user": {
      "displayName": "Aditya Sengupta",
      "userId": "05406841331172530634"
     },
     "user_tz": 480
    },
    "id": "6L5gNDU0WJw3",
    "outputId": "adc16ead-413e-4156-e9d1-d430c514dad9"
   },
   "outputs": [],
   "source": [
    "x + 2"
   ]
  },
  {
   "cell_type": "markdown",
   "metadata": {
    "id": "-Rce3sG7WnA1"
   },
   "source": [
    "If we give `x` a new value, expressions based on it will update. **Be careful** about the order in which you run cells - if you go back to an earlier cell, it'll use the last-updated value of `x` and not the one you had the previous time!"
   ]
  },
  {
   "cell_type": "code",
   "execution_count": null,
   "metadata": {
    "colab": {
     "base_uri": "https://localhost:8080/"
    },
    "executionInfo": {
     "elapsed": 161,
     "status": "ok",
     "timestamp": 1704911595087,
     "user": {
      "displayName": "Tadashi Lewis",
      "userId": "08924533963653565366"
     },
     "user_tz": 480
    },
    "id": "RlJkeR7cWlQE",
    "outputId": "12704edc-b6f5-4676-af59-40acfc6e548c"
   },
   "outputs": [],
   "source": [
    "x=3\n",
    "print(\"2x =\", 2 * x)\n",
    "x = 4\n",
    "print(\"2x =\", 2 * x)"
   ]
  },
  {
   "cell_type": "markdown",
   "metadata": {
    "id": "0lp2C8wKir8l"
   },
   "source": [
    "### A quick aside on functions\n",
    "\n",
    "Now is a good time to mention you can get more information on anything in Python by running `help(thing)`, and you can get the type of an object by running `type(thing)`. `help` and `type` are *functions*, which can operate on variables. We'll get into writing your own functions tomorrow; for now, remember that functions have the syntax `functionname(inputname)`. I'll sometimes refer to this as \"calling `functionname` on `inputname`\".\n",
    "\n",
    "In the cell above, we called the function `print`, which displays whatever output we pass into it. Although most functions create a result that you can meaningfully assign a variable to, `print` doesn't:"
   ]
  },
  {
   "cell_type": "code",
   "execution_count": null,
   "metadata": {
    "id": "zQJqy4-gjBX-"
   },
   "outputs": [],
   "source": [
    "x = 3 # fine"
   ]
  },
  {
   "cell_type": "code",
   "execution_count": null,
   "metadata": {
    "colab": {
     "base_uri": "https://localhost:8080/",
     "height": 0
    },
    "executionInfo": {
     "elapsed": 2,
     "status": "ok",
     "timestamp": 1704908232927,
     "user": {
      "displayName": "Tadashi Lewis",
      "userId": "08924533963653565366"
     },
     "user_tz": 480
    },
    "id": "7kUIsipzjCwt",
    "outputId": "aab40a76-4c7d-4a3a-fe62-30f66da22b1e"
   },
   "outputs": [],
   "source": [
    "x = print(3) # will show a 3, but then let's look at what x is\n",
    "type(x)"
   ]
  },
  {
   "cell_type": "code",
   "execution_count": null,
   "metadata": {
    "colab": {
     "base_uri": "https://localhost:8080/"
    },
    "executionInfo": {
     "elapsed": 163072,
     "status": "ok",
     "timestamp": 1704914573327,
     "user": {
      "displayName": "Tadashi Lewis",
      "userId": "08924533963653565366"
     },
     "user_tz": 480
    },
    "id": "kZvTudphjIXE",
    "outputId": "b59dbdbb-e44d-4bd3-da5e-ae380f549e92"
   },
   "outputs": [],
   "source": [
    "help()"
   ]
  },
  {
   "cell_type": "code",
   "execution_count": null,
   "metadata": {
    "colab": {
     "base_uri": "https://localhost:8080/"
    },
    "executionInfo": {
     "elapsed": 157,
     "status": "ok",
     "timestamp": 1704915026550,
     "user": {
      "displayName": "Tadashi Lewis",
      "userId": "08924533963653565366"
     },
     "user_tz": 480
    },
    "id": "al8sza4ejFtz",
    "outputId": "5580e6f5-d86d-4865-ff3b-bdbd8d114bd7"
   },
   "outputs": [],
   "source": [
    "x=5.0\n",
    "if x == 5:\n",
    "  print(\"x is 5\")\n",
    "else:\n",
    "  print(\"x is not 5\")"
   ]
  },
  {
   "cell_type": "code",
   "execution_count": null,
   "metadata": {
    "colab": {
     "base_uri": "https://localhost:8080/"
    },
    "executionInfo": {
     "elapsed": 178,
     "status": "ok",
     "timestamp": 1704915159364,
     "user": {
      "displayName": "Tadashi Lewis",
      "userId": "08924533963653565366"
     },
     "user_tz": 480
    },
    "id": "jlS0GGnM3K1W",
    "outputId": "107410e7-ee74-432e-bdd1-a086bac4c94f"
   },
   "outputs": [],
   "source": [
    "\"3\" in \"33\""
   ]
  },
  {
   "cell_type": "markdown",
   "metadata": {
    "id": "SM1er0vmXtFB"
   },
   "source": [
    "## Data Types\n",
    "\n",
    "A data type is any kind of object that we can put in a variable. The two main numeric data types, which we've already used, are `int` (for integers) and `float` (for floating-point decimal numbers). The others we'll need are `str` for strings of text and `bool` for Boolean objects (true or false).\n"
   ]
  },
  {
   "cell_type": "code",
   "execution_count": null,
   "metadata": {
    "id": "aR9DI-QHXRLT"
   },
   "outputs": [],
   "source": [
    "# what are the types of these variables?\n",
    "a = 1 #int\n",
    "b = 10 #int\n",
    "c = 3.5 #float\n",
    "d = 7.0 #float\n",
    "e = \"lamat\" #string\n",
    "f = \"2024, lol\" #string\n",
    "g = True #boolean"
   ]
  },
  {
   "cell_type": "markdown",
   "metadata": {
    "id": "Oo7ER2C-amdz"
   },
   "source": [
    "Usually you can't do operations on objects with different types, but if Python decides the operation can make sense, it can work."
   ]
  },
  {
   "cell_type": "code",
   "execution_count": null,
   "metadata": {
    "colab": {
     "base_uri": "https://localhost:8080/"
    },
    "executionInfo": {
     "elapsed": 2,
     "status": "ok",
     "timestamp": 1704915979363,
     "user": {
      "displayName": "Tadashi Lewis",
      "userId": "08924533963653565366"
     },
     "user_tz": 480
    },
    "id": "h0A2xEjW6MT5",
    "outputId": "d3d25998-8041-4e46-c91b-69d688d3d71f"
   },
   "outputs": [],
   "source": [
    "a + int(f)"
   ]
  },
  {
   "cell_type": "code",
   "execution_count": null,
   "metadata": {
    "colab": {
     "base_uri": "https://localhost:8080/"
    },
    "executionInfo": {
     "elapsed": 182,
     "status": "ok",
     "timestamp": 1704915449444,
     "user": {
      "displayName": "Tadashi Lewis",
      "userId": "08924533963653565366"
     },
     "user_tz": 480
    },
    "id": "pS97EDZDYOTg",
    "outputId": "c22998b4-0075-4a1d-fb5b-648b52b8e387"
   },
   "outputs": [],
   "source": [
    "a + b # what types are the inputs? what type could the output be? (int + int = int)"
   ]
  },
  {
   "cell_type": "code",
   "execution_count": null,
   "metadata": {
    "colab": {
     "base_uri": "https://localhost:8080/"
    },
    "executionInfo": {
     "elapsed": 158,
     "status": "ok",
     "timestamp": 1704915452265,
     "user": {
      "displayName": "Tadashi Lewis",
      "userId": "08924533963653565366"
     },
     "user_tz": 480
    },
    "id": "dytLYeeEa3ag",
    "outputId": "cbffbb59-8053-4466-c650-3f7a95df8755"
   },
   "outputs": [],
   "source": [
    "a + c # what types are the inputs? what type could the output be? (int + float = float)"
   ]
  },
  {
   "cell_type": "code",
   "execution_count": null,
   "metadata": {
    "colab": {
     "base_uri": "https://localhost:8080/"
    },
    "executionInfo": {
     "elapsed": 160,
     "status": "ok",
     "timestamp": 1704406655490,
     "user": {
      "displayName": "Aditya Sengupta",
      "userId": "05406841331172530634"
     },
     "user_tz": 480
    },
    "id": "MN8Cf05Ha5dI",
    "outputId": "51a1a40f-1816-4a65-f62a-5d1d7d86a9cc"
   },
   "outputs": [],
   "source": [
    "a + d # what types are the inputs? what type could the output be? (int + float = float)"
   ]
  },
  {
   "cell_type": "code",
   "execution_count": null,
   "metadata": {
    "colab": {
     "base_uri": "https://localhost:8080/",
     "height": 179
    },
    "executionInfo": {
     "elapsed": 6,
     "status": "error",
     "timestamp": 1704915530746,
     "user": {
      "displayName": "Tadashi Lewis",
      "userId": "08924533963653565366"
     },
     "user_tz": 480
    },
    "id": "HCiiFi0Aa56f",
    "outputId": "d6490679-eea4-429c-d8dd-2f413c544cbd"
   },
   "outputs": [],
   "source": [
    "a + e # what types are the inputs? what type could the output be? (string + int = ??)"
   ]
  },
  {
   "cell_type": "markdown",
   "metadata": {
    "id": "eY-CKvJya--4"
   },
   "source": [
    "If it's possible, you can convert between types by calling the relevant type as a function:"
   ]
  },
  {
   "cell_type": "code",
   "execution_count": null,
   "metadata": {
    "colab": {
     "base_uri": "https://localhost:8080/"
    },
    "executionInfo": {
     "elapsed": 152,
     "status": "ok",
     "timestamp": 1704908791764,
     "user": {
      "displayName": "Tadashi Lewis",
      "userId": "08924533963653565366"
     },
     "user_tz": 480
    },
    "id": "jZkQYWffa9Fy",
    "outputId": "f91d7f5d-643e-4440-8d5d-f7ef1122be0d"
   },
   "outputs": [],
   "source": [
    "\n",
    "a = 1\n",
    "f = \"2024\"\n",
    "a + int(f) #int(string) makes whatever number the string is into an int"
   ]
  },
  {
   "cell_type": "markdown",
   "metadata": {
    "id": "iiDtQ7M4b5mq"
   },
   "source": [
    "A little quirk of Python is you can often do this in situations you might not expect, which is a bit weird to some people coming from other languages:"
   ]
  },
  {
   "cell_type": "code",
   "execution_count": null,
   "metadata": {
    "colab": {
     "base_uri": "https://localhost:8080/"
    },
    "executionInfo": {
     "elapsed": 172,
     "status": "ok",
     "timestamp": 1704908868930,
     "user": {
      "displayName": "Tadashi Lewis",
      "userId": "08924533963653565366"
     },
     "user_tz": 480
    },
    "id": "6huCBLmZbw_o",
    "outputId": "5c34ceec-d3ef-4910-920c-a3bd9598a335"
   },
   "outputs": [],
   "source": [
    "\n",
    "a = 1 #int\n",
    "b = 10 #int\n",
    "c = 3.5 #float\n",
    "d = 7.0 #float\n",
    "e = \"lamat\" #string\n",
    "f = \"2024\" #string\n",
    "g = False #boolean\n",
    "print(g)\n",
    "print(int(g)) #int(True) = 1, and int(False) = 0"
   ]
  },
  {
   "cell_type": "markdown",
   "metadata": {
    "id": "M40yqwYLcnHb"
   },
   "source": [
    "And you can even do math operations on other datatypes sometimes!"
   ]
  },
  {
   "cell_type": "code",
   "execution_count": null,
   "metadata": {
    "colab": {
     "base_uri": "https://localhost:8080/",
     "height": 35
    },
    "executionInfo": {
     "elapsed": 171,
     "status": "ok",
     "timestamp": 1704908967580,
     "user": {
      "displayName": "Tadashi Lewis",
      "userId": "08924533963653565366"
     },
     "user_tz": 480
    },
    "id": "EsKtn14KcsaR",
    "outputId": "83a1b029-7330-49d3-f527-7113e5ed0ff3"
   },
   "outputs": [],
   "source": [
    "a = 1 #int\n",
    "b = 10 #int\n",
    "c = 3.5 #float\n",
    "d = 7.0 #float\n",
    "e = \"lamat\" #string\n",
    "f = \"2024\" #string\n",
    "g = True #boolean\n",
    "\n",
    "e + f # before running this, what do you think might happen? --> \"string\" + \"string\" = 'stringstring'"
   ]
  },
  {
   "cell_type": "code",
   "execution_count": null,
   "metadata": {
    "colab": {
     "base_uri": "https://localhost:8080/",
     "height": 35
    },
    "executionInfo": {
     "elapsed": 166,
     "status": "ok",
     "timestamp": 1704406686226,
     "user": {
      "displayName": "Aditya Sengupta",
      "userId": "05406841331172530634"
     },
     "user_tz": 480
    },
    "id": "s5fdP6yDjhSa",
    "outputId": "809f72e0-57b1-4ea9-8df5-dcadf69fd31e"
   },
   "outputs": [],
   "source": [
    "str(a) + f # before running this, what do you think might happen? --> str(int) + string = '(string of int)string'"
   ]
  },
  {
   "cell_type": "code",
   "execution_count": null,
   "metadata": {
    "colab": {
     "base_uri": "https://localhost:8080/",
     "height": 35
    },
    "executionInfo": {
     "elapsed": 159,
     "status": "ok",
     "timestamp": 1704916227552,
     "user": {
      "displayName": "Tadashi Lewis",
      "userId": "08924533963653565366"
     },
     "user_tz": 480
    },
    "id": "1M2lxMiEcvix",
    "outputId": "0729d352-ba24-4576-a282-962eef0ac38e"
   },
   "outputs": [],
   "source": [
    "e * 3 # before running this, what do you think might happen? string * int = 'string' int number of times"
   ]
  },
  {
   "cell_type": "code",
   "execution_count": null,
   "metadata": {
    "colab": {
     "base_uri": "https://localhost:8080/"
    },
    "executionInfo": {
     "elapsed": 159,
     "status": "ok",
     "timestamp": 1704916235901,
     "user": {
      "displayName": "Tadashi Lewis",
      "userId": "08924533963653565366"
     },
     "user_tz": 480
    },
    "id": "xjNsdWDxcwwp",
    "outputId": "5392cae1-50bc-4767-8cf1-5dbd6c2060c0"
   },
   "outputs": [],
   "source": [
    "3 + 4 * False # what if this is False? True = 1, False = 0"
   ]
  },
  {
   "cell_type": "markdown",
   "metadata": {
    "id": "38gv7nficRAY"
   },
   "source": [
    "## Online Python Tutor\n",
    "\n"
   ]
  },
  {
   "cell_type": "markdown",
   "metadata": {
    "id": "zGi2vzStAp2w"
   },
   "source": [
    "One of the important things we'll be doing is understanding the flow of a program: what happens step by step, and the state of every variable at any given time. This can be hard to hold in your head, so we'll do some exercises to practice it. The main tool we'll use is the Online Python Tutor, [pythontutor.com](pythontutor.com). This is a resource I used when I was learning Python!\n",
    "\n",
    "The visualizations will become more involved when we learn about `if` and `for` statements later today, but for now, let's get used to looking at them with a short example."
   ]
  },
  {
   "cell_type": "code",
   "execution_count": null,
   "metadata": {
    "colab": {
     "base_uri": "https://localhost:8080/"
    },
    "executionInfo": {
     "elapsed": 157,
     "status": "ok",
     "timestamp": 1704406691560,
     "user": {
      "displayName": "Aditya Sengupta",
      "userId": "05406841331172530634"
     },
     "user_tz": 480
    },
    "id": "37r4ZnQTcBLp",
    "outputId": "8a1979df-b8ec-4c06-9b97-cdb8eb9fceb5"
   },
   "outputs": [],
   "source": [
    "# try and read through this, guess what'll happen, then run it\n",
    "a = 2\n",
    "b = 3\n",
    "print(a, b)\n",
    "a = a + b\n",
    "b = a - b\n",
    "a = a - b\n",
    "print(a, b)"
   ]
  },
  {
   "cell_type": "markdown",
   "metadata": {
    "id": "SJjsj648glRM"
   },
   "source": [
    "(Statements like `a = a + b` might look a little weird mathematically. What happens there is: it takes whatever `a` is before transforming it, adds `b`, and then sets `a` to the result. You can also write `a += b`.)"
   ]
  },
  {
   "cell_type": "markdown",
   "metadata": {
    "id": "2X4TO2fVCFqf"
   },
   "source": [
    "When you've run the cell above, copy and paste it into Python Tutor. Run through each step and keep an eye on what `a` and `b` are throughout. If it helps, you can also change their initial values.\n",
    "\n",
    "What would happen if we ran the block in between the two `print` statements another time? Try it on Python Tutor and see if it's what you expected!"
   ]
  }
 ],
 "metadata": {
  "colab": {
   "provenance": []
  },
  "kernelspec": {
   "display_name": "Python 3",
   "name": "python3"
  },
  "language_info": {
   "name": "python"
  }
 },
 "nbformat": 4,
 "nbformat_minor": 0
}
