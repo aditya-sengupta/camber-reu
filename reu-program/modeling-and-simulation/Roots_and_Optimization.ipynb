{
 "cells": [
  {
   "cell_type": "markdown",
   "id": "b4d634b5",
   "metadata": {},
   "source": [
    "$\\newcommand{\\mtx}[1]{\\boldsymbol{#1}}$\n",
    "\n",
    "# Optimization and Root Finding\n",
    "\n",
    "## Table of Contents\n",
    "* [Nonlinear equations $f(x) = 0$](#nonlinear)\n",
    "    * [Bisection](#bisection)\n",
    "    * [Newton Raphson](#newton)\n",
    "* [Finding the minimum (or maximum; $f'(x) = 0$)](#optimization)\n",
    "    * [Bisection](#biopt)\n",
    "    * [Gradient Descent](#grad)\n",
    "    * [Newton](#newtonopt)"
   ]
  },
  {
   "cell_type": "markdown",
   "id": "f0ca826a",
   "metadata": {},
   "source": [
    "## Finding Roots of nonlinear equations<a class=\"anchor\" id=\"nonlinear\"></a>\n",
    "\n",
    "Suppose we want to find the solution of \n",
    "$$\n",
    "f(x) = 0,\n",
    "$$\n",
    "where $f$ is some arbitrary continuous (hopefully differentiable) function of $x$.  That is how do we find a root of this equation. Now of $f = Ax - b$ is a linear function, we know how to solve it:  $x_0 = A^{-1}b$. Likewise, if $f$ is a vector function $f=\\vec{f} = \\mtx{A}\\vec{x} - \\vec{b}$, then the solution is $x_0 = \\mtx{A}^{-1}\\vec{b}$, where $\\mtx{A}^{-1}$ is the inverse matrix of $\\mtx{A}$.  For arbitrary, nonlinear vector function $\\vec{f}$, there are a number of techniques to solve for $\\vec{f} = 0$, but for now we will focus on single variable functions, $f$.\n",
    "\n",
    "To make these algorithms work, there are some constraints that must be put on $f$.  For instance, $f$ must be continuous and in some cases differentiable.  For instance, in the limiting case where $f$ is a random function that maps a real number to a random other real number, then the only algorithm is random guessing, which is computationally intractable.  So the key is that the function is at least continuous and even faster algorithms are possible if the function is differentiable. "
   ]
  },
  {
   "cell_type": "markdown",
   "id": "52af1492",
   "metadata": {},
   "source": [
    "### Bisection Method<a class=\"anchor\" id=\"bisection\"></a>\n",
    "\n",
    "The first method is quite simple.  Suppose we supply two values $a$ and $b$ such that we know that $f(a) < 0$ and $f(b) > 0$.  If $f$ is continuous then we know that there $\\exists  x_0$ for $x_0 \\in (a,b)$ such that $f(x_0) = 0$.  To find $x_0$, we will set $x_0 = (a+b)/2$ and compute $f(x_0)$.  If $f(x_0) > 0$ then set the next guess to be $x_0 = (x_0 + a)/2$ else we set $x_0 = (x_0 + b)/2$. Hence, we iterate by bisecting the interval to get closer and closer to the answer.  \n",
    "\n",
    "\n"
   ]
  },
  {
   "cell_type": "code",
   "execution_count": 2,
   "id": "0d86a6a9",
   "metadata": {},
   "outputs": [
    {
     "name": "stdout",
     "output_type": "stream",
     "text": [
      "2.0296788960695267 27 7.341634770896806e-08 4.4238971241838954e-07\n"
     ]
    }
   ],
   "source": [
    "import numpy as np\n",
    "import matplotlib.pyplot as pl\n",
    "import math\n",
    "\n",
    "def bisection( func, a, b, NMAX=100, EPS=1e-7, TINY=1e-8) : \n",
    "  # \n",
    "  # func - function to bisect\n",
    "  # a - lower bound for interval\n",
    "  # b - upper bound for interval\n",
    "  # NMAX - max number of iterations\n",
    "  # eps - max error\n",
    "  # TINY - minimum number \n",
    "  #\n",
    "  # returns root, error, iterations or None, None, None if the interval is violated\n",
    "  #\n",
    "\n",
    "  x1, x2 = a, b\n",
    "  y1, y2 = func(x1), func(x2)\n",
    "\n",
    "  error = None\n",
    "  if( y1*y2 > 0) :\n",
    "    print(\"Bracketing error {0:8.4e} {1:8.4e}\".format(y1,y2)) \n",
    "    return None, None, None\n",
    "\n",
    "  for i in range(NMAX) : \n",
    "    x_mid = 0.5*(x1 + x2)\n",
    "    y_mid = func(x_mid)\n",
    "\n",
    "    if( y1*y_mid < 0) : \n",
    "      x2, y2 = x_mid, y_mid\n",
    "    else :  \n",
    "      x1, y1 = x_mid, y_mid\n",
    "    \n",
    "    error = math.fabs(x2-x1)/(0.5*(math.fabs(x1) + math.fabs(x2)+TINY)) #TINY prevents overflows around x1, x2=0\n",
    "    if( error < EPS) : \n",
    "      return 0.5*(x1+x2), error, i+1\n",
    "  \n",
    "  print( \"NMAX reached\")\n",
    "  return 0.5*(x1+x2), error, NMAX\n",
    "\n"
   ]
  },
  {
   "cell_type": "markdown",
   "id": "8c65610e",
   "metadata": {},
   "source": [
    "As an example, lets find the root of \n",
    "$$\n",
    "x^5 - 4x^3 - 1 = 0\n",
    "$$ \n",
    "between -10 and 10.  Note that this just finds a root.  It will not find all the roots.  "
   ]
  },
  {
   "cell_type": "code",
   "execution_count": 4,
   "id": "db60fccf",
   "metadata": {},
   "outputs": [
    {
     "name": "stdout",
     "output_type": "stream",
     "text": [
      "2.0296788960695267 is a root and it took 27 iteration and the error is 7.341634770896806e-08\n"
     ]
    }
   ],
   "source": [
    "def test_function( x) : \n",
    "  # simple test function\n",
    "  return x**5 - 4*x**3 - 1\n",
    "\n",
    "x0, err, iterations = bisection( test_function, -10, 10)\n",
    "print( f\"{x0} is a root and it took {iterations} iterations using bisection and the error is {err}\")"
   ]
  },
  {
   "cell_type": "markdown",
   "id": "f1712fc7",
   "metadata": {},
   "source": [
    "In the code listing above the constant epsilon is defined at the maximum allowable relative error in the root that is bracketed between x1 and x2 or \n",
    "$$\n",
    "{\\rm Err} = \\frac{|x2 - x1}{0.5(|x1| + |x2|)} < {\\rm epsilon}\n",
    "$$\n",
    "\n",
    "Now how fast does the bisection method converge toward the correct answer?  If we know that the root is somewhere between the interval $(a,b)$ then on every iteration, we will, at worst, halve that interval.  So between the $i$th and $i+1$th iteration, we reduce the error by \n",
    "$$\n",
    "{\\rm Err}_{i+1} \\approx \\frac{{\\rm Err}_i}{2}\n",
    "$$\n",
    "or\n",
    "$$\n",
    "{\\rm Err}_{i+1} \\approx {\\rm Constant} \\times {\\rm Err}_i^n \\rightarrow n=1\n",
    "$$\n",
    "So this implies that in the worst case, the error is reduced linearly ($n=1$) on every iteration. Other methods to reduce the error faster exists ($n=2$), but these are generally less robust, but in many cases, they are worth the trade-off.  So bisection is a good method to have as a backup in case more sophisticated methods fail.\n"
   ]
  },
  {
   "cell_type": "markdown",
   "id": "00367447",
   "metadata": {},
   "source": [
    "### Newton-Raphson Method<a class=\"anchor\" id=\"newton\"></a>\n",
    "\n",
    "The second method that we will discuss is he Newton-Raphson method.  It converges quite a bit quicker than the bisection method, but it requires that $f$ and $f'$ be evaluated at every point $x$.  That is, we need both the function and its derivative. That being said, it is the fundamental root finding algorithm that nearly every optimization method either is inspired by or uses.  Suppose we have at a point $x$ and want to estimate where the root might be.  Let us do a Taylor expansion around $x$.  \n",
    "$$\n",
    "f(x+\\delta) = f(x) + f'(x)\\delta + O(\\delta^2)\n",
    "$$\n",
    "So if we drop term higher than $\\delta^2$, then the equation that we need to satisfy is\n",
    "$$\n",
    "f(x_0) = 0 = f(x) + f'(x)\\delta \\rightarrow \\delta = -\\frac{f(x)}{f'(x)}\n",
    "$$\n",
    "So starting out with some guess $x0$, we refine out estimate by the next step via\n",
    "$$\n",
    "x0 = x0 - \\frac{f(x0)}{f'(x0)}\n",
    "$$\n",
    "So that is it.  For the homework, you will write a Newton-Raphson method.  To help you along, we have a template for you.  \n",
    "\n"
   ]
  },
  {
   "cell_type": "code",
   "execution_count": 5,
   "id": "2638891b",
   "metadata": {},
   "outputs": [],
   "source": [
    "def compute_derivative( func, x, deriv=None, h=1e-4, TINY=1e-8) :\n",
    "  if( deriv is None) : \n",
    "    delta = h*math.fabs(x) + TINY \n",
    "    dfdx = (func(x+delta) - func(x-delta))/(2*delta)\n",
    "  else :  \n",
    "    dfdx = deriv(x)\n",
    "  return dfdx\n",
    "  \n",
    "def newton_raphson( func, guess, deriv=None, NMAX=100, EPS=1e-7, TINY=1e-8) : \n",
    "  # \n",
    "  # func - function to find root\n",
    "  # guess - initial guess\n",
    "  # deriv - derivative function or None if using numerical derivative\n",
    "  # NMAX - max number of iterations\n",
    "  # eps - max error\n",
    "  # TINY - minimum number \n",
    "  #\n",
    "  # returns root, error, iteration or None, None, None if the interval is violated\n",
    "  #\n",
    "  pass\n",
    "\n",
    "def test_deriv(x) : \n",
    "  return 5*x**4 - 12*x**2 \n"
   ]
  },
  {
   "cell_type": "markdown",
   "id": "dc9a43a5",
   "metadata": {},
   "source": [
    "Note that we have a function called compute_derivative.  This allows us to either include a function that computes the derivative, e.g., test_deriv.  For the example above, we are still working with the equation\n",
    "$$\n",
    "f(x) = x^5 - 4x^3 - 1 = 0\n",
    "$$\n",
    "for which the derivative is \n",
    "$$\n",
    "f'(x) = 5x^4 - 12x^2 \n",
    "$$\n",
    "which is implemented in the function test_deriv"
   ]
  },
  {
   "cell_type": "code",
   "execution_count": null,
   "id": "fdaa5063",
   "metadata": {},
   "outputs": [],
   "source": [
    "x0, err, iterations = newton_raphson( test_function, 1, deriv=test_deriv)\n",
    "print( f\"{x0} is a root and it took {iterations} iterations using newton raphson and the error is {err}\")"
   ]
  },
  {
   "cell_type": "markdown",
   "id": "f3ee92f5",
   "metadata": {},
   "source": [
    "\n",
    "It test_deriv is not given, you must compute the numerical derivative, which is just defined as \n",
    "$$\n",
    "f'(x) \\approx \\frac{f(x+\\delta) - f(x-\\delta)}{2\\delta}.\n",
    "$$\n",
    "An alert reader might notice that this is different from what is presented in calculus textbooks where \n",
    "$$\n",
    "f'(x) =\\lim_{\\delta \\rightarrow 0} \\frac{f(x+\\delta) - f(x)}{\\delta}.\n",
    "$$\n",
    "The difference is that the central difference, which is what we are doing, is generally more accurate for finite $\\delta$ than the one-side definition -- though there is a place for both as we will eventually see.  \n",
    "\n",
    "Finally, lets estimate the convergence rate of this method.  Consider that $x_0$ is a root and we at a value $x_i$ at the $i$ iteration.  We Taylor expand to second order to find  \n",
    "$$\n",
    "f(x_0) = 0 \\approx f(x_i) + f'(x_i)(x_0-x_i) + \\frac 1 2 f''(x_i) (x_0-x_i)^2.\n",
    "$$\n",
    "Dividing by $f'(x_i)$, we have\n",
    "$$\n",
    "0 \\approx -\\delta + (x_0-x_i) + \\frac 1 2 f''(x_i) (x_0 - x_i)^2.\n",
    "$$\n",
    "Rearranging terms, we have \n",
    "$$\n",
    "0 \\approx (x_0-x_{i+1}) + \\frac 1 2 f''(x_i) (x_0 - x_i)^2.\n",
    "$$\n",
    "The term $x_0-x_{i+1}$ and $x_0-x_{i}$ are the errors of the $i+1$th and $i$th step, respectively.  Or in other words:\n",
    "$$\n",
    "{\\rm Err}_{i+1} \\approx {\\rm Constant}\\times {\\rm Err}_i^2.\n",
    "$$\n",
    "So the error shrinks quadratrically.  You should notice that newton-raphson requires fewer evaluations to get a good error compared to bisection.\n",
    "\n"
   ]
  },
  {
   "cell_type": "markdown",
   "id": "f5144ded",
   "metadata": {},
   "source": [
    "## Optimization - Finding the minimum (or maximum)<a class=\"anchor\" id=\"optimization\"></a>\n",
    "\n",
    "Suppose we want to find the minimum of \n",
    "$$\n",
    "f(x),\n",
    "$$\n",
    "where $f$ is some arbitrary continuous (hopefully differentiable) function of $x$. "
   ]
  },
  {
   "cell_type": "markdown",
   "id": "b58de012",
   "metadata": {},
   "source": [
    "### Bisection Method <a class=\"anchor\" id=\"biopt\"></a>\n",
    "The first method we will discuss is an extension of the bisection methods discussed previously.  Suppose we supply two values $x_1$ and $x_3$ such that we can define:\n",
    "$$\n",
    "x_1 < x_2 = \\frac{x_1+x_3} 2 < x_3\n",
    "$$  \n",
    "and $f(x_2) < f(x_1)$ and $f(x_2) < f(x_3)$.  Now define $x_{1.5} = (x_1+x_2)/2$ and $x_{2.5} = (x_2+x_3)/2$.  The algorithm is as follows.\n",
    "\n",
    "If $f(x_{1.5}) < f(x_2)$ then the new three points are $(x_1,x_2,x_3) = (x_1,x_{1.5},x_2)$.  If  $f(x_{2.5}) < f(x_2)$, then the new three points are $(x_1,x_2,x_3) = (x_2,x_{2.5},x_3)$.  Otherwise choose the middle three points $(x_1,x_2,x_3) = (x_{1.5},x_{2},x_{2.5})$.\n"
   ]
  },
  {
   "cell_type": "code",
   "execution_count": 10,
   "id": "1ca9297c",
   "metadata": {},
   "outputs": [
    {
     "name": "stdout",
     "output_type": "stream",
     "text": [
      "Minimum at 3.0000000074505806 took 30 iteration using bisection with error 6.208817138335398e-09\n"
     ]
    },
    {
     "data": {
      "image/png": "[encoded data removed]",
      "text/plain": [
       "<Figure size 640x480 with 1 Axes>"
      ]
     },
     "metadata": {},
     "output_type": "display_data"
    }
   ],
   "source": [
    "def bisection( func, a, b, NMAX=100, EPS=1e-8, TINY=1e-8) : \n",
    "  # \n",
    "  # func - function to bisect\n",
    "  # a - lower bound for interval\n",
    "  # b - upper bound for interval\n",
    "  # NMAX - max number of iterations\n",
    "  # eps - max error\n",
    "  # TINY - minimum number \n",
    "  #\n",
    "  # returns minimum, error, iterations or None, None, None if the interval is violated\n",
    "  #\n",
    "\n",
    "  x1, x3 = a, b\n",
    "  x2 = 0.5*(x1+x3)\n",
    "  y1, y2, y3 = func(x1), func(x2), func(x3)\n",
    "\n",
    "  #Ensure initial conditions are satisfied.\n",
    "  if( not (y2 < y1 and y2 < y3)) : \n",
    "    print( \"Error in input\")\n",
    "    return None, None, None\n",
    "\n",
    "  error = None\n",
    "\n",
    "  for i in range(NMAX) : \n",
    "    x2 = 0.5*(x1+x3)\n",
    "    x1_5 = 0.5*(x1 + x2)\n",
    "    x2_5 = 0.5*(x2 + x3)\n",
    "    y1, y1_5, y2, y2_5, y3 = func(x1), func(x1_5), func(x2), func(x2_5), func(x3)\n",
    "\n",
    "    if( y1_5 < y2) : \n",
    "      x1, x3 = x1, x2 \n",
    "    elif( y2_5 < y2) :  \n",
    "      x1, x3 = x2, x3\n",
    "    else :  \n",
    "      x1, x3 = x1_5, x2_5\n",
    "    \n",
    "    error = math.fabs(x3-x1)/(0.5*(math.fabs(x1) + math.fabs(x3)+TINY)) #TINY prevents overflows around x1, x2=0\n",
    "    if( error < EPS) : \n",
    "      return 0.5*(x1+x3), error, i+1\n",
    "  \n",
    "  print( \"NMAX reached\")\n",
    "  return 0.5*(x1+x3), error, NMAX\n",
    "\n",
    "def test_function( x) : \n",
    "  # simple test function\n",
    "  return x**4 - 4*x**3 - 1\n",
    "\n",
    "pl.clf()\n",
    "x = np.arange(-5,6,0.01)\n",
    "pl.plot( x, test_function(x), lw=2, label=\"$x^4 - 4x^3 - 1$\")\n",
    "x0, err, iterations = bisection( test_function, -10, 10)\n",
    "pl.scatter( [x0], [test_function(x0)], s=20,label=\"$x_0$\")\n",
    "pl.legend(loc=\"best\")\n",
    "pl.xlim(-5,6)\n",
    "pl.ylim(-100,1000)\n",
    "print( f\"Minimum at {x0} took {iterations} iteration using bisection with error {err}\")"
   ]
  },
  {
   "cell_type": "markdown",
   "id": "6b68c17f",
   "metadata": {},
   "source": [
    "### Gradient Descent<a class=\"anchor\" id=\"grad\"></a>\n",
    "\n",
    "The second method will build upon what we previously discussed for Newton-Raphson.  The idea is pretty simple.  Just as bisection for root-finding can be modified for optimization, we modify Newton-Raphson for optimization as well.  Let consider how we would do this.  Pictorially, the way Newton-Raphson works is by going down following the local gradient toward a root.  To make it work for minimization, we merely need to follow it all the way down in the negative direction.  That is at any point $x_i$, we must selected the next step such that \n",
    "$$\n",
    "x_{i+1} = x_i + h,\n",
    "$$\n",
    "where $h \\propto -f'(x_i)^{-1}$.  So if $f'(x_i)$ is positive, we go in the negative direction and vice versa.  Note that I have used the $\\propto$.  We must think of a way to estimate the constant.  To do so, lets do a Taylor expansion around both $x_i$ and $x_{i+1}$\n",
    "$$\n",
    "f(x_i + h) \\approx f(x_i) + h f'(x_i)\\\\\n",
    "f(x_{i+1} - h) \\approx f(x_{i} + h ) - h f'(x_i+h)\n",
    "$$\n",
    "If $x_{i+1} = x_i + h$ is heading in the direction of a minimum then $|f'(x_i + h)| < |f'(x_i)|$.  This also means that:\n",
    "$$\n",
    "f(x_i + h) - f(x_i) &<& h f'(x_i) \\\\\n",
    "f(x_i + h) - f(x_i) &>& h f'(x_i+h) \\rightarrow h f'(x_i+h) < h f'(x_i)  \n",
    "$$\n",
    "So we want to take a step that is large enough to move as fast as possible toward the minimum, but not so fast that we overshoot it.  So define two constants $0< c_1, c_2 < 1$ such that  \n",
    "$$\n",
    "f(x_i + h) - f(x_i) &<& c_1h f'(x_i) \\\\\n",
    "h f'(x_i+h) &<& c_2 h f'(x_i)  \n",
    "$$ \n",
    "These conditions are known as the Wolfe conditions.  A typical recommendation is $c_1 = 10^{-4}$ and $c_2 = 0.9$. Now a wide variety of $h$'s are still possible, but one way of doing it could be.  If $h$ does not satisfy the Wolfe conditions, take a smaller values of $h$.  If it does satisfy the Wolfe conditions, try a larger step for the next iteration.  \n",
    "\n",
    "Let see this implemented:"
   ]
  },
  {
   "cell_type": "code",
   "execution_count": 12,
   "id": "47f465df",
   "metadata": {},
   "outputs": [
    {
     "name": "stdout",
     "output_type": "stream",
     "text": [
      "Minimum at 2.999999962095643 took 52 iteration using gradient descent with error 9.558292246669048e-09\n"
     ]
    },
    {
     "data": {
      "image/png": "[encoded data removed]",
      "text/plain": [
       "<Figure size 640x480 with 1 Axes>"
      ]
     },
     "metadata": {},
     "output_type": "display_data"
    }
   ],
   "source": [
    "def compute_derivative( func, x, deriv=None, h=1e-4, TINY=1e-8) :\n",
    "  if( deriv is None) : \n",
    "    delta = h*math.fabs(x) + TINY \n",
    "    dfdx = (func(x+delta) - func(x-delta))/(2*delta)\n",
    "  else :  \n",
    "    dfdx = deriv(x)\n",
    "  return dfdx\n",
    "\n",
    "def ok_wolfe(func, x0, h, deriv=None, c1 = 1e-4, c2 = 0.9) :\n",
    "  dfdx = compute_derivative(func, x0, deriv=deriv)\n",
    "  df1dx = compute_derivative(func, x0+h, deriv=deriv)\n",
    "  condition1 = func(x0 + h) - func(x0) <= c1*h*dfdx\n",
    "  condition2 = h*df1dx > c2*h*dfdx\n",
    "  return condition1 and condition2\n",
    "\n",
    "def gradient_descent( func, guess, deriv=None, NMAX=100, EPS=1e-8, TINY=1e-8) : \n",
    "  # \n",
    "  # func - function to minimize\n",
    "  # guess\n",
    "  # derivs - optional derivative function\n",
    "  # NMAX - max number of iterations\n",
    "  # EPS - max error\n",
    "  # TINY - minimum number \n",
    "  #\n",
    "  # returns minimum, error, iterations or None, None, None if the interval is violated\n",
    "  #\n",
    "\n",
    "  error = None\n",
    "  x0 = guess\n",
    "  h = 1e-1*math.fabs(x0) # initial guess for step size\n",
    "\n",
    "  for i in range(NMAX) :\n",
    "    dfdx = compute_derivative(func, x0, deriv=deriv)\n",
    "    h = -np.sign(dfdx)*math.fabs(h)\n",
    "    error = math.fabs(h/(math.fabs(x0) + TINY))    \n",
    "    if( error < EPS) : \n",
    "      return x0, error, i+1\n",
    "\n",
    "    if ok_wolfe(func, x0, h, deriv=deriv) : \n",
    "      x0 += h\n",
    "      h *= 1.5 # increase the step size next time\n",
    "    else :\n",
    "      h*= 0.5\n",
    "    \n",
    "  print(\"NMAX reached\")\n",
    "  return x0, error, NMAX\n",
    "\n",
    "x = np.arange(-5,6,0.01)\n",
    "pl.plot( x, test_function(x), lw=2, label=\"$x^4 - 4x^3 - 1$\")\n",
    "x0, err, iterations = gradient_descent( test_function, 5)\n",
    "pl.scatter( [x0], [test_function(x0)], s=20,label=\"$x_0$\")\n",
    "pl.legend(loc=\"best\")\n",
    "pl.xlim(-5,6)\n",
    "pl.ylim(-100,1000)\n",
    "print( f\"Minimum at {x0} took {iterations} iteration using gradient descent with error {err}\")\n"
   ]
  },
  {
   "cell_type": "markdown",
   "id": "a395bb23",
   "metadata": {},
   "source": [
    "### Newton's Method<a class=\"anchor\" id=\"newtonopt\"></a>\n",
    "\n",
    "The final single variable method that we will describe is Newton's method.  To derive it, we begin with a Taylor expansion.\n",
    "$$\n",
    "f(x+h) \\approx f(x) + f'(x) h + \\frac 1 2 f''(x)h^2\n",
    "$$\n",
    "Now the minimum is at $f'(x_0) = 0$ or $df(x+h)/dh = 0$.  Applying this to the Taylor expansion, we have\n",
    "$$\n",
    "\\frac{df(x+h)}{dh} = 0 \\approx f'(x) + f''(x)h \\rightarrow h = -\\frac{f'(x)}{f''(x)}.\n",
    "$$\n",
    "\n",
    "As an exercise, you will write a code to implement this.  The template is as follows:\n"
   ]
  },
  {
   "cell_type": "code",
   "execution_count": null,
   "id": "4a3220f0",
   "metadata": {},
   "outputs": [],
   "source": [
    "def compute_derivative( func, x, deriv=None, deriv2=None, h=1e-4, TINY=1e-8) :\n",
    "  if( deriv is None) : \n",
    "    delta = h*math.fabs(x) + TINY \n",
    "    dfdx = (func(x+delta) - func(x-delta))/(2*delta)\n",
    "  else :  \n",
    "    dfdx = deriv(x)\n",
    "  if( deriv2 is None) : \n",
    "    delta = h*math.fabs(x) + TINY \n",
    "    dfdx2 = (func(x+delta) + func(x-delta) - 2*func(x))/(delta*delta)\n",
    "  else :  \n",
    "    dfdx2 = deriv2(x)\n",
    "  return dfdx, dfdx2\n",
    "\n",
    "def newton( func, guess, deriv=None, deriv2=None, NMAX=100, EPS=1e-8, TINY=1e-8) : \n",
    "  # \n",
    "  # func - function to minimize\n",
    "  # guess\n",
    "  # deriv, deriv2 - optional derivative and second derivative functions\n",
    "  # NMAX - max number of iterations\n",
    "  # EPS - max error\n",
    "  # TINY - minimum number \n",
    "  #\n",
    "  # returns minimum, error, iterations or None, None, None if the interval is violated\n",
    "  #\n",
    "  pass\n",
    "\n",
    "x = np.arange(-5,6,0.01)\n",
    "pl.plot( x, test_function(x), lw=2, label=\"$x^4 - 4x^3 - 1$\")\n",
    "x0, err, iterations = newton( test_function, 5)\n",
    "pl.scatter( [x0], [test_function(x0)], s=20,label=\"$x_0$\")\n",
    "pl.legend(loc=\"best\")\n",
    "pl.xlim(-5,6)\n",
    "pl.ylim(-100,1000)\n",
    "print( f\"Minimum at {x0} took {iterations} iteration using newton's method with error {err}\")\n"
   ]
  }
 ],
 "metadata": {
  "kernelspec": {
   "display_name": "Python 3 (ipykernel)",
   "language": "python",
   "name": "python3"
  },
  "language_info": {
   "codemirror_mode": {
    "name": "ipython",
    "version": 3
   },
   "file_extension": ".py",
   "mimetype": "text/x-python",
   "name": "python",
   "nbconvert_exporter": "python",
   "pygments_lexer": "ipython3",
   "version": "3.9.13"
  }
 },
 "nbformat": 4,
 "nbformat_minor": 5
}
