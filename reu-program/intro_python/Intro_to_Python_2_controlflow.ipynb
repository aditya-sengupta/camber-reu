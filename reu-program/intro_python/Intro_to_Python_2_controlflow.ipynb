{
 "cells": [
  {
   "cell_type": "markdown",
   "metadata": {
    "id": "1bcgOsZRMNw1"
   },
   "source": [
    "## Control Flow\n",
    "\n",
    "With the example we looked at on Python Tutor, we saw the code step through one line after the next until it reached the end. It seems like if we want our programs to operate on, say, 500 datapoints, we'll need to write 500 lines and individually customize each one. This can be made a lot easier if we have ways to jump around in the code. There's two main ways of doing this:\n",
    "\n",
    "- \"conditionals\", using the `if` keyword. This lets us jump to different points in a program depending on some condition we want.\n",
    "- \"loops\", using the `for` and `while` keywords. This lets us repeat a block of code: upon reaching the end, we can jump back up to the top.\n",
    "\n",
    "### Conditionals\n",
    "\n",
    "The simplest pattern for a Python `if` statement is:\n",
    "\n",
    "```\n",
    "if (condition):\n",
    "    (statement to run)\n",
    "```\n",
    "\n",
    "The condition should be a Boolean, so either `True` or `False`. In some cases, it makes sense to just directly write that in:"
   ]
  },
  {
   "cell_type": "code",
   "execution_count": null,
   "metadata": {
    "colab": {
     "base_uri": "https://localhost:8080/"
    },
    "executionInfo": {
     "elapsed": 4,
     "status": "ok",
     "timestamp": 1704920825388,
     "user": {
      "displayName": "Tadashi Lewis",
      "userId": "08924533963653565366"
     },
     "user_tz": 480
    },
    "id": "3BOPVNYDZaOR",
    "outputId": "2a137da5-7fae-44ca-979a-0e7dfb884a41"
   },
   "outputs": [],
   "source": [
    "# if you'd like, copy and paste this block into Python Tutor\n",
    "# and see how the order of execution changes!\n",
    "if False:\n",
    "  print(\"This won't get printed\")\n",
    "if True:\n",
    "  print(\"This will get printed\")"
   ]
  },
  {
   "cell_type": "markdown",
   "metadata": {
    "id": "6YMMrFetbduy"
   },
   "source": [
    "But more often, you'll want the conditions to be based on your data. For mostly any kind of data, you can check if a variable is equal to some other value with the `==` operator:"
   ]
  },
  {
   "cell_type": "code",
   "execution_count": null,
   "metadata": {
    "colab": {
     "base_uri": "https://localhost:8080/"
    },
    "executionInfo": {
     "elapsed": 180,
     "status": "ok",
     "timestamp": 1704405041452,
     "user": {
      "displayName": "Aditya Sengupta",
      "userId": "05406841331172530634"
     },
     "user_tz": 480
    },
    "id": "5v96mH7daccV",
    "outputId": "a62103f1-6d4c-4262-883d-c094327f055c"
   },
   "outputs": [],
   "source": [
    "a = 4\n",
    "b = \"lamat\"\n",
    "print(\"a is 4: \", a == 4)\n",
    "print(\"a is 5: \", a == 5)\n",
    "print(\"b is lamat: \", b == \"lamat\")"
   ]
  },
  {
   "cell_type": "markdown",
   "metadata": {
    "id": "qWhf6eHrdMPa"
   },
   "source": [
    "And you can check if numbers are less than/greater than each other using the `<` and `>` operators, which have the same meaning as in math. You can also check \"less than or equal to\" or \"greater than or equal to\" with `<=` and `>=`."
   ]
  },
  {
   "cell_type": "code",
   "execution_count": null,
   "metadata": {
    "colab": {
     "base_uri": "https://localhost:8080/"
    },
    "executionInfo": {
     "elapsed": 1,
     "status": "ok",
     "timestamp": 1704405177870,
     "user": {
      "displayName": "Aditya Sengupta",
      "userId": "05406841331172530634"
     },
     "user_tz": 480
    },
    "id": "c2ok9Y3-dp7c",
    "outputId": "df7c3aa4-a67f-407b-a19a-a7f499227799"
   },
   "outputs": [],
   "source": [
    "a <= 4"
   ]
  },
  {
   "cell_type": "code",
   "execution_count": null,
   "metadata": {
    "colab": {
     "base_uri": "https://localhost:8080/"
    },
    "executionInfo": {
     "elapsed": 3,
     "status": "ok",
     "timestamp": 1704405180906,
     "user": {
      "displayName": "Aditya Sengupta",
      "userId": "05406841331172530634"
     },
     "user_tz": 480
    },
    "id": "FK9IPPMkdxUC",
    "outputId": "2b2df0df-96fe-4bb8-b28d-66a9abecc2f5"
   },
   "outputs": [],
   "source": [
    "a > 5"
   ]
  },
  {
   "cell_type": "code",
   "execution_count": null,
   "metadata": {
    "colab": {
     "base_uri": "https://localhost:8080/"
    },
    "executionInfo": {
     "elapsed": 2,
     "status": "ok",
     "timestamp": 1704405197289,
     "user": {
      "displayName": "Aditya Sengupta",
      "userId": "05406841331172530634"
     },
     "user_tz": 480
    },
    "id": "EKdo0aKAdyBc",
    "outputId": "c85a8dc0-5d26-44f5-93f5-0968178406a9"
   },
   "outputs": [],
   "source": [
    "\"aardvark\" < \"lamat\" # what do you think this might do?"
   ]
  },
  {
   "cell_type": "markdown",
   "metadata": {
    "id": "ZK0hrbdjePOK"
   },
   "source": [
    "Once you get a boolean (`True` or `False`) out of this, you can put it inside an `if` statement. Note that Python is very permissive about what can go after `if` - it'll allow almost anything, and most things will evaluate to `True` (you can check what it'll use by running `bool` on your object). So when in doubt, double check that your condition is what you want it to be!"
   ]
  },
  {
   "cell_type": "code",
   "execution_count": null,
   "metadata": {
    "colab": {
     "base_uri": "https://localhost:8080/"
    },
    "executionInfo": {
     "elapsed": 155,
     "status": "ok",
     "timestamp": 1704922235263,
     "user": {
      "displayName": "Tadashi Lewis",
      "userId": "08924533963653565366"
     },
     "user_tz": 480
    },
    "id": "CK2bLgxne1cG",
    "outputId": "64c7adac-11dc-40c9-971d-dd8a9a4ee31a"
   },
   "outputs": [],
   "source": [
    "# if you run this block many times, what do you think will happen?\n",
    "a = 10\n",
    "\n",
    "if a <= 7:\n",
    "  a = a + 1\n",
    "print(a)"
   ]
  },
  {
   "cell_type": "markdown",
   "metadata": {
    "id": "yUwCmGaAlVv3"
   },
   "source": [
    "We can extend `if` statements using the `elif` and `else` statements, which let us use multiple conditions and do something at the end if none of those conditions are true."
   ]
  },
  {
   "cell_type": "code",
   "execution_count": null,
   "metadata": {
    "colab": {
     "base_uri": "https://localhost:8080/"
    },
    "executionInfo": {
     "elapsed": 166,
     "status": "ok",
     "timestamp": 1704923134363,
     "user": {
      "displayName": "Tadashi Lewis",
      "userId": "08924533963653565366"
     },
     "user_tz": 480
    },
    "id": "5_UtN5A6fcAW",
    "outputId": "e33d4c8b-96eb-431c-9d18-b613e3561e6a"
   },
   "outputs": [],
   "source": [
    "# we'll run this through Python Tutor to see the flow of statements\n",
    "# we'll also look at what happens if we just have the last statement and no \"else\"\n",
    "radius = 0.5\n",
    "if radius < 0.01:\n",
    "  print(\"planet\")\n",
    "elif radius < 0.1:\n",
    "  print(\"brown dwarf\")\n",
    "else:\n",
    "  print(\"star\")\n",
    "\n",
    "\n",
    "# try adding a statement to this that prints an appropriate message if the radius is negative"
   ]
  },
  {
   "cell_type": "markdown",
   "metadata": {
    "id": "0CUuh7UytBQ5"
   },
   "source": [
    "**Exercise**: let's try writing a bit of code that prints two numbers `x` and `y` in ascending order (the smaller one first)."
   ]
  },
  {
   "cell_type": "code",
   "execution_count": null,
   "metadata": {
    "colab": {
     "base_uri": "https://localhost:8080/"
    },
    "executionInfo": {
     "elapsed": 2,
     "status": "ok",
     "timestamp": 1704923421594,
     "user": {
      "displayName": "Tadashi Lewis",
      "userId": "08924533963653565366"
     },
     "user_tz": 480
    },
    "id": "EtyLELOqp2ck",
    "outputId": "d530884b-a399-4303-b539-f88872fee82f"
   },
   "outputs": [],
   "source": [
    "# your code here!\n",
    "# make sure this prints the same thing if you swap the values of x and y"
   ]
  },
  {
   "cell_type": "markdown",
   "metadata": {
    "id": "kA_VfhMvtntT"
   },
   "source": [
    "## For Loops\n",
    "\n",
    "`for` loops let us run a bit of code a specified number of times, possibly changing its behavior depending on how many times it's run. Python has a number of \"iterable structures\" - things that you can take one at a time inside a loop - but we'll start out with the simplest one, which is the `range` object."
   ]
  },
  {
   "cell_type": "code",
   "execution_count": null,
   "metadata": {
    "colab": {
     "base_uri": "https://localhost:8080/"
    },
    "executionInfo": {
     "elapsed": 3,
     "status": "ok",
     "timestamp": 1704924696215,
     "user": {
      "displayName": "Tadashi Lewis",
      "userId": "08924533963653565366"
     },
     "user_tz": 480
    },
    "id": "UmDDujcryH3w",
    "outputId": "f223274c-55b5-4948-ddb1-47b0d4a759ec"
   },
   "outputs": [],
   "source": [
    "# we'll run this through Python Tutor\n",
    "for i in range(10):\n",
    "  print(i+1)"
   ]
  },
  {
   "cell_type": "code",
   "execution_count": null,
   "metadata": {
    "colab": {
     "base_uri": "https://localhost:8080/"
    },
    "executionInfo": {
     "elapsed": 2,
     "status": "ok",
     "timestamp": 1704410634827,
     "user": {
      "displayName": "Aditya Sengupta",
      "userId": "05406841331172530634"
     },
     "user_tz": 480
    },
    "id": "oumN90KWyVKB",
    "outputId": "caa49b74-9a1d-4235-936a-05106ce5d877"
   },
   "outputs": [],
   "source": [
    "# at the end, 'i' has the last value it had\n",
    "i"
   ]
  },
  {
   "cell_type": "markdown",
   "metadata": {
    "id": "1rsjItpEynPs"
   },
   "source": [
    "You can loop over other things too, such as each character in a string:"
   ]
  },
  {
   "cell_type": "code",
   "execution_count": null,
   "metadata": {},
   "outputs": [],
   "source": [
    "msg = 3 #booleans, floats, and integers are not iterable.\n",
    "for f in msg:\n",
    "  print(f)"
   ]
  },
  {
   "cell_type": "code",
   "execution_count": null,
   "metadata": {
    "colab": {
     "base_uri": "https://localhost:8080/",
     "height": 210
    },
    "executionInfo": {
     "elapsed": 5,
     "status": "error",
     "timestamp": 1704924327048,
     "user": {
      "displayName": "Tadashi Lewis",
      "userId": "08924533963653565366"
     },
     "user_tz": 480
    },
    "id": "6Lm-8TO1Vx9X",
    "outputId": "eb6403b5-992f-4361-81c8-edf0fb568968"
   },
   "outputs": [],
   "source": [
    "msg = \"lamat is so cool\" #booleans, floats, and integers are not iterable.\n",
    "for f in msg:\n",
    "  print(f)"
   ]
  },
  {
   "cell_type": "markdown",
   "metadata": {
    "id": "s4hghxrxy-lq"
   },
   "source": [
    "We'll cover looping over lists and arrays tomorrow.\n",
    "\n",
    "Combining `if` and `for` technically lets us make any possible program! Working with just these two sometimes gives us inefficient or hard-to-read code (in particular, loops in Python are quite slow), but they're essential building blocks for just about anything. For instance, here's an `if` statement inside a `for` loop that prints all the odd numbers in the range 0-9:"
   ]
  },
  {
   "cell_type": "code",
   "execution_count": null,
   "metadata": {
    "colab": {
     "base_uri": "https://localhost:8080/"
    },
    "executionInfo": {
     "elapsed": 169,
     "status": "ok",
     "timestamp": 1704924504834,
     "user": {
      "displayName": "Tadashi Lewis",
      "userId": "08924533963653565366"
     },
     "user_tz": 480
    },
    "id": "_lKw9X7ZzQsJ",
    "outputId": "92308ec2-7918-4d44-c725-ba76daeb3018"
   },
   "outputs": [],
   "source": [
    "# we'll run this through Python Tutor\n",
    "# bonus - read through the docs for range by running help(range) or ?range:\n",
    "# is there another way to do this without the if?\n",
    "for i in range(10):\n",
    "  if i % 2 == 1:\n",
    "    print(i)"
   ]
  },
  {
   "cell_type": "markdown",
   "metadata": {
    "id": "KRDjEGxEzfOY"
   },
   "source": [
    "Loops can even go inside other loops! This is sometimes useful in astronomy when we're dealing with images that have two dimensions, but it can be slow as well."
   ]
  },
  {
   "cell_type": "code",
   "execution_count": null,
   "metadata": {
    "id": "Pd8VryKLzWQD"
   },
   "outputs": [],
   "source": [
    "# we'll run this through Python Tutor\n",
    "for i in range(4):\n",
    "  for j in range(3):\n",
    "    print(i, j)\n",
    "  print(\"done with i =\", i)"
   ]
  },
  {
   "cell_type": "code",
   "execution_count": null,
   "metadata": {
    "colab": {
     "base_uri": "https://localhost:8080/"
    },
    "executionInfo": {
     "elapsed": 2,
     "status": "ok",
     "timestamp": 1704411182987,
     "user": {
      "displayName": "Aditya Sengupta",
      "userId": "05406841331172530634"
     },
     "user_tz": 480
    },
    "id": "fCvcrhhazkRj",
    "outputId": "95ea6342-502e-4eaa-cdaf-b7ced1b549c0"
   },
   "outputs": [],
   "source": [
    "# we can update variables inside loops\n",
    "s = 0\n",
    "print(\"i j s\")\n",
    "for i in range(2):\n",
    "  for j in range(3):\n",
    "    s += i + j\n",
    "    print(i, j, s)"
   ]
  },
  {
   "cell_type": "code",
   "execution_count": null,
   "metadata": {
    "colab": {
     "base_uri": "https://localhost:8080/"
    },
    "executionInfo": {
     "elapsed": 174,
     "status": "ok",
     "timestamp": 1704926387810,
     "user": {
      "displayName": "Tadashi Lewis",
      "userId": "08924533963653565366"
     },
     "user_tz": 480
    },
    "id": "HnGozBKjdylK",
    "outputId": "5e5716da-18d7-4983-c2c1-9a04b00b1214"
   },
   "outputs": [],
   "source": [
    "# can you count the number of vowels in this word?\n",
    "word = \"photoionization\""
   ]
  },
  {
   "cell_type": "markdown",
   "metadata": {
    "id": "BfjGBjTp3AGC"
   },
   "source": [
    "**Exercise**: One of the best sources of problems that can (mostly) be done with just conditionals and loops is Project Euler, [projecteuler.net](projecteuler.net). We'll do the first problem from their archive! (If you end up with extra time, browse through the rest of their problems and try some of them!)\n",
    "\n",
    "If we list all the natural numbers below 10 that are multiples of 3 or 5, we get 3, 5, 6, and 9. The sum of these multiples is 23.\n",
    "\n",
    "\n",
    "Find the sum of all the multiples of 3 or 5 below 1000."
   ]
  },
  {
   "cell_type": "code",
   "execution_count": null,
   "metadata": {
    "colab": {
     "base_uri": "https://localhost:8080/"
    },
    "executionInfo": {
     "elapsed": 3,
     "status": "ok",
     "timestamp": 1704946576486,
     "user": {
      "displayName": "Tadashi Lewis",
      "userId": "08924533963653565366"
     },
     "user_tz": 480
    },
    "id": "FnKyFgH10nHD",
    "outputId": "c7b83fe8-515f-4a80-e7c0-33b256cc5a6e"
   },
   "outputs": [],
   "source": [
    "# your code here!"
   ]
  },
  {
   "cell_type": "markdown",
   "metadata": {
    "id": "41077w3l3lRs"
   },
   "source": [
    "## While loops\n",
    "\n",
    "`while` loops let us run a block of code repeatedly without specifying how many times up front. Instead, each time we go through, we check a condition, and the loop ends when the condition is false."
   ]
  },
  {
   "cell_type": "code",
   "execution_count": null,
   "metadata": {
    "id": "wwtfCaVL3YVn"
   },
   "outputs": [],
   "source": [
    "# we'll run this through Python Tutor\n",
    "i = 6\n",
    "while i > 5:\n",
    "  print(i)\n",
    "  i -= 1"
   ]
  },
  {
   "cell_type": "markdown",
   "metadata": {
    "id": "XfdxcFNq4CI8"
   },
   "source": [
    "This is useful in cases where we don't know where we'll stop up front. For example, this cell finds the largest integer whose cube is less than 500:"
   ]
  },
  {
   "cell_type": "code",
   "execution_count": null,
   "metadata": {
    "colab": {
     "base_uri": "https://localhost:8080/"
    },
    "executionInfo": {
     "elapsed": 163,
     "status": "ok",
     "timestamp": 1704926769479,
     "user": {
      "displayName": "Tadashi Lewis",
      "userId": "08924533963653565366"
     },
     "user_tz": 480
    },
    "id": "cbrr6vYm31bX",
    "outputId": "dd5b6faa-445c-400e-9664-5894fb0f242f"
   },
   "outputs": [],
   "source": [
    "i = 0\n",
    "while i ** 3 < 500:\n",
    "  i += 1\n",
    "print(i)"
   ]
  },
  {
   "cell_type": "markdown",
   "metadata": {
    "id": "cRy07Usb4hkJ"
   },
   "source": [
    "When you're writing `while` loops, make sure you're actually going to hit the end condition!"
   ]
  },
  {
   "cell_type": "code",
   "execution_count": null,
   "metadata": {
    "colab": {
     "base_uri": "https://localhost:8080/",
     "height": 228
    },
    "executionInfo": {
     "elapsed": 3261,
     "status": "error",
     "timestamp": 1704412253363,
     "user": {
      "displayName": "Aditya Sengupta",
      "userId": "05406841331172530634"
     },
     "user_tz": 480
    },
    "id": "4CI641v34Nsy",
    "outputId": "ecb19db2-d1c0-41b5-f338-2ee08a00add0"
   },
   "outputs": [],
   "source": [
    "# we'll run this through Python Tutor\n",
    "i = 1\n",
    "while i > 0:\n",
    "  i += 1"
   ]
  },
  {
   "cell_type": "markdown",
   "metadata": {
    "id": "linvUoEA48ew"
   },
   "source": [
    "**Exercise**: a \"hailstone process\" repeatedly follows the rule\n",
    "\n",
    "$$ x \\rightarrow \\begin{cases} x / 2 && x \\text{ even} \\\\ 3x + 1 && x \\text{ odd} \\end{cases} $$\n",
    "\n",
    "The hailstone process starting with any positive integer always goes to 1 (this is called the \"Collatz conjecture\".) Find the number of steps it takes to go from 100 to 1 using this process."
   ]
  },
  {
   "cell_type": "code",
   "execution_count": null,
   "metadata": {
    "colab": {
     "base_uri": "https://localhost:8080/"
    },
    "executionInfo": {
     "elapsed": 156,
     "status": "ok",
     "timestamp": 1704928150401,
     "user": {
      "displayName": "Tadashi Lewis",
      "userId": "08924533963653565366"
     },
     "user_tz": 480
    },
    "id": "0dRhE-GT4ubv",
    "outputId": "7ff25990-ebf5-4401-f1cf-8409fb8e8c62"
   },
   "outputs": [],
   "source": [
    "# your code here!"
   ]
  }
 ],
 "metadata": {
  "colab": {
   "provenance": []
  },
  "kernelspec": {
   "display_name": "Python 3 (ipykernel)",
   "language": "python",
   "name": "python3"
  },
  "language_info": {
   "codemirror_mode": {
    "name": "ipython",
    "version": 3
   },
   "file_extension": ".py",
   "mimetype": "text/x-python",
   "name": "python",
   "nbconvert_exporter": "python",
   "pygments_lexer": "ipython3",
   "version": "3.9.13"
  }
 },
 "nbformat": 4,
 "nbformat_minor": 4
}
